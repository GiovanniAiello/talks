{
 "cells": [
  {
   "cell_type": "markdown",
   "metadata": {
    "collapsed": false,
    "slideshow": {
     "slide_type": "slide"
    }
   },
   "source": [
    "# Introduction to Structural Estimation\n",
    "\n",
    "<font size=\"3\"> ... background material available at <a href=\"https://github.com/softecon/talks\">https://github.com/softecon/talks</a>  </font>"
   ]
  },
  {
   "cell_type": "markdown",
   "metadata": {
    "slideshow": {
     "slide_type": "slide"
    }
   },
   "source": [
    "## Assessing the Reliability of Structural Econometric Models\n",
    "\n",
    "* ***Verification*** How accurately does the computational model solve the underlying equations of the model for the quantities of interest?\n",
    "\n",
    "* ***Validation*** How accurately does the model represent the reality for the quantities of interest?\n",
    "\n",
    "* ***Uncertainty Quantification*** How do the various sources of error and uncertainty feed into uncertainty in the model-based prediction of the quantities of interest?"
   ]
  }
 ],
 "metadata": {
  "celltoolbar": "Slideshow",
  "kernelspec": {
   "display_name": "Python 3",
   "language": "python",
   "name": "python3"
  },
  "language_info": {
   "codemirror_mode": {
    "name": "ipython",
    "version": 3
   },
   "file_extension": ".py",
   "mimetype": "text/x-python",
   "name": "python",
   "nbconvert_exporter": "python",
   "pygments_lexer": "ipython3",
   "version": "3.5.2"
  }
 },
 "nbformat": 4,
 "nbformat_minor": 0
}
