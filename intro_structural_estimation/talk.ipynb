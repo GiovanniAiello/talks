{
 "cells": [
  {
   "cell_type": "markdown",
   "metadata": {
    "collapsed": false,
    "slideshow": {
     "slide_type": "slide"
    }
   },
   "source": [
    "# Introduction to Structural Estimation\n",
    "\n",
    "<font size=\"3\"> ... background material available at <a href=\"https://github.com/softecon/talks\">https://github.com/softecon/talks</a>  </font>"
   ]
  },
  {
   "cell_type": "markdown",
   "metadata": {
    "slideshow": {
     "slide_type": "slide"
    }
   },
   "source": [
    "## Usefulness of Structural Econometric Models\n",
    "\n",
    "* ***Verification*** How accurately does the computational model solve the underlying equations of the model for the quantities of interest?\n",
    "\n",
    "* ***Validation*** How accurately does the model represent the reality for the quantities of interest?\n",
    "\n",
    "* ***Uncertainty Quantification*** How do the various sources of error and uncertainty feed into uncertainty in the model-based prediction of the quantities of interest?"
   ]
  },
  {
   "cell_type": "markdown",
   "metadata": {
    "collapsed": true,
    "slideshow": {
     "slide_type": "slide"
    }
   },
   "source": [
    "<img src='images/venn_diagram.png' width='750' height='750'>"
   ]
  },
  {
   "cell_type": "markdown",
   "metadata": {
    "slideshow": {
     "slide_type": "slide"
    }
   },
   "source": [
    "**Goals of Structural Estimation**\n",
    "* What are the consequences of proposed policies never tried before? What would be an optimal policy?\n",
    "\n",
    "* What are the economics driving observed patterns in the data?"
   ]
  },
  {
   "cell_type": "markdown",
   "metadata": {
    "slideshow": {
     "slide_type": "slide"
    }
   },
   "source": [
    "**Objects of Interest**\n",
    "* individual's Utility Function\n",
    "    * risk aversion\n",
    "    * desire for probabilistic protection\n",
    "    * elasticity of (intertemporal) substitution\n",
    "    * discount factors\n",
    "    \n",
    "* Firm's Production Function\n",
    "    * elasticity of substitution\n",
    "\n",
    "* Econmic Environment\n",
    "    * level of uncertainty\n",
    "    \n",
    "$\\rightarrow$ Deep structural parameters that are policy invariant."
   ]
  },
  {
   "cell_type": "markdown",
   "metadata": {
    "slideshow": {
     "slide_type": "slide"
    }
   },
   "source": [
    "**Alternative Estimation Strategies**\n",
    "\n",
    "* Classical\n",
    "    * Maximum Likelihood  \n",
    "    * Method of Moments\n",
    "    * Generalized Method of Moments\n",
    "\n",
    "* Simulation-based\n",
    "    * Simulated Maximum Likelihood\n",
    "    * Simulated Method of Moments\n",
    "    * Indirect Inference"
   ]
  },
  {
   "cell_type": "markdown",
   "metadata": {
    "slideshow": {
     "slide_type": "slide"
    }
   },
   "source": [
    "#### Classical Maximum Likelihood Estimation**\n",
    "\n",
    "\n",
    "$$\n",
    "\\begin{align*}\n",
    "\\hat{\\theta} = \\arg \\max_{\\theta} \\ln \\mathcal{L}(x, P(\\theta))\n",
    "\\end{align*}\n",
    "$$\n",
    "\n",
    ", where\n",
    "\n",
    "$$\n",
    "\\begin{align*}\n",
    "\\mathcal{L}(x,\\theta) & = \\prod^J_{j = 1} \\prod^I_{i = 1} P_j(\\theta)^{I(x_j = 1)} = \\prod^J_{j=1} P_j(\\theta)^{N_j} \\\\\n",
    "\\ln \\mathcal{L} & = \\sum^J_{j=1} N_j \\ln(P_j(\\theta))\n",
    "\\end{align*}\n",
    "$$\n"
   ]
  },
  {
   "cell_type": "markdown",
   "metadata": {},
   "source": [
    "#### Method of Moments\n",
    "\n",
    "\n",
    "$$\n",
    "\\begin{align*}\n",
    "\\hat{\\theta} = \\arg \\max_{\\theta} (\\mu(\\theta) - m(x))^2\n",
    "\\end{align*}\n",
    "$$\n",
    "\n",
    "**Generalized Method of Moments**\n",
    "$$\n",
    "\\begin{align*}\n",
    "\\hat{\\theta} = \\arg \\max_{\\theta} (\\mu(\\theta) - m(x))' W (\\mu(\\theta) - m(x))\n",
    "\\end{align*}\n",
    "$$\n",
    "\n",
    "* Which and how many moments to choose?\n",
    "* How to choose the weighing matrix?"
   ]
  },
  {
   "cell_type": "markdown",
   "metadata": {
    "slideshow": {
     "slide_type": "slide"
    }
   },
   "source": [
    "<center> <b><font size='6'> Maximum-Likelihood Estimation, S = 100</font></b></center>\n",
    "<img src='images/criterion_maximum_likelihood_100.png' width='750' height='750'>"
   ]
  },
  {
   "cell_type": "markdown",
   "metadata": {
    "slideshow": {
     "slide_type": "slide"
    }
   },
   "source": [
    "<center> <b><font size='6'> Method of Moments Estimation, S = 100</font></b></center>\n",
    "<img src='images/criterion_method_moments_100.png' width='750' height='750'>"
   ]
  },
  {
   "cell_type": "markdown",
   "metadata": {
    "slideshow": {
     "slide_type": "slide"
    }
   },
   "source": [
    "<center> <b><font size='6'> Maximum-Likelihood Estimation, S = 1,000</font></b></center>\n",
    "<img src='images/criterion_maximum_likelihood_1000.png' width='750' height='750'>"
   ]
  },
  {
   "cell_type": "markdown",
   "metadata": {
    "slideshow": {
     "slide_type": "slide"
    }
   },
   "source": [
    "## Research Examples"
   ]
  },
  {
   "cell_type": "markdown",
   "metadata": {
    "slideshow": {
     "slide_type": "slide"
    }
   },
   "source": [
    "* Eisenhauer, P., Heckman, J., and Mosso, S. (2015).  The Estimation of Dynamic Discrete Choice Models by Maximum Likelihood and the Simulated Method of Moments. *International Economic Review*, 56(2):331-357.\n",
    "\n",
    "    * Comparison of Classical and Simulation-based Estimation\n",
    "    \n",
    "    * Choice of Weighing Matrix\n",
    "    \n",
    "    * Choices of Optimization Algorithm"
   ]
  },
  {
   "cell_type": "markdown",
   "metadata": {
    "slideshow": {
     "slide_type": "slide"
    }
   },
   "source": [
    "<center> <b><font size='6'> Choice of Weighing Matrix</font></b></center>\n",
    "<img src='images/weighing_matrix.png' width='750' height='750'>"
   ]
  },
  {
   "cell_type": "markdown",
   "metadata": {
    "slideshow": {
     "slide_type": "slide"
    }
   },
   "source": [
    "<center> <b><font size='6'> Choice of Algorithm</font></b></center>\n",
    "<img src='images/algorithm.png' width='750' height='750'>"
   ]
  },
  {
   "cell_type": "markdown",
   "metadata": {
    "slideshow": {
     "slide_type": "slide"
    }
   },
   "source": [
    "* Eisenhauer, P. (2016). The Approximate Solution of Finite-Horizon Discrete Choice Dynamic Programming Models: Revisiting Keane & Wolpin (1994),  *submitted*.\n",
    "\n",
    "\n",
    "\n",
    "**Interpolation Function**\n",
    "    \n",
    "$$\\begin{align*}\n",
    "E \\max - \\max E = \\pi_0 + \\sum^4_{j = 1} \\pi_{1j} (\\max E - \\bar{V}_j) +\n",
    "\\sum^4_{j = 1} \\pi_{2j} \\left(\\max E - \\bar{V}_j\\right)^{\\tfrac{1}{2}}\n",
    "\\end{align*}$$"
   ]
  },
  {
   "cell_type": "markdown",
   "metadata": {
    "slideshow": {
     "slide_type": "slide"
    }
   },
   "source": [
    "<center> <b><font size='6'>Approximation Scheme and Simulation</font></b></center>\n",
    "<img src='images/table_approximation_simulation.png' width='750' height='750'>"
   ]
  },
  {
   "cell_type": "markdown",
   "metadata": {
    "slideshow": {
     "slide_type": "slide"
    }
   },
   "source": [
    "<center> <b><font size='6'>Approximation Scheme and Estimation</font></b></center>\n",
    "<img src='images/table_approximation_estimation.png' width='750' height='750'>"
   ]
  },
  {
   "cell_type": "markdown",
   "metadata": {
    "slideshow": {
     "slide_type": "slide"
    }
   },
   "source": [
    "## Practical Estimation Exercise"
   ]
  },
  {
   "cell_type": "markdown",
   "metadata": {
    "slideshow": {
     "slide_type": "slide"
    }
   },
   "source": [
    "<img src='images/documentation.png' width='750' height='750'>"
   ]
  },
  {
   "cell_type": "markdown",
   "metadata": {
    "slideshow": {
     "slide_type": "slide"
    }
   },
   "source": [
    "<center> <b><font size='6'> Curse of Dimensionality</font></b></center>\n",
    "<img src='images/decision_nodes.png' width='750' height='750'>"
   ]
  },
  {
   "cell_type": "markdown",
   "metadata": {
    "slideshow": {
     "slide_type": "slide"
    }
   },
   "source": [
    "**Typical Workflow on Compute Machine**\n",
    "\n",
    "* **respy-compare**, compare the observed and simulated economies\n",
    "\n",
    "* **respy-estimate**, start an estimation run\n",
    "    * *just-in-time* monitoring of progress and quality\n",
    "\n",
    "* **respy-update**, update the initialization files with estimation results\n",
    "\n",
    "* **respy-modify**, modify the parametrization in the initialization file"
   ]
  }
 ],
 "metadata": {
  "celltoolbar": "Slideshow",
  "kernelspec": {
   "display_name": "Python 3",
   "language": "python",
   "name": "python3"
  },
  "language_info": {
   "codemirror_mode": {
    "name": "ipython",
    "version": 3
   },
   "file_extension": ".py",
   "mimetype": "text/x-python",
   "name": "python",
   "nbconvert_exporter": "python",
   "pygments_lexer": "ipython3",
   "version": "3.5.2"
  }
 },
 "nbformat": 4,
 "nbformat_minor": 0
}
