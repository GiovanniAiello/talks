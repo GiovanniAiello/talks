{
 "cells": [
  {
   "cell_type": "markdown",
   "metadata": {
    "collapsed": false,
    "slideshow": {
     "slide_type": "slide"
    }
   },
   "source": [
    "# Introduction to Structural Estimation\n",
    "\n",
    "<font size=\"3\"> ... background material available at <a href=\"https://github.com/softecon/talks\">https://github.com/softecon/talks</a>  </font>"
   ]
  },
  {
   "cell_type": "markdown",
   "metadata": {
    "slideshow": {
     "slide_type": "slide"
    }
   },
   "source": [
    "## Usefulness of Structural Econometric Models\n",
    "\n",
    "* ***Verification*** How accurately does the computational model solve the underlying equations of the model for the quantities of interest?\n",
    "\n",
    "* ***Validation*** How accurately does the model represent the reality for the quantities of interest?\n",
    "\n",
    "* ***Uncertainty Quantification*** How do the various sources of error and uncertainty feed into uncertainty in the model-based prediction of the quantities of interest?"
   ]
  },
  {
   "cell_type": "markdown",
   "metadata": {
    "collapsed": true,
    "slideshow": {
     "slide_type": "slide"
    }
   },
   "source": [
    "<img src='images/venn_diagram.png' width='750' height='750'>"
   ]
  },
  {
   "cell_type": "markdown",
   "metadata": {
    "slideshow": {
     "slide_type": "slide"
    }
   },
   "source": [
    "### Goals of Structural Estimation \n",
    "\n",
    "* What are the consequences of proposed policies never tried before? What would be an optimal policy?\n",
    "\n",
    "* What are the economics driving observed patterns in the data?"
   ]
  },
  {
   "cell_type": "markdown",
   "metadata": {
    "slideshow": {
     "slide_type": "slide"
    }
   },
   "source": [
    "### Objects of Interest \n",
    "\n",
    "* Individual's Utility Function\n",
    "    * risk preference\n",
    "    * desire for probabilistic protection\n",
    "    * elasticity of (intertemporal) substitution\n",
    "    * discount factors\n",
    "    \n",
    "* Firm's Production Function\n",
    "    * elasticity of (input) substitution\n",
    "\n",
    "* Econmic Environment\n",
    "    * level of uncertainty\n",
    "    \n",
    "$\\rightarrow$ Deep structural parameters that are policy invariant."
   ]
  },
  {
   "cell_type": "markdown",
   "metadata": {
    "slideshow": {
     "slide_type": "slide"
    }
   },
   "source": [
    "### Alternative Estimation Strategies\n",
    "\n",
    "* Traditional\n",
    "    * Maximum Likelihood  \n",
    "    * Method of Moments\n",
    "    * Generalized Method of Moments\n",
    "\n",
    "* Simulation-Based\n",
    "    * Simulated Maximum Likelihood\n",
    "    * Simulated Method of Moments\n",
    "    * Indirect Inference"
   ]
  },
  {
   "cell_type": "markdown",
   "metadata": {
    "slideshow": {
     "slide_type": "slide"
    }
   },
   "source": [
    "## Toy Example\n",
    "\n",
    "\n",
    "$$\n",
    "\\begin{align*}\n",
    "& \\\\\n",
    "V^* &= \\theta + \\epsilon, \\qquad \\epsilon \\sim \\mathcal{N}(0, 1)\\\\ \n",
    " & \\\\\n",
    "D & = \\begin{cases}\n",
    "1 & V^* > 0 \\\\\n",
    "0 & \\text{otherwise}\\\\\n",
    "\\end{cases}\n",
    "& \\\\\n",
    "& \\\\\n",
    "\\Pr[D & = 1 \\mid \\theta]  = P(\\theta) = \\Phi(\\theta)\\\\\n",
    "\\end{align*}\n",
    "$$"
   ]
  },
  {
   "cell_type": "markdown",
   "metadata": {
    "slideshow": {
     "slide_type": "slide"
    }
   },
   "source": [
    "#### Maximum Likelihood Estimation \n",
    "\n",
    "We attempt to find the values of the parameters which would have most likely produced the empirical data.\n",
    "\n",
    "$$\n",
    "\\begin{align*}\n",
    "& \\\\\n",
    "\\hat{\\theta}^{ML} = \\arg \\max_{\\theta} \\log \\mathcal{L}(\\theta; D)\n",
    "\\end{align*}\n",
    "$$\n",
    "\n",
    "In our case, the criterion function is straightforward to derive.\n",
    "\n",
    "$$\n",
    "\\begin{align*}\n",
    " \\log \\mathcal{L}(\\theta; D) & = \\sum^N_{i} D_i \\log P(\\theta) + (1 - D_i) \\log(1 - P(\\theta)) \\\\\n",
    "\\end{align*}\n",
    "$$"
   ]
  },
  {
   "cell_type": "markdown",
   "metadata": {
    "slideshow": {
     "slide_type": "slide"
    }
   },
   "source": [
    "#### Method of Moments\n",
    "\n",
    "We attempt to minimize the discrepancy between observed and theoretical moments.\n",
    "\n",
    "$$\n",
    "\\begin{align*}\n",
    "\\\\\n",
    "\\hat{\\theta}^{MM} & = \\arg \\min_{\\theta} (\\mu(\\theta) - m(D))^2 \\\\\n",
    "& \\\\\n",
    "\\end{align*}\n",
    "$$\n",
    "\n",
    "For example, we can use the first moments.\n",
    "\n",
    "$$\n",
    "\\begin{align*}\n",
    "&\\\\ \n",
    "\\mu(\\theta) & = E[D] = P(\\theta) = \\Phi(\\theta) \\\\\n",
    "m(D)  & = \\frac{1}{N} \\sum^N_{i = 1} D_i\n",
    "\\end{align*}\n",
    "$$\n",
    "\n"
   ]
  },
  {
   "cell_type": "markdown",
   "metadata": {
    "slideshow": {
     "slide_type": "slide"
    }
   },
   "source": [
    "#### Generalized Method of Moments\n",
    "\n",
    "We attempt to minimize a weighted discrepancy between the observed and theoretical moments.\n",
    "\n",
    "$$\n",
    "\\begin{align*}\n",
    "\\\\\n",
    "\\hat{\\theta}^{GMM} = \\arg \\min_{\\theta} (\\mu(\\theta) - m(D))' W (\\mu(\\theta) - m(D))\n",
    "\\end{align*}\n",
    "$$\n",
    "\n",
    "* Which and how many moments to choose?\n",
    "\n",
    "* How to choose the weighing matrix?"
   ]
  },
  {
   "cell_type": "markdown",
   "metadata": {
    "slideshow": {
     "slide_type": "slide"
    }
   },
   "source": [
    "### Simulation-Based Estimation\n",
    "\n",
    "$$\n",
    "\\begin{align*}\n",
    "\\\\\n",
    "P(\\theta) = \\int^{\\theta}_{-\\infty} \\phi(\\epsilon) d\\epsilon = \\int^{\\infty}_{-\\infty} I[\\theta + \\epsilon > 0]\\phi(\\epsilon) d\\epsilon\n",
    "\\end{align*}\n",
    "$$\n",
    "\n",
    "We could evaluate the choice probability by simply drawing a set of $R$ standard normal deviates and applying the indicator function to each one.  \n",
    "\n",
    "$$\n",
    "\\begin{align*}\n",
    "\\hat{P}(\\theta) = \\frac{1}{R} \\sum^R_{r=1} I[\\theta + \\epsilon^r > 0]\n",
    "\\end{align*}\n",
    "$$\n",
    "\n"
   ]
  },
  {
   "cell_type": "code",
   "execution_count": 4,
   "metadata": {
    "collapsed": true,
    "slideshow": {
     "slide_type": "slide"
    }
   },
   "outputs": [],
   "source": [
    "def criterion_ml(theta, data_obs, type_, num_sim):\n",
    "    \"\"\" This function evaluates the criterion for traditional and\n",
    "    simulation-based maximum likelihood estimation.\n",
    "    \"\"\"\n",
    "    if type_ == 'traditional':\n",
    "        probs = norm.cdf(theta)\n",
    "    elif type_ == 'AR-simulator':\n",
    "        data_sim, _ = simulate_sample(theta, num_sim)\n",
    "        probs = np.mean(data_sim)\n",
    "    else:\n",
    "        raise AssertionError('Invalid request')\n",
    "\n",
    "    rslt = data_obs * np.log(probs) + (1.0 - data_obs) * np.log(1.0 - probs)\n",
    "\n",
    "    return np.sum(rslt)"
   ]
  },
  {
   "cell_type": "markdown",
   "metadata": {
    "slideshow": {
     "slide_type": "slide"
    }
   },
   "source": [
    "<center> <b><font size='6'> Maximum-Likelihood Estimation, R = 100</font></b></center>\n",
    "<img src='images/criterion_maximum_likelihood_100.png' width='750' height='750'>"
   ]
  },
  {
   "cell_type": "markdown",
   "metadata": {
    "slideshow": {
     "slide_type": "slide"
    }
   },
   "source": [
    "<center> <b><font size='6'> Method of Moments Estimation, R = 100</font></b></center>\n",
    "<img src='images/criterion_method_moments_100.png' width='750' height='750'>"
   ]
  },
  {
   "cell_type": "markdown",
   "metadata": {
    "slideshow": {
     "slide_type": "slide"
    }
   },
   "source": [
    "<center> <b><font size='6'> Maximum-Likelihood Estimation, R = 10,000</font></b></center>\n",
    "<img src='images/criterion_maximum_likelihood_10000.png' width='750' height='750'>"
   ]
  },
  {
   "cell_type": "markdown",
   "metadata": {
    "slideshow": {
     "slide_type": "slide"
    }
   },
   "source": [
    "### Logit-Smoothed Accept-Reject Simulator\n",
    "\n",
    "$$\n",
    "\\begin{align*}\n",
    "\\\\\n",
    "\\hat{P}(\\theta) = \\frac{1}{R} \\sum^R_{r=1} \\frac{\\exp\\{(\\theta + \\epsilon_r) \\lambda^{-1}\\}}{1 + \\exp\\{(\\theta + \\epsilon_r) \\lambda^{-1}\\}}\\\\\n",
    "\\end{align*}\n",
    "$$\n",
    "\n",
    "* simulated probabilities are smooth in the parameters\n",
    "\n",
    "* no occurance of zero-probability events."
   ]
  },
  {
   "cell_type": "markdown",
   "metadata": {
    "slideshow": {
     "slide_type": "slide"
    }
   },
   "source": [
    "<center> <b><font size='6'> Logit Function</font></b></center>\n",
    "<img src='images/logit_function.png' width='750' height='750'>"
   ]
  },
  {
   "cell_type": "code",
   "execution_count": 9,
   "metadata": {
    "collapsed": true,
    "slideshow": {
     "slide_type": "slide"
    }
   },
   "outputs": [],
   "source": [
    "def criterion_mm(theta, data_obs, type_, num_sim, lambda_):\n",
    "    \"\"\" This function evaluates the criterion for traditional and \n",
    "    simulation-based method of moments estimation. \n",
    "    \"\"\"\n",
    "    if type_ == 'traditional':\n",
    "        stat = norm.cdf(theta)[0]\n",
    "    elif type_ == 'AR-simulator':\n",
    "        data_sim, _ = simulate_sample(theta, num_sim)\n",
    "        stat = np.mean(data_sim)\n",
    "    elif type_ == 'smoothed-AR-simulator':\n",
    "        _, u = simulate_sample(theta, num_sim)\n",
    "        stat = np.mean(get_smoothed_probabilities(u, lambda_), axis=0)[1]\n",
    "    else:\n",
    "        raise AssertionError('Invalid request')\n",
    "\n",
    "    rslt = (np.mean(data_obs) - stat) ** 2\n",
    "\n",
    "    return rslt"
   ]
  },
  {
   "cell_type": "markdown",
   "metadata": {
    "slideshow": {
     "slide_type": "slide"
    }
   },
   "source": [
    "<center> <b><font size='6'> Method of Moments Estimation, Smoothing</font></b></center>\n",
    "<img src='images/smoothing_functions.png' width='750' height='750'>"
   ]
  },
  {
   "cell_type": "markdown",
   "metadata": {
    "slideshow": {
     "slide_type": "slide"
    }
   },
   "source": [
    "### Indirect Inference\n",
    "\n",
    "The basic idea is to use an auxiliary model to describe the data and use its parameters as the empirical moments. Our goal then is to minimize the discrepancy between simulated and observed moments. Alternative distance metrics exist and often a weighting matrix is used.\n",
    "\n",
    "$$\n",
    "\\begin{align*}\n",
    "\\\\\n",
    "\\hat{\\theta} = \\arg\\min_{\\theta} (\\hat{\\beta}^{OBS} -  \\hat{\\beta}^{II}(\\theta))^2\n",
    "\\end{align*}\n",
    "$$"
   ]
  },
  {
   "cell_type": "markdown",
   "metadata": {
    "slideshow": {
     "slide_type": "slide"
    }
   },
   "source": [
    "<center> <b><font size='6'> Indirect Inference</font></b></center>\n",
    "<img src='images/illustration_indirect_inference.png' width='750' height='750'>"
   ]
  },
  {
   "cell_type": "markdown",
   "metadata": {
    "slideshow": {
     "slide_type": "slide"
    }
   },
   "source": [
    "## Research Examples"
   ]
  },
  {
   "cell_type": "markdown",
   "metadata": {
    "slideshow": {
     "slide_type": "slide"
    }
   },
   "source": [
    "* Eisenhauer, P., Heckman, J., and Mosso, S. (2015).  The Estimation of Dynamic Discrete Choice Models by Maximum Likelihood and the Simulated Method of Moments. *International Economic Review*, 56(2):331-357.\n",
    "\n",
    "    * Comparison of Traditional and Simulation-Based Estimation\n",
    "    \n",
    "    * Choice of Weighing Matrix\n",
    "    \n",
    "    * Choices of Optimization Algorithm"
   ]
  },
  {
   "cell_type": "markdown",
   "metadata": {
    "slideshow": {
     "slide_type": "slide"
    }
   },
   "source": [
    "<center> <b><font size='6'> Choice of Weighing Matrix</font></b></center>\n",
    "<img src='images/weighing_matrix.png' width='750' height='750'>"
   ]
  },
  {
   "cell_type": "markdown",
   "metadata": {
    "slideshow": {
     "slide_type": "slide"
    }
   },
   "source": [
    "<center> <b><font size='6'> Choice of Algorithm</font></b></center>\n",
    "<img src='images/algorithm.png' width='750' height='750'>"
   ]
  },
  {
   "cell_type": "markdown",
   "metadata": {
    "slideshow": {
     "slide_type": "slide"
    }
   },
   "source": [
    "* Eisenhauer, P. (2016). The Approximate Solution of Finite-Horizon Discrete Choice Dynamic Programming Models: Revisiting Keane & Wolpin (1994),  *submitted*.\n",
    "\n",
    "    * Quality Diagnostics of $E\\max$ Approximation"
   ]
  },
  {
   "cell_type": "markdown",
   "metadata": {
    "slideshow": {
     "slide_type": "slide"
    }
   },
   "source": [
    "#### Interpolation Function\n",
    "      \n",
    "$$\\begin{align*}\n",
    "\\\\\n",
    "E \\max - \\max E = \\pi_0 + \\sum^4_{j = 1} \\pi_{1j} (\\max E - \\bar{V}_j) +\n",
    "\\sum^4_{j = 1} \\pi_{2j} \\left(\\max E - \\bar{V}_j\\right)^{\\tfrac{1}{2}}\n",
    "\\end{align*}$$"
   ]
  },
  {
   "cell_type": "markdown",
   "metadata": {
    "slideshow": {
     "slide_type": "slide"
    }
   },
   "source": [
    "<center> <b><font size='6'>Approximation Scheme and Simulation</font></b></center>\n",
    "<img src='images/table_approximation_simulation.png' width='750' height='750'>"
   ]
  },
  {
   "cell_type": "markdown",
   "metadata": {
    "slideshow": {
     "slide_type": "slide"
    }
   },
   "source": [
    "<center> <b><font size='6'>Approximation Scheme and Estimation</font></b></center>\n",
    "<img src='images/table_approximation_estimation.png' width='750' height='750'>"
   ]
  },
  {
   "cell_type": "markdown",
   "metadata": {
    "slideshow": {
     "slide_type": "slide"
    }
   },
   "source": [
    "## Practical Estimation Exercise"
   ]
  },
  {
   "cell_type": "markdown",
   "metadata": {
    "slideshow": {
     "slide_type": "slide"
    }
   },
   "source": [
    "#### Transparency, Recomputability, and Extensibility \n",
    "\n",
    "* [http://respy.readthedocs.io](http://respy.readthedocs.io)\n",
    "\n",
    "    * Tutorial\n",
    "\n",
    "    * Numerical Details\n",
    "\n",
    "    * Reliability\n",
    "\n",
    "    * Scalability\n",
    "\n",
    "    * Quality Assurance"
   ]
  },
  {
   "cell_type": "markdown",
   "metadata": {
    "slideshow": {
     "slide_type": "slide"
    }
   },
   "source": [
    "<img src='images/documentation.png' width='750' height='750'>"
   ]
  },
  {
   "cell_type": "markdown",
   "metadata": {
    "slideshow": {
     "slide_type": "slide"
    }
   },
   "source": [
    "<center> <b><font size='6'> Curse of Dimensionality</font></b></center>\n",
    "<img src='images/decision_nodes.png' width='750' height='750'>"
   ]
  },
  {
   "cell_type": "markdown",
   "metadata": {
    "slideshow": {
     "slide_type": "slide"
    }
   },
   "source": [
    "#### Typical Workflow on Compute Machine \n",
    "\n",
    "* **respy-compare**, compare the observed and simulated economies\n",
    "\n",
    "* **respy-estimate**, start an estimation run\n",
    "    * *just-in-time* monitoring of progress and quality\n",
    "\n",
    "* **respy-update**, update the initialization files with estimation results\n",
    "\n",
    "* **respy-modify**, modify the parametrization in the initialization file"
   ]
  },
  {
   "cell_type": "markdown",
   "metadata": {
    "slideshow": {
     "slide_type": "slide"
    }
   },
   "source": [
    "<style>\n",
    "li { margin: 1em 3em; padding: 0.2em; }\n",
    "</style>\n",
    "\n",
    "<h2>Contact</h2>\n",
    "\n",
    "<br><br>\n",
    "<b>Philipp Eisenhauer</b>\n",
    "<ul>\n",
    "  <li> Mail  <a href=\"mailto:eisenhauer@policy-lab.org\">eisenhauer@policy-lab.org</a></li><br>\n",
    "   <li>Web  <a href=\"http://eisenhauer.io\">http://eisenhauer.io</a></li><br>\n",
    "  <li>Repository  <a href=\"https://github.com/peisenha\">https://github.com/peisenha</a></li>\n",
    "</ul>\n",
    "\n",
    "<br><br>\n",
    "<b>Software Engineering for Economists Initiative</b>\n",
    "<ul>\n",
    "  <li>Overview  <a href=\"http://softecon.github.io\">http://softecon.github.io</a></li><br>\n",
    "  <li>Repository  <a href=\"https://github.com/softEcon\">https://github.com/softEcon</a></li><br>\n",
    "\n",
    "<br>\n",
    "</ul>\n"
   ]
  }
 ],
 "metadata": {
  "celltoolbar": "Slideshow",
  "kernelspec": {
   "display_name": "Python 3",
   "language": "python",
   "name": "python3"
  },
  "language_info": {
   "codemirror_mode": {
    "name": "ipython",
    "version": 3
   },
   "file_extension": ".py",
   "mimetype": "text/x-python",
   "name": "python",
   "nbconvert_exporter": "python",
   "pygments_lexer": "ipython3",
   "version": "3.5.2"
  }
 },
 "nbformat": 4,
 "nbformat_minor": 0
}
