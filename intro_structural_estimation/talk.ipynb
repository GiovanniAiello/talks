{
 "cells": [
  {
   "cell_type": "markdown",
   "metadata": {
    "collapsed": false,
    "slideshow": {
     "slide_type": "slide"
    }
   },
   "source": [
    "# Introduction to Structural Estimation\n",
    "\n",
    "<font size=\"3\"> ... background material available at <a href=\"https://github.com/softecon/talks\">https://github.com/softecon/talks</a>  </font>"
   ]
  },
  {
   "cell_type": "markdown",
   "metadata": {
    "slideshow": {
     "slide_type": "slide"
    }
   },
   "source": [
    "## Usefulness of Structural Econometric Models\n",
    "\n",
    "* ***Verification*** How accurately does the computational model solve the underlying equations of the model for the quantities of interest?\n",
    "\n",
    "* ***Validation*** How accurately does the model represent the reality for the quantities of interest?\n",
    "\n",
    "* ***Uncertainty Quantification*** How do the various sources of error and uncertainty feed into uncertainty in the model-based prediction of the quantities of interest?"
   ]
  },
  {
   "cell_type": "markdown",
   "metadata": {
    "collapsed": true,
    "slideshow": {
     "slide_type": "slide"
    }
   },
   "source": [
    "<img src='images/venn_diagram.png' width='750' height='750'>"
   ]
  },
  {
   "cell_type": "markdown",
   "metadata": {
    "slideshow": {
     "slide_type": "slide"
    }
   },
   "source": [
    "<center> <b><font size='6'> Maximum-Likelihood Estimation, S = 100</font></b></center>\n",
    "<img src='images/criterion_maximum_likelihood_100.png' width='750' height='750'>"
   ]
  },
  {
   "cell_type": "markdown",
   "metadata": {
    "slideshow": {
     "slide_type": "slide"
    }
   },
   "source": [
    "<center> <b><font size='6'> Method of Moments Estimation, S = 100</font></b></center>\n",
    "<img src='images/criterion_method_moments_100.png' width='750' height='750'>"
   ]
  },
  {
   "cell_type": "markdown",
   "metadata": {
    "slideshow": {
     "slide_type": "slide"
    }
   },
   "source": [
    "<center> <b><font size='6'> Maximum-Likelihood Estimation, S = 1,000</font></b></center>\n",
    "<img src='images/criterion_maximum_likelihood_1000.png' width='750' height='750'>"
   ]
  },
  {
   "cell_type": "markdown",
   "metadata": {
    "slideshow": {
     "slide_type": "slide"
    }
   },
   "source": [
    "## Research Examples"
   ]
  },
  {
   "cell_type": "markdown",
   "metadata": {
    "slideshow": {
     "slide_type": "slide"
    }
   },
   "source": [
    "* Eisenhauer, P., Heckman, J., and Mosso, S. (2015).  The Estimation of Dynamic Discrete Choice Models by Maximum Likelihood and the Simulated Method of Moments. *International Economic Review*, 56(2):331-357.\n",
    "\n",
    "    * Choice of Weighing Matrix\n",
    "    \n",
    "    * Choices of Optimization Algorithm"
   ]
  },
  {
   "cell_type": "markdown",
   "metadata": {
    "slideshow": {
     "slide_type": "slide"
    }
   },
   "source": [
    "<center> <b><font size='6'> Choice of Weighing Matrix</font></b></center>\n",
    "<img src='images/weighing_matrix.png' width='750' height='750'>"
   ]
  },
  {
   "cell_type": "markdown",
   "metadata": {
    "slideshow": {
     "slide_type": "slide"
    }
   },
   "source": [
    "<center> <b><font size='6'> Choice of Algorithm</font></b></center>\n",
    "<img src='images/algorithm.png' width='750' height='750'>"
   ]
  },
  {
   "cell_type": "markdown",
   "metadata": {
    "slideshow": {
     "slide_type": "slide"
    }
   },
   "source": [
    "* Eisenhauer, P. (2016). The Approximate Solution of Finite-Horizon Discrete Choice Dynamic Programming Models: Revisiting Keane & Wolpin (1994),  *submitted*.\n",
    "\n",
    "\n",
    "\n",
    "**Interpolation Function**\n",
    "    \n",
    "$$\\begin{align*}\n",
    "E \\max - \\max E = \\pi_0 + \\sum^4_{j = 1} \\pi_{1j} (\\max E - \\bar{V}_j) +\n",
    "\\sum^4_{j = 1} \\pi_{2j} \\left(\\max E - \\bar{V}_j\\right)^{\\tfrac{1}{2}}\n",
    "\\end{align*}$$"
   ]
  },
  {
   "cell_type": "markdown",
   "metadata": {
    "slideshow": {
     "slide_type": "slide"
    }
   },
   "source": [
    "<center> <b><font size='6'>Approximation Scheme and Simulation</font></b></center>\n",
    "<img src='images/table_approximation_simulation.png' width='750' height='750'>"
   ]
  },
  {
   "cell_type": "markdown",
   "metadata": {
    "slideshow": {
     "slide_type": "slide"
    }
   },
   "source": [
    "<center> <b><font size='6'>Approximation Scheme and Estimation</font></b></center>\n",
    "<img src='images/table_approximation_estimation.png' width='750' height='750'>"
   ]
  },
  {
   "cell_type": "markdown",
   "metadata": {
    "slideshow": {
     "slide_type": "slide"
    }
   },
   "source": [
    "## Practical Estimation Exercise"
   ]
  },
  {
   "cell_type": "markdown",
   "metadata": {
    "slideshow": {
     "slide_type": "slide"
    }
   },
   "source": [
    "<img src='images/documentation.png' width='750' height='750'>"
   ]
  },
  {
   "cell_type": "markdown",
   "metadata": {
    "slideshow": {
     "slide_type": "slide"
    }
   },
   "source": [
    "<center> <b><font size='6'> Curse of Dimensionality</font></b></center>\n",
    "<img src='images/decision_nodes.png' width='750' height='750'>"
   ]
  },
  {
   "cell_type": "markdown",
   "metadata": {
    "slideshow": {
     "slide_type": "slide"
    }
   },
   "source": [
    "**Typical Workflow at Terminal**\n",
    "\n",
    "* **respy-compare**, compare the observed and simulated economies\n",
    "\n",
    "* **respy-estimate**, start an estimation run\n",
    "\n",
    "* **respy-update**, update the initialization files with estimation results\n",
    "\n",
    "* **respy-modify**, modify the parametrization in the initialization file"
   ]
  }
 ],
 "metadata": {
  "celltoolbar": "Slideshow",
  "kernelspec": {
   "display_name": "Python 3",
   "language": "python",
   "name": "python3"
  },
  "language_info": {
   "codemirror_mode": {
    "name": "ipython",
    "version": 3
   },
   "file_extension": ".py",
   "mimetype": "text/x-python",
   "name": "python",
   "nbconvert_exporter": "python",
   "pygments_lexer": "ipython3",
   "version": "3.5.2"
  }
 },
 "nbformat": 4,
 "nbformat_minor": 0
}
