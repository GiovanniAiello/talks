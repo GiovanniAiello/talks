{
 "cells": [
  {
   "cell_type": "markdown",
   "metadata": {
    "slideshow": {
     "slide_type": "slide"
    }
   },
   "source": [
    "# *Python* for Scientific Computing"
   ]
  },
  {
   "cell_type": "markdown",
   "metadata": {
    "slideshow": {
     "slide_type": "slide"
    }
   },
   "source": [
    "## Why *Python*?\n",
    "\n",
    "\n",
    "<style>\n",
    "table,td,tr,th {border:none!important}\n",
    "</style>\n",
    "<table style=\"width:90%\">\n",
    "  <tbody>\n",
    "    <tr height=\"40\">\n",
    "      <td style=\"vertical-align:top; padding-left:30px;\">\n",
    "          <li>general-purpose</li>\n",
    "      </td>\n",
    "      <td style=\"vertical-align:top; padding-left:30px;\">\n",
    "          <li>widely used</li>\n",
    "      </td>\n",
    "    </tr>\n",
    "    <tr height=\"40\">\n",
    "      <td style=\"vertical-align:top; padding-left:30px;\">\n",
    "          <li>high-level</li>\n",
    "      </td>\n",
    "      <td style=\"vertical-align:top; padding-left:30px;\">\n",
    "          <li>readability </li>\n",
    "      </td>\n",
    "    </tr>\n",
    "    <tr height=\"40\">\n",
    "      <td style=\"vertical-align:top; padding-left:30px;\">\n",
    "          <li>extensibility</li>\n",
    "      </td>\n",
    "        <td style=\"vertical-align:top; padding-left:30px;\">\n",
    "          <li>active community</li>\n",
    "      </td>\n",
    "    </tr>\n",
    "    </tr>\n",
    "    <tr height=\"40\">\n",
    "      <td style=\"vertical-align:top; padding-left:30px;\">\n",
    "          <li>numerous interfaces</li>\n",
    "      </td>\n",
    "    </tr>\n",
    "  </tbody>\n",
    "</table> \n",
    "\n",
    "\n"
   ]
  },
  {
   "cell_type": "code",
   "execution_count": 1,
   "metadata": {
    "collapsed": false,
    "slideshow": {
     "slide_type": "slide"
    }
   },
   "outputs": [
    {
     "name": "stdout",
     "output_type": "stream",
     "text": [
      "The Zen of Python, by Tim Peters\n",
      "\n",
      "Beautiful is better than ugly.\n",
      "Explicit is better than implicit.\n",
      "Simple is better than complex.\n",
      "Complex is better than complicated.\n",
      "Flat is better than nested.\n",
      "Sparse is better than dense.\n",
      "Readability counts.\n",
      "Special cases aren't special enough to break the rules.\n",
      "Although practicality beats purity.\n",
      "Errors should never pass silently.\n",
      "Unless explicitly silenced.\n",
      "In the face of ambiguity, refuse the temptation to guess.\n",
      "There should be one-- and preferably only one --obvious way to do it.\n",
      "Although that way may not be obvious at first unless you're Dutch.\n",
      "Now is better than never.\n",
      "Although never is often better than *right* now.\n",
      "If the implementation is hard to explain, it's a bad idea.\n",
      "If the implementation is easy to explain, it may be a good idea.\n",
      "Namespaces are one honking great idea -- let's do more of those!\n"
     ]
    }
   ],
   "source": [
    "import this"
   ]
  },
  {
   "cell_type": "markdown",
   "metadata": {
    "slideshow": {
     "slide_type": "slide"
    }
   },
   "source": [
    "## Why *Python* for Scientific Computing?\n",
    "\n",
    "* *Python* is used by computer programmers and scientists alike. Thus, tools from software engineering are readily available.\n",
    "\n",
    "* *Python* is open-source project, which ensures that all implementation details can be critically examined. No licence costs and low barriers to recomputability.\n",
    "\n",
    "* *Python* can be easily linked to high-performance languages such *C* and *Fortran*. This makes Python ideal for prototyping with a focus on readability, design patterns, and ease of testing.\n",
    "\n",
    "* *Python* has numerous high-quality libraries for scientific computing under active development."
   ]
  },
  {
   "cell_type": "markdown",
   "metadata": {
    "slideshow": {
     "slide_type": "slide"
    }
   },
   "source": [
    "<img src=\"images/codeeval2015.png\">"
   ]
  },
  {
   "cell_type": "markdown",
   "metadata": {
    "slideshow": {
     "slide_type": "slide"
    }
   },
   "source": [
    "## What do you need to get started?\n",
    "\n",
    "<style>\n",
    "table,td,tr,th {border:none!important}\n",
    "</style>\n",
    "<table style=\"width:90%\"><p>\n",
    "  <tbody>\n",
    "    <tr height=\"40\">\n",
    "      <td style=\"vertical-align:top; padding-left:30px;\">\n",
    "          <li>SciPy Stack</li>\n",
    "      </td>\n",
    "      <td style=\"vertical-align:top; padding-left:30px;\">\n",
    "          <li>Basic Example</li>\n",
    "      </td>\n",
    "    </tr>\n",
    "    <tr height=\"40\">\n",
    "      <td style=\"vertical-align:top; padding-left:30px;\">\n",
    "          <li> Integrated Development Environment</li>\n",
    "      </td>\n",
    "      <td style=\"vertical-align:top; padding-left:30px;\">\n",
    "          <li> Additional Resources</li>\n",
    "      </td>\n",
    "    </tr>\n",
    "  </tbody>\n",
    "</table> \n"
   ]
  },
  {
   "cell_type": "markdown",
   "metadata": {
    "slideshow": {
     "slide_type": "slide"
    }
   },
   "source": [
    "First things first, here is the **``Hello, World!''** program in *Python*."
   ]
  },
  {
   "cell_type": "code",
   "execution_count": 2,
   "metadata": {
    "collapsed": false,
    "slideshow": {
     "slide_type": "-"
    }
   },
   "outputs": [
    {
     "name": "stdout",
     "output_type": "stream",
     "text": [
      "Hello, World!\n"
     ]
    }
   ],
   "source": [
    "print(\"Hello, World!\")"
   ]
  },
  {
   "cell_type": "markdown",
   "metadata": {
    "slideshow": {
     "slide_type": "slide"
    }
   },
   "source": [
    "## *SciPy Stack*<br>\n",
    "\n",
    "Most of our required tools are part of the *SciPy Stack*, collection of open source software for scientific computing in *Python*.<br><br>\n",
    "\n",
    "<style>\n",
    "table,td,tr,th {border:none!important}\n",
    "</style>\n",
    "<table style=\"width:90%\">\n",
    "  <tbody>\n",
    "    <tr height=\"40\">\n",
    "      <td style=\"vertical-align:top; padding-left:30px;\">\n",
    "          <li><a href=\"http://www.scipy.org/scipylib/index.html\">SciPy Library</a></li>\n",
    "      </td>\n",
    "      <td style=\"vertical-align:top; padding-left:30px;\">\n",
    "          <li><a href=\"http://numpy.org\">NumPy</a></li>\n",
    "      </td>\n",
    "    </tr>\n",
    "    <tr height=\"40\">\n",
    "      <td style=\"vertical-align:top; padding-left:30px;\">\n",
    "          <li><a href=\"http://matplotlib.org\">Matplotlib</a></li>\n",
    "      </td>\n",
    "      <td style=\"vertical-align:top; padding-left:30px;\">\n",
    "          <li><a href=\"http://pandas.pydata.org\">pandas</a></li>\n",
    "      </td>\n",
    "    </tr>\n",
    "    <tr height=\"40\">\n",
    "      <td style=\"vertical-align:top; padding-left:30px;\">\n",
    "          <li><a href=\"http://www.sympy.org\">SymPy</a></li>\n",
    "      </td>\n",
    "      <td style=\"vertical-align:top; padding-left:30px;\">\n",
    "          <li><a href=\"http://ipython.org\">IPython</a></li>\n",
    "      </td>\n",
    "    </tr>\n",
    "    <tr height=\"40\">\n",
    "      <td style=\"vertical-align:top; padding-left:30px;\">\n",
    "          <li><a href=\"https://nose.readthedocs.org\">nose</a></li>\n",
    "      </td>\n",
    "  </tbody>\n",
    "</table> \n",
    "\n",
    "\n",
    "Depending on your particular specialization, these packages might be of additional interest to you.\n",
    "\n",
    "* [**statsmodels**](http://statsmodels.sourceforge.net) \n"
   ]
  },
  {
   "cell_type": "markdown",
   "metadata": {
    "slideshow": {
     "slide_type": "slide"
    }
   },
   "source": [
    "## Basic Example\n",
    "\n",
    "To get a feel for the language, let us work through with a basic example of using the *SciPy Stack*. We will set up a simple Ordinary Least Squares (OLS) model. \n",
    "\n",
    "$$Y=Xβ+ϵ$$\n",
    "\n",
    "We start by simulating some sythetic dataset. Then we visualize the relationship and finally fit a basic OLS regression. "
   ]
  },
  {
   "cell_type": "markdown",
   "metadata": {
    "slideshow": {
     "slide_type": "slide"
    }
   },
   "source": [
    "### Random Number Generation"
   ]
  },
  {
   "cell_type": "code",
   "execution_count": 3,
   "metadata": {
    "collapsed": true
   },
   "outputs": [],
   "source": [
    "# Import relevant libraries from the SciPy Stack\n",
    "import numpy as np\n",
    "\n",
    "# Specify parametrization\n",
    "num_agents = 1000\n",
    "num_covars = 3\n",
    "\n",
    "betas_true = np.array([0.22, 0.30, -0.1]).T\n",
    "\n",
    "# Set a random seed to ensure recomputability in light of randomness\n",
    "np.random.seed(123)\n",
    "\n",
    "# Sample exogenous agent characteristics from a uniform distribution in \n",
    "# a given shape\n",
    "X = np.random.rand(num_agents, num_covars)\n",
    "\n",
    "# Sample random disturbances from a standard normal distribution and rescale\n",
    "eps = np.random.normal(scale=0.1, size=num_agents)\n",
    "\n",
    "# Construct endogenous agent characteristic\n",
    "Y = 0.1 + np.dot(X, betas_true) + eps"
   ]
  },
  {
   "cell_type": "markdown",
   "metadata": {
    "slideshow": {
     "slide_type": "slide"
    }
   },
   "source": [
    "### Data Visualization"
   ]
  },
  {
   "cell_type": "code",
   "execution_count": 4,
   "metadata": {
    "collapsed": false
   },
   "outputs": [],
   "source": [
    "# Import relevant libraries from the SciPy Stack\n",
    "import matplotlib.pyplot as plt\n",
    "\n",
    "# Initialize canvas\n",
    "ax = plt.figure(figsize=(12, 8)).add_subplot(111, axisbg='white')\n",
    "\n",
    "# Plot synthetic sample\n",
    "ax.plot(np.dot(X, betas_true), Y, 'o')\n",
    "\n",
    "# Set axis labels and ranges\n",
    "ax.set_xlabel(r'$X\\beta$', fontsize=20)\n",
    "ax.set_ylabel(r'$Y$', fontsize=20)\n",
    "\n",
    "# Remove first element on y-axis\n",
    "ax.yaxis.get_major_ticks()[0].set_visible(False)\n",
    "\n",
    "# Add title\n",
    "plt.suptitle('Synthetic Sample', fontsize=20)\n",
    "\n",
    "# Save figure\n",
    "plt.savefig('images/scatterplot.png', bbox_inches='tight', format='png')"
   ]
  },
  {
   "cell_type": "code",
   "execution_count": 5,
   "metadata": {
    "collapsed": false,
    "slideshow": {
     "slide_type": "slide"
    }
   },
   "outputs": [
    {
     "data": {
      "image/png": "[encoded data removed]",
      "text/plain": [
       "<IPython.core.display.Image object>"
      ]
     },
     "execution_count": 5,
     "metadata": {
      "image/png": {
       "height": 1000,
       "width": 1000
      }
     },
     "output_type": "execute_result"
    }
   ],
   "source": [
    "from IPython.display import Image\n",
    "Image(filename='images/scatterplot.png', width=1000, height=1000)"
   ]
  },
  {
   "cell_type": "markdown",
   "metadata": {
    "slideshow": {
     "slide_type": "slide"
    }
   },
   "source": [
    "### Statistical Analysis"
   ]
  },
  {
   "cell_type": "code",
   "execution_count": 6,
   "metadata": {
    "collapsed": false
   },
   "outputs": [],
   "source": [
    "# Import relevant libraries from the SciPy Stack\n",
    "import statsmodels.api as sm\n",
    "\n",
    "# Add an intercept to array of exogenous variables\n",
    "X = sm.add_constant(X)\n",
    "\n",
    "# Specify and fit the model\n",
    "rslt = sm.OLS(Y, X).fit()"
   ]
  },
  {
   "cell_type": "code",
   "execution_count": 7,
   "metadata": {
    "collapsed": false,
    "slideshow": {
     "slide_type": "slide"
    }
   },
   "outputs": [
    {
     "name": "stdout",
     "output_type": "stream",
     "text": [
      "                            OLS Regression Results                            \n",
      "==============================================================================\n",
      "Dep. Variable:                      y   R-squared:                       0.544\n",
      "Model:                            OLS   Adj. R-squared:                  0.543\n",
      "Method:                 Least Squares   F-statistic:                     396.6\n",
      "Date:                Wed, 27 Jan 2016   Prob (F-statistic):          1.87e-169\n",
      "Time:                        16:17:33   Log-Likelihood:                 911.47\n",
      "No. Observations:                1000   AIC:                            -1815.\n",
      "Df Residuals:                     996   BIC:                            -1795.\n",
      "Df Model:                           3                                         \n",
      "Covariance Type:            nonrobust                                         \n",
      "==============================================================================\n",
      "                 coef    std err          t      P>|t|      [95.0% Conf. Int.]\n",
      "------------------------------------------------------------------------------\n",
      "const          0.0991      0.010     10.005      0.000         0.080     0.119\n",
      "x1             0.2178      0.011     20.532      0.000         0.197     0.239\n",
      "x2             0.2960      0.011     27.395      0.000         0.275     0.317\n",
      "x3            -0.0872      0.010     -8.366      0.000        -0.108    -0.067\n",
      "==============================================================================\n",
      "Omnibus:                        1.805   Durbin-Watson:                   1.898\n",
      "Prob(Omnibus):                  0.406   Jarque-Bera (JB):                1.873\n",
      "Skew:                           0.086   Prob(JB):                        0.392\n",
      "Kurtosis:                       2.875   Cond. No.                         6.31\n",
      "==============================================================================\n",
      "\n",
      "Warnings:\n",
      "[1] Standard Errors assume that the covariance matrix of the errors is correctly specified.\n"
     ]
    }
   ],
   "source": [
    "# Provide some summary information\n",
    "print(rslt.summary())"
   ]
  },
  {
   "cell_type": "markdown",
   "metadata": {
    "slideshow": {
     "slide_type": "slide"
    }
   },
   "source": [
    "## Integrated Development Environment"
   ]
  },
  {
   "cell_type": "markdown",
   "metadata": {
    "slideshow": {
     "slide_type": "slide"
    }
   },
   "source": [
    "### Potential Benefits\n",
    "\n",
    "* Unit Testing Integration\n",
    "\n",
    "* Graphical Debugger\n",
    "\n",
    "* Version Control Integration\n",
    "\n",
    "* Coding Assistance\n",
    "\n",
    "    * Code Completion\n",
    "\n",
    "    * Syntax and Error Highlighting\n",
    "    \n",
    "    * ..."
   ]
  },
  {
   "cell_type": "markdown",
   "metadata": {
    "slideshow": {
     "slide_type": "slide"
    }
   },
   "source": [
    "### *PyCharm*\n",
    "\n",
    "[*PyCharm*](https://www.jetbrains.com/pycharm/) is developed by the Czech company [*JetBrains*](https://www.jetbrains.com/). It is free for to use for educational purposes. However, it is a commerical product and thus very well documented. Numerous resources are available to get you started.\n",
    "\n",
    "* [*Quick Start Guide*](https://www.jetbrains.com/pycharm/help/quick-start-guide.html)\n",
    "\n",
    "* [*Video Lectures*](https://www.youtube.com/playlist?list=PLQ176FUIyIUZ1mwB-uImQE-gmkwzjNLjP)\n",
    "\n",
    "If you would like to check out some alterantives: (1) [*Spyder*](https://pythonhosted.org/spyder), (2) [*PyDev*](http://www.pydev.org)."
   ]
  },
  {
   "cell_type": "markdown",
   "metadata": {
    "slideshow": {
     "slide_type": "slide"
    }
   },
   "source": [
    "### Graphical User Interface\n",
    "\n",
    "<img src='images/pycharm.png' width=650 height=650>"
   ]
  },
  {
   "cell_type": "markdown",
   "metadata": {
    "slideshow": {
     "slide_type": "slide"
    }
   },
   "source": [
    "## Conclusion"
   ]
  },
  {
   "cell_type": "markdown",
   "metadata": {
    "slideshow": {
     "slide_type": "slide"
    }
   },
   "source": [
    "### Next Steps \n",
    "\n",
    "* Set up your machine for scientific computing with *Python*\n",
    "    * Visit [*Continuum Analytics*](https://www.continuum.io/) and download *Anaconda* for your own computer. *Anaconda* is a free *Python* distribution with all the required packages to get you started.\n",
    "    \n",
    "    * Install [*PyCharm*](https://www.jetbrains.com/pycharm/). Make sure to hook it up to use your *Anacadona* distribution [(instructions)](http://docs.continuum.io/anaconda/ide_integration#pycharm)\n",
    "\n",
    "* Check out the additional resources to dive more into the details."
   ]
  },
  {
   "cell_type": "markdown",
   "metadata": {
    "slideshow": {
     "slide_type": "slide"
    }
   },
   "source": [
    "### Additional Resources\n",
    "\n",
    "* Gaël Varoquaux, Emmanuelle Gouillart, Olaf Vahtras (eds.). *SciPy Lecture Notes*, available at http://www.scipy-lectures.org.\n",
    "\n",
    "* Hans Petter Langtangen. [*A Primer on Scientific Programming with Python*](http://www.amazon.com/Scientific-Programming-Computational-Science-Engineering/dp/3642549586/ref=sr_1_1?ie=UTF8&qid=1452010910&sr=8-1&keywords=langtangen), Springer, New York, NY.\n",
    "\n",
    "* Thomas J. Sargent, John Stachurski (2016). [*Quantitative Economics*](http://quant-econ.net/). Online Lecture Notes.\n",
    "\n",
    "* Softwarre Engineering for Economists Initiative, [Online Resources](http://softecon.github.io/).\n",
    "\n",
    "Numerous additional lecture notes, tutorials, online courses, and books are available [online](http://www.fullstackpython.com/best-python-resources.html)."
   ]
  },
  {
   "cell_type": "markdown",
   "metadata": {
    "slideshow": {
     "slide_type": "slide"
    }
   },
   "source": [
    "<style>\n",
    "li { margin: 1em 3em; padding: 0.2em; }\n",
    "</style>\n",
    "\n",
    "<h2>Contact</h2>\n",
    "\n",
    "<br><br>\n",
    "<b>Philipp Eisenhauer</b>\n",
    "<ul>\n",
    "  <li> Mail  <a href=\"mailto:eisenhauer@policy-lab.org\">eisenhauer@policy-lab.org</a></li><br>\n",
    "   <li>Web  <a href=\"http://www.policy-lab.org/peisenha\">http://www.policy-lab.org/peisenha</a></li><br>\n",
    "  <li>Repository  <a href=\"https://github.com/peisenha\">https://github.com/peisenha</a></li>\n",
    "</ul>\n",
    "\n",
    "<br><br>\n",
    "<b>Software Engineering for Economists Initiative</b>\n",
    "<ul>\n",
    "  <li>Repository  <a href=\"http://softecon.github.io\">http://softecon.github.io</a></li><br>\n",
    "</ul>\n"
   ]
  },
  {
   "cell_type": "code",
   "execution_count": 8,
   "metadata": {
    "collapsed": false,
    "slideshow": {
     "slide_type": "skip"
    }
   },
   "outputs": [
    {
     "data": {
      "text/html": [
       "<link href='http://fonts.googleapis.com/css?family=Alegreya+Sans:100,300,400,500,700,800,900,100italic,300italic,400italic,500italic,700italic,800italic,900italic' rel='stylesheet' type='text/css'>\n",
       "<link href='http://fonts.googleapis.com/css?family=Arvo:400,700,400italic' rel='stylesheet' type='text/css'>\n",
       "<link href='http://fonts.googleapis.com/css?family=PT+Mono' rel='stylesheet' type='text/css'>\n",
       "<link href='http://fonts.googleapis.com/css?family=Shadows+Into+Light' rel='stylesheet' type='text/css'>\n",
       "<link href='http://fonts.googleapis.com/css?family=Philosopher:400,700,400italic,700italic' rel='stylesheet' type='text/css'>\n",
       "\n",
       "<style>\n",
       "\n",
       "@font-face {\n",
       "    font-family: \"Computer Modern\";\n",
       "    src: url('http://mirrors.ctan.org/fonts/cm-unicode/fonts/otf/cmunss.otf');\n",
       "}\n",
       "\n",
       "#notebook_panel { /* main background */\n",
       "    background: #888;\n",
       "    color: #f6f6f6;\n",
       "}\n",
       "\n",
       "\n",
       "div.cell { /* set cell width to about 80 chars */\n",
       "    width: 1000px;\n",
       "}\n",
       "\n",
       "div #notebook { /* centre the content */\n",
       "    background: #fff; /* white background for content */\n",
       "    width: 1200px;\n",
       "    margin: auto;\n",
       "    padding-left: 1em;\n",
       "}\n",
       "\n",
       "#notebook li { /* More space between bullet points */\n",
       "margin-top:0.8em;\n",
       "}\n",
       "\n",
       "/* draw border around running cells */\n",
       "div.cell.border-box-sizing.code_cell.running {\n",
       "    border: 3px solid #111;\n",
       "}\n",
       "\n",
       "/* Put a solid color box around each cell and its output, visually linking them together */\n",
       "div.cell.code_cell {\n",
       "    background-color: rgba(171,165,131,0.3); \n",
       "    border-radius: 10px; /* rounded borders */\n",
       "    padding: 1em;\n",
       "    margin-top: 1em;\n",
       "}\n",
       "\n",
       "div.text_cell_render{\n",
       "    font-family: 'Arvo' sans-serif;\n",
       "    line-height: 130%;\n",
       "    font-size: 150%;\n",
       "    width:900px;\n",
       "    margin-left:auto;\n",
       "    margin-right:auto;\n",
       "}\n",
       "\n",
       "/* Formatting for header cells */\n",
       ".text_cell_render h1 {\n",
       "    font-family: 'Philosopher', sans-serif;\n",
       "    font-weight: 400;\n",
       "    font-size: 32pt;\n",
       "    line-height: 100%;\n",
       "    color: rgb(12,85,97);\n",
       "    margin-bottom: 0.1em;\n",
       "    margin-top: 0.1em;\n",
       "    display: block;\n",
       "}\n",
       "\n",
       ".text_cell_render h2 {\n",
       "    font-family: 'Philosopher', serif;\n",
       "    font-weight: 700;\n",
       "    font-size: 24pt;\n",
       "    line-height: 100%;\n",
       "    color: rgb(171,165,131);\n",
       "    margin-bottom: 0.1em;\n",
       "    margin-top: 0.1em;\n",
       "    display: block;\n",
       "}    \n",
       "\n",
       ".text_cell_render h3 {\n",
       "    font-family: 'Philosopher', serif;\n",
       "    margin-top:12px;\n",
       "    margin-bottom: 3px;\n",
       "    font-style: italic;\n",
       "    color: rgb(95,92,72);\n",
       "}\n",
       "\n",
       ".text_cell_render h4 {\n",
       "    font-family: 'Philosopher', serif;\n",
       "}\n",
       "\n",
       ".text_cell_render h5 {\n",
       "    font-family: 'Alegreya Sans', sans-serif;\n",
       "    font-weight: 300;\n",
       "    font-size: 16pt;\n",
       "    color: grey;\n",
       "    font-style: italic;\n",
       "    margin-bottom: .1em;\n",
       "    margin-top: 0.1em;\n",
       "    display: block;\n",
       "}\n",
       "\n",
       ".text_cell_render h6 {\n",
       "    font-family: 'PT Mono', sans-serif;\n",
       "    font-weight: 300;\n",
       "    font-size: 10pt;\n",
       "    color: grey;\n",
       "    margin-bottom: 1px;\n",
       "    margin-top: 1px;\n",
       "}\n",
       "\n",
       ".CodeMirror{\n",
       "        font-family: \"PT Mono\";\n",
       "        font-size: 120%;\n",
       "}\n",
       "\n",
       "</style>\n"
      ],
      "text/plain": [
       "<IPython.core.display.HTML object>"
      ]
     },
     "execution_count": 8,
     "metadata": {},
     "output_type": "execute_result"
    }
   ],
   "source": [
    "import urllib; from IPython.core.display import HTML\n",
    "HTML(urllib.urlopen('http://bit.ly/1K5apRH').read())"
   ]
  }
 ],
 "metadata": {
  "celltoolbar": "Slideshow",
  "kernelspec": {
   "display_name": "Python 2",
   "language": "python",
   "name": "python2"
  },
  "language_info": {
   "codemirror_mode": {
    "name": "ipython",
    "version": 2
   },
   "file_extension": ".py",
   "mimetype": "text/x-python",
   "name": "python",
   "nbconvert_exporter": "python",
   "pygments_lexer": "ipython2",
   "version": "2.7.10"
  }
 },
 "nbformat": 4,
 "nbformat_minor": 0
}
