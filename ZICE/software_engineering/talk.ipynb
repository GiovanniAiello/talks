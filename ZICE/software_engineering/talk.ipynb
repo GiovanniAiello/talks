{
 "cells": [
  {
   "cell_type": "markdown",
   "metadata": {
    "collapsed": false,
    "slideshow": {
     "slide_type": "slide"
    }
   },
   "source": [
    "# Software Engineering for Economists"
   ]
  },
  {
   "cell_type": "markdown",
   "metadata": {
    "slideshow": {
     "slide_type": "slide"
    }
   },
   "source": [
    "## Building Confidence in a Model\n",
    "\n",
    "* ***Verification*** How accurately does the computaitonal solve the underlying equations of the model for the quantities of interest?\n",
    "\n",
    "* ***Validation*** How accurately does the model represent the reality for the quantities of interest?\n",
    "\n",
    "* ***Uncertainty Quantification*** How does the varouous sources of error and uncertainty feed into uncertainty in the model-based prediction of the quantities of interest?"
   ]
  },
  {
   "cell_type": "markdown",
   "metadata": {
    "collapsed": false,
    "slideshow": {
     "slide_type": "slide"
    }
   },
   "source": [
    "<img src='images/conceptual_model.png' width=750 height=750>"
   ]
  },
  {
   "cell_type": "markdown",
   "metadata": {
    "slideshow": {
     "slide_type": "slide"
    }
   },
   "source": [
    "### Developing, Estimating, and Validating Dynamic Microeconometric Models\n",
    "\n",
    "<br>\n",
    "<center><a href=\"http://www.youtube.com/watch?feature=player_embedded&v=0hazaPBAYWE\n",
    "\" target=\"_blank\"><img src=\"http://img.youtube.com/vi/0hazaPBAYWE/0.jpg\" \n",
    "alt=\"IMAGE ALT TEXT HERE\" width=\"500\" height=\"400\" border=\"10\" /></a></center>\n"
   ]
  },
  {
   "cell_type": "markdown",
   "metadata": {
    "slideshow": {
     "slide_type": "slide"
    }
   },
   "source": [
    "### Software Engineering facilitates Verification Step\n",
    "\n",
    "* verifying correctness\n",
    "\n",
    "* increase transparency\n",
    "\n",
    "* free cognitive resources"
   ]
  },
  {
   "cell_type": "markdown",
   "metadata": {
    "slideshow": {
     "slide_type": "slide"
    }
   },
   "source": [
    "<img src='images/venn_diagram.png' width=750 height=750>"
   ]
  },
  {
   "cell_type": "markdown",
   "metadata": {
    "slideshow": {
     "slide_type": "slide"
    }
   },
   "source": [
    "## Research Example\n",
    "\n",
    "### Ambiguity in Dynamic Models of Educational Choice\n",
    "\n",
    "* Plausible\n",
    "\n",
    "    * better description of agent decision problem\n",
    "    \n",
    "* Meaningful\n",
    "\n",
    "    * reinterpretation of economic phenomenon\n",
    "    * reevaluation of policy interventions\n",
    "\n",
    "* Tractable"
   ]
  },
  {
   "cell_type": "markdown",
   "metadata": {
    "slideshow": {
     "slide_type": "slide"
    }
   },
   "source": [
    "### Computational Challenges and Software Engineering\n",
    "\n",
    "* ensure correctness of implementation\n",
    "\n",
    "* manage numerous numerical components\n",
    "\n",
    "* address performance constraints\n",
    "\n",
    "* guarantee recomputability and extensibility\n",
    "\n",
    "* ...\n",
    "\n",
    "$\\Rightarrow$ building, documenting, and communicating expertise\n",
    "\n"
   ]
  },
  {
   "cell_type": "markdown",
   "metadata": {
    "slideshow": {
     "slide_type": "slide"
    }
   },
   "source": [
    "## Example"
   ]
  },
  {
   "cell_type": "markdown",
   "metadata": {
    "slideshow": {
     "slide_type": "-"
    }
   },
   "source": [
    "Throughout this lecture we will work with a simple example. We are intersted in building a code to calculate an agent's expected utility $EU$ from a lottery. The generic problem is\n",
    "\n",
    "$$E U= \\int^{-\\infty}_{\\infty} u(x) f(x)dx,$$\n",
    "\n",
    "where $x$ is a possible outome, $f(x)$ denotes the probability density function, and $u(x)$ the utility functions.\n",
    "\n",
    "We start with a simple utiliy function\n",
    "\n",
    "$$ u(x) = x^{0.3},$$\n",
    "\n",
    "where $x > 0$ and $x$ is drawn from a standard lognormal distribution with scale parameter $s$. To solve the integral, we opt for a naive Monte Carlo integration. See [Skrainka & Judd (2013)](http://papers.ssrn.com/sol3/papers.cfm?abstract_id=1870703) for the importance of choosing the right integration strategy."
   ]
  },
  {
   "cell_type": "markdown",
   "metadata": {
    "slideshow": {
     "slide_type": "slide"
    }
   },
   "source": [
    "# Prototyping"
   ]
  },
  {
   "cell_type": "code",
   "execution_count": null,
   "metadata": {
    "collapsed": false,
    "slideshow": {
     "slide_type": "-"
    }
   },
   "outputs": [],
   "source": [
    "from scipy.stats import lognorm\n",
    "\n",
    "deviates = lognorm.rvs(1, size=1000)\n",
    "\n",
    "Rslt = 0.0\n",
    "for deviate in deviates:\n",
    "    Rslt += deviate ** 0.3\n",
    "\n",
    "print('Expected Utility {}'.format(Rslt/10000))"
   ]
  },
  {
   "cell_type": "markdown",
   "metadata": {
    "slideshow": {
     "slide_type": "fragment"
    }
   },
   "source": [
    "### Problems\n",
    "\n",
    "* Hard-coded problem parameters are spread out across the problem.\n",
    "\n",
    "* No naming convention.\n",
    "\n",
    "* There is no obvious way the code scales to solve a more generic problem.\n",
    "\n",
    "* The implementation is not tested.\n",
    "\n",
    "* We have not spend any time on performance considerations."
   ]
  },
  {
   "cell_type": "markdown",
   "metadata": {
    "slideshow": {
     "slide_type": "slide"
    }
   },
   "source": [
    "### What would a more mature implementation look like?\n",
    "\n",
    "$\\quad$\n",
    "```shell\n",
    "\n",
    "run.py\n",
    "\n",
    ".. /testing\n",
    "   ... tests.py\n",
    "   ... checks.py\n",
    "\n",
    "eu_calculation.py\n",
    "integration_rules.py\n",
    "utility_functions.py\n",
    "\n",
    "auxiliary.py\n",
    "```"
   ]
  },
  {
   "cell_type": "markdown",
   "metadata": {
    "slideshow": {
     "slide_type": "fragment"
    }
   },
   "source": [
    "### Main Improvements\n",
    "\n",
    "* Clear and extensible structure\n",
    "\n",
    "* Testing infrastucture available\n",
    "\n",
    "* Performance considerations adressed\n",
    "\n",
    "* Alternative integration strategies available"
   ]
  },
  {
   "cell_type": "markdown",
   "metadata": {
    "slideshow": {
     "slide_type": "slide"
    }
   },
   "source": [
    "## Goal of the Lectures\n",
    "\n",
    "Provide some guidance on how to get from a protoype to a more mature implementation of your research project in a systematic way.\n",
    "\n",
    "### Dimensions of Code Quality\n",
    "\n",
    "* Correctness\n",
    "\n",
    "* Maintainability\n",
    "\n",
    "* Readability\n",
    "\n",
    "* Scalabilty"
   ]
  },
  {
   "cell_type": "markdown",
   "metadata": {
    "slideshow": {
     "slide_type": "slide"
    }
   },
   "source": [
    "###  Basic Tools\n",
    "\n",
    "<style>\n",
    "table,td,tr,th {border:none!important}\n",
    "</style>\n",
    "<table style=\"width:90%\">\n",
    "  <tbody>\n",
    "    <tr height=\"40\">\n",
    "      <td style=\"vertical-align:top; padding-left:30px;\">\n",
    "          <li>Version Control</li>\n",
    "      </td>\n",
    "      <td style=\"vertical-align:top; padding-left:30px;\">\n",
    "          <li>Code Review</li>\n",
    "      </td>\n",
    "    </tr>\n",
    "    <tr height=\"40\">\n",
    "      <td style=\"vertical-align:top; padding-left:30px;\">\n",
    "          <li>Testing</li>\n",
    "      </td>\n",
    "      <td style=\"vertical-align:top; padding-left:30px;\">\n",
    "          <li>Profiling </li>\n",
    "      </td>\n",
    "    </tr>\n",
    "    <tr height=\"40\">\n",
    "      <td style=\"vertical-align:top; padding-left:30px;\">\n",
    "          <li>Continous Integration</li>\n",
    "    </tr>\n",
    "  </tbody>\n",
    "</table> "
   ]
  },
  {
   "cell_type": "markdown",
   "metadata": {
    "slideshow": {
     "slide_type": "slide"
    }
   },
   "source": [
    "## Version Control\n",
    "\n",
    "Version Control records changes to a file or set of files over time so that you can recall (and compare) specific versions later. I draw heavily on the free e-book [*Pro Git*](http://www.git-scm.com/book/en/v2) and [Blischak & al. (2016)](http://journals.plos.org/ploscompbiol/article?id=10.1371/journal.pcbi.1004668).\n",
    "\n",
    "Tracking changes to your code over time has a variety of benefits:\n",
    "\n",
    "* Tractability\n",
    "\n",
    "* Clarity \n",
    "\n",
    "* Flexibility\n",
    "\n",
    "* Reduced duplication and error \n",
    "\n",
    "$\\Rightarrow$ transparent, reproducible, and collaborative research"
   ]
  },
  {
   "cell_type": "markdown",
   "metadata": {
    "slideshow": {
     "slide_type": "slide"
    }
   },
   "source": [
    "In our quick tour, we will do the following:\n",
    "\n",
    "* set up local repository\n",
    "\n",
    "* commit files\n",
    "\n",
    "* track changes to files\n",
    "\n",
    "* compare versions of files "
   ]
  },
  {
   "cell_type": "markdown",
   "metadata": {
    "slideshow": {
     "slide_type": "slide"
    }
   },
   "source": [
    "Let us initialize a repository ...\n",
    "\n",
    "```shell\n",
    "$ git init\n",
    "Initialized empty Git repository in material/.git/\n",
    "```\n",
    "\n",
    "... and provide some information about ourselves.\n",
    "\n",
    "```shell\n",
    "$ git config user.name \"Philipp Eisenhauer\"\n",
    "$ git config user.email \"eisenhauer@policy-lab.org\"\n",
    "```"
   ]
  },
  {
   "cell_type": "markdown",
   "metadata": {
    "slideshow": {
     "slide_type": "slide"
    }
   },
   "source": [
    "First of all, let us take stock and check the status of our local repository:\n",
    "\n",
    "```shell\n",
    "$ git status\n",
    "On branch master\n",
    "\n",
    "Initial commit\n",
    "\n",
    "Untracked files:\n",
    "  (use \"git add <file>...\" to include in what will be committed)\n",
    "\n",
    "\t__init__.py\n",
    "\tauxiliary.py\n",
    "\teu_calculations.py\n",
    "\tintegration_rules.py\n",
    "\trun.py\n",
    "\ttesting/\n",
    "\tutility_functions.py\n",
    "    \n",
    "```"
   ]
  },
  {
   "cell_type": "markdown",
   "metadata": {
    "collapsed": false,
    "slideshow": {
     "slide_type": "slide"
    }
   },
   "source": [
    "<img src='images/lifecycle.png' width=1000 height=1000>"
   ]
  },
  {
   "cell_type": "markdown",
   "metadata": {
    "slideshow": {
     "slide_type": "slide"
    }
   },
   "source": [
    "We now set up tracking of all our files and revisit the status:\n",
    "\n",
    "```shell\n",
    "$ git add *\n",
    "$ git status\n",
    "On branch master\n",
    "\n",
    "Initial commit\n",
    "\n",
    "Changes to be committed:\n",
    "  (use \"git rm --cached <file>...\" to unstage)\n",
    "\n",
    "\tnew file:   __init__.py\n",
    "\tnew file:   auxiliary.py\n",
    "\tnew file:   eu_calculations.py\n",
    "\tnew file:   integration_rules.py\n",
    "\tnew file:   run.py\n",
    "\tnew file:   testing/__init__.py\n",
    "\tnew file:   testing/checks.py\n",
    "\tnew file:   testing/tests.py\n",
    "\tnew file:   utility_functions.py\n",
    "```"
   ]
  },
  {
   "cell_type": "markdown",
   "metadata": {
    "slideshow": {
     "slide_type": "slide"
    }
   },
   "source": [
    "We are now ready for our initial commit.\n",
    "\n",
    "```shell\n",
    "$ git commit -a -m'Initial commit of directory content.'\n",
    " 9 files changed, 443 insertions(+)\n",
    " create mode 100644 __init__.py\n",
    " create mode 100644 auxiliary.py\n",
    " create mode 100644 eu_calculations.py\n",
    " create mode 100644 integration_rules.py\n",
    " create mode 100644 run.py\n",
    " create mode 100644 testing/__init__.py\n",
    " create mode 100644 testing/checks.py\n",
    " create mode 100644 testing/tests.py\n",
    " create mode 100644 utility_functions.py\n",
    " \n",
    "```\n",
    "\n",
    "By adding a message to our commit, it is much easier to return to it later.\n",
    "    \n",
    "```shell\n",
    "$ git log\n",
    "commit 49593b8c447a9f023a35ff724a3467db2fe10037\n",
    "Author: Philipp Eisenhauer <eisenhauer@policy-lab.org>\n",
    "Date:   Mon Feb 1 21:11:58 2016 +0100\n",
    "\n",
    "    Initial commit of directory content.\n",
    "\n",
    "```  "
   ]
  },
  {
   "cell_type": "markdown",
   "metadata": {
    "slideshow": {
     "slide_type": "slide"
    }
   },
   "source": [
    "\n",
    "This brings us back to the beginning of our repository lifecycle.\n",
    "\n",
    "```shell\n",
    "$ git status\n",
    "On branch master\n",
    "nothing to commit, working directory clean\n",
    "```   \n",
    "\n",
    "Let us modify the setup of the random seed in *integration_rules.py* using our favourite editor and check for the current status of our files.\n",
    "\n",
    "```shell\n",
    "$ git status\n",
    "On branch master\n",
    "Changes not staged for commit:\n",
    "  (use \"git add <file>...\" to update what will be committed)\n",
    "  (use \"git checkout -- <file>...\" to discard changes in working directory)\n",
    "\n",
    "\tmodified:   integration_rules.py\n",
    "\n",
    "no changes added to commit (use \"git add\" and/or \"git commit -a\")\n",
    "```   \n"
   ]
  },
  {
   "cell_type": "markdown",
   "metadata": {
    "slideshow": {
     "slide_type": "slide"
    }
   },
   "source": [
    "\n",
    "What exactly is the difference?\n",
    "\n",
    "```shell\n",
    "$ git diff\n",
    "diff --git a/integration_rules.py b/integration_rules.py\n",
    "index 708080c..d54aa06 100644\n",
    "--- a/integration_rules.py\n",
    "+++ b/integration_rules.py\n",
    "@@ -19,7 +19,8 @@ def naive_monte_carlo(func, bounds, num_draws, implementation, seed):\n",
    "     lower, upper = bounds\n",
    " \n",
    "     # Draw requested number of deviates.\n",
    "-    np.random.seed(seed)\n",
    "+\n",
    "+    np.random.seed(123)\n",
    "     deviates = np.random.uniform(lower, upper, size=num_draws)\n",
    " \n",
    "     # Implement native Monte Carlo approach.\n",
    "```  \n",
    "\n"
   ]
  },
  {
   "cell_type": "markdown",
   "metadata": {
    "slideshow": {
     "slide_type": "slide"
    }
   },
   "source": [
    "In case we want to discard our changes now:\n",
    "\n",
    "```shell\n",
    "$ git checkout integration_rules.py\n",
    "```  \n",
    "\n",
    "In this case, we discard our changes immediately. However, we can always return to any version of our file ever commited.\n",
    "\n",
    "```shell\n",
    "$ git checkout IDENTIFIER integration_rules.py\n",
    "```  "
   ]
  },
  {
   "cell_type": "markdown",
   "metadata": {
    "slideshow": {
     "slide_type": "slide"
    }
   },
   "source": [
    "Once you are familiar with the basic workflow for versioning your own code. The natural next step is to share your code online. [*GitHub*](https://github.com) is a popular online hosting service. Among other benefits, you then have a backup copy of your files and can establish a tranparent workflow with your co-authors. \n",
    "\n",
    "Let us check out the repository for my current research on ambiguity [here](https://github.com/robustToolbox).\n"
   ]
  },
  {
   "cell_type": "markdown",
   "metadata": {
    "slideshow": {
     "slide_type": "slide"
    }
   },
   "source": [
    "## Testing"
   ]
  },
  {
   "cell_type": "markdown",
   "metadata": {
    "slideshow": {
     "slide_type": "slide"
    }
   },
   "source": [
    "### Types of Tests\n",
    "\n",
    "* Unit Tests\n",
    "\n",
    "* Integration Tests\n",
    "\n",
    "* Regression Tests \n",
    "\n",
    "* ...\n"
   ]
  },
  {
   "cell_type": "markdown",
   "metadata": {
    "slideshow": {
     "slide_type": "slide"
    }
   },
   "source": [
    "### Example Tests"
   ]
  },
  {
   "cell_type": "code",
   "execution_count": null,
   "metadata": {
    "collapsed": true,
    "slideshow": {
     "slide_type": "-"
    }
   },
   "outputs": [],
   "source": [
    "def test_random_requests():\n",
    "    \"\"\" Draw a whole host of random requests to ensure that the function\n",
    "    works for all admissible values.\n",
    "    \"\"\"\n",
    "    for _ in range(100):\n",
    "        # Generate random request.\n",
    "        alpha, shape, technique, int_options = generate_random_request()\n",
    "        # Perform calculation.\n",
    "        get_baseline_lognormal(alpha, shape, technique, int_options)"
   ]
  },
  {
   "cell_type": "code",
   "execution_count": null,
   "metadata": {
    "collapsed": false,
    "slideshow": {
     "slide_type": "slide"
    }
   },
   "outputs": [],
   "source": [
    "def test_naive_implementations():\n",
    "    \"\"\" Test whether the results from the fast and slow implementation of the\n",
    "    naive monte carlo integration are identical.\n",
    "    \"\"\"\n",
    "    technique = 'naive_mc'\n",
    "    for _ in range(10):\n",
    "        # Generate random request.\n",
    "        alpha, shape, _, int_options = generate_random_request()\n",
    "        # Loop over alternative implementations.\n",
    "        baseline = None\n",
    "        for implementation in ['fast', 'slow']:\n",
    "            int_options['naive_mc']['implementation'] = implementation\n",
    "            rslt = get_baseline_lognormal(alpha, shape, technique, int_options)\n",
    "            if baseline is None:\n",
    "                baseline = rslt\n",
    "        # Test equality.\n",
    "        np.testing.assert_almost_equal(baseline, rslt)"
   ]
  },
  {
   "cell_type": "code",
   "execution_count": null,
   "metadata": {
    "collapsed": true,
    "slideshow": {
     "slide_type": "slide"
    }
   },
   "outputs": [],
   "source": [
    "def test_regression():\n",
    "    \"\"\" This regression test ensures that the code does not change during\n",
    "    refactoring without noticing.\n",
    "    \"\"\"\n",
    "    # Set seed to avoid dependence of seed.\n",
    "    np.random.seed(123)\n",
    "    # Generate random request.\n",
    "    alpha, shape, technique, int_options = generate_random_request()\n",
    "    # Perform calculation.\n",
    "    rslt = get_baseline_lognormal(alpha, shape, technique, int_options)\n",
    "    # Ensure equivalence with expected results up to numerical precision.\n",
    "    np.testing.assert_almost_equal(rslt, 0.21990743996551923)"
   ]
  },
  {
   "cell_type": "markdown",
   "metadata": {},
   "source": [
    "### Key Challenges\n",
    "\n",
    "* How do I come up with good tests?\n",
    "\n",
    "* How can I make the process of testing the most convenient?K"
   ]
  },
  {
   "cell_type": "markdown",
   "metadata": {
    "slideshow": {
     "slide_type": "slide"
    }
   },
   "source": [
    "In principle, we can now each of the tests one-by-one:\n",
    "\n",
    "```shell\n",
    "$ python tests/tests.py\n",
    "```  \n"
   ]
  },
  {
   "cell_type": "markdown",
   "metadata": {
    "slideshow": {
     "slide_type": "slide"
    }
   },
   "source": [
    "How about test automation? Let us now run our test battery in the terminal. We are using [*py.test*](http://pytest.org). As usual, several alternatives exist: (1) [*nose*](https://nose.readthedocs.org/en/latest/), (2) [unittest](https://docs.python.org/2/library/unittest.html#module-unittest).\n",
    "\n",
    "```shell\n",
    "$ py.test \n",
    "```  \n"
   ]
  },
  {
   "cell_type": "markdown",
   "metadata": {
    "slideshow": {
     "slide_type": "slide"
    }
   },
   "source": [
    "How do we know how much of our code base we in fact cover with our testing efforts so far?"
   ]
  },
  {
   "cell_type": "markdown",
   "metadata": {
    "collapsed": false,
    "slideshow": {
     "slide_type": "slide"
    }
   },
   "source": [
    "```shell\n",
    "$ py.test --cov=example\n",
    "```"
   ]
  },
  {
   "cell_type": "markdown",
   "metadata": {
    "slideshow": {
     "slide_type": "slide"
    }
   },
   "source": [
    "## Automated Code Review"
   ]
  },
  {
   "cell_type": "markdown",
   "metadata": {
    "slideshow": {
     "slide_type": "slide"
    }
   },
   "source": [
    "\n",
    "There are several tools out there that I found useful in the past to improve the quality of my code along these dimensions (1) [*QuantifiedCode*](https://www.quantifiedcode.com/) and (2) [*Codacy*](https://www.codacy.com). Let us visit *QuantifiedCode* online and take a look around."
   ]
  },
  {
   "cell_type": "markdown",
   "metadata": {
    "collapsed": false,
    "slideshow": {
     "slide_type": "slide"
    }
   },
   "source": [
    "<img src='images/quantifiedcode.png' width=950 height=1000>"
   ]
  },
  {
   "cell_type": "markdown",
   "metadata": {
    "slideshow": {
     "slide_type": "slide"
    }
   },
   "source": [
    "## Profiling"
   ]
  },
  {
   "cell_type": "markdown",
   "metadata": {
    "slideshow": {
     "slide_type": "slide"
    }
   },
   "source": [
    "Using these tools helps you to improve your own programming skills over time as each of the issues is well explained and best practices provided. More lightweight solutions are also available: (1) [*Pylint*](http://www.pylint.org/), (2) [*Pyflakes*](https://github.com/pyflakes/pyflakes), and (3) [*pep8*](https://github.com/PyCQA/pep8)."
   ]
  },
  {
   "cell_type": "code",
   "execution_count": null,
   "metadata": {
    "collapsed": false,
    "slideshow": {
     "slide_type": "skip"
    }
   },
   "outputs": [],
   "source": [
    "%load_ext snakeviz"
   ]
  },
  {
   "cell_type": "code",
   "execution_count": null,
   "metadata": {
    "collapsed": false,
    "slideshow": {
     "slide_type": "slide"
    }
   },
   "outputs": [],
   "source": [
    "# standard library\n",
    "import cProfile\n",
    "\n",
    "import sandbox\n",
    "from sandbox import get_expected_utility\n",
    "\n",
    "# As a start, let us start with a table of profile data.\n",
    "cProfile.run(\"get_expected_utility(1.0, 0.0, 1.0)\")"
   ]
  },
  {
   "cell_type": "markdown",
   "metadata": {
    "collapsed": false,
    "slideshow": {
     "slide_type": "slide"
    }
   },
   "source": [
    "<img src='images/snakeviz.png' width=950 height=1000>"
   ]
  },
  {
   "cell_type": "markdown",
   "metadata": {
    "slideshow": {
     "slide_type": "slide"
    }
   },
   "source": [
    "Let us inspect our code."
   ]
  },
  {
   "cell_type": "code",
   "execution_count": null,
   "metadata": {
    "collapsed": true,
    "slideshow": {
     "slide_type": "-"
    }
   },
   "outputs": [],
   "source": [
    "cProfile.run(\"get_expected_utility(1.0, 0.0, 1.0)\", \"sandbox.prof\")"
   ]
  },
  {
   "cell_type": "code",
   "execution_count": null,
   "metadata": {
    "collapsed": false,
    "slideshow": {
     "slide_type": "slide"
    }
   },
   "outputs": [],
   "source": [
    "%time rslt = get_expected_utility(1.0, 0.0, 1.0, version='slow')\n",
    "print('')\n",
    "%time rslt = get_expected_utility(1.0, 0.0, 1.0, version='fast')\n",
    "\n",
    "cProfile.run(\"get_expected_utility(1.0, 0.0, 1.0, 'fast')\", \"sandbox_fast.prof\")"
   ]
  },
  {
   "cell_type": "markdown",
   "metadata": {
    "slideshow": {
     "slide_type": "slide"
    }
   },
   "source": [
    "## Continuous Integration Workflow"
   ]
  },
  {
   "cell_type": "markdown",
   "metadata": {
    "slideshow": {
     "slide_type": "slide"
    }
   },
   "source": [
    "** Automation Steps**\n",
    "\n",
    "* Version Control\n",
    "\n",
    "* Testing and Coverage\n",
    "\n",
    "* Code Review\n",
    "\n",
    "* Build\n",
    "\n",
    "* ...\n",
    "\n",
    "using [Github](https://github.com) and its [integrations](https://github.com/integrations)."
   ]
  },
  {
   "cell_type": "markdown",
   "metadata": {
    "collapsed": false,
    "slideshow": {
     "slide_type": "slide"
    }
   },
   "source": [
    "<img src='images/continous_integration.png' width=950 height=1000>"
   ]
  },
  {
   "cell_type": "markdown",
   "metadata": {
    "slideshow": {
     "slide_type": "slide"
    }
   },
   "source": [
    "## Best Practices\n",
    "\n",
    "* Set up a scalable workflow right from the beginning.\n",
    "\n",
    "* Build your model in a hierarchical way.\n",
    "\n",
    "* Develop a testing harness as you impelement and refine your code.\n",
    "\n",
    "* Intiaially focus on the reability and then tackle performance issues.\n"
   ]
  },
  {
   "cell_type": "markdown",
   "metadata": {
    "slideshow": {
     "slide_type": "slide"
    }
   },
   "source": [
    "## Next Steps\n",
    "\n",
    "* Check out more detailed lectures at the *Software Engineering for Economists Initiative* [online](https://github.com/softEcon).\n",
    "    * Contribute a lecture on a special topic of your choice. See [here](http://nbviewer.ipython.org/github/softEcon/specials/blob/master/toolkit_for_advanced_optimization/lecture.ipynb) for an example.\n",
    "    \n",
    "* Explore the material on [*Software Carpentry*](http://software-carpentry.org).\n",
    "    \n",
    "* Sign up for personal [*GitHub*](https://github.com/) account and create a remote repository.\n",
    "\n",
    "* If you are using a Windows machine, download and install [*Ubuntu Desktop*](http://www.ubuntu.com/desktop).\n",
    "\n",
    "* Set aside a day or two to establish an continuous integration workflow for your current research project."
   ]
  },
  {
   "cell_type": "markdown",
   "metadata": {
    "slideshow": {
     "slide_type": "slide"
    }
   },
   "source": [
    "<style>\n",
    "li { margin: 1em 3em; padding: 0.2em; }\n",
    "</style>\n",
    "\n",
    "<h2>Contact</h2>\n",
    "\n",
    "<br><br>\n",
    "<b>Philipp Eisenhauer</b>\n",
    "<ul>\n",
    "  <li> Mail  <a href=\"mailto:eisenhauer@policy-lab.org\">eisenhauer@policy-lab.org</a></li><br>\n",
    "   <li>Web  <a href=\"http://www.policy-lab.org/peisenha\">http://www.policy-lab.org/peisenha</a></li><br>\n",
    "  <li>Repository  <a href=\"https://github.com/peisenha\">https://github.com/peisenha</a></li>\n",
    "</ul>\n",
    "\n",
    "<br><br>\n",
    "<b>Software Engineering for Economists Initiative</b>\n",
    "<ul>\n",
    "  <li>Repository  <a href=\"http://softecon.github.io\">http://softecon.github.io</a></li><br>\n",
    "</ul>\n"
   ]
  },
  {
   "cell_type": "code",
   "execution_count": null,
   "metadata": {
    "collapsed": false,
    "slideshow": {
     "slide_type": "skip"
    }
   },
   "outputs": [],
   "source": [
    "import urllib; from IPython.core.display import HTML\n",
    "HTML(urllib.urlopen('http://bit.ly/1K5apRH').read())"
   ]
  }
 ],
 "metadata": {
  "celltoolbar": "Slideshow",
  "kernelspec": {
   "display_name": "Python 2",
   "language": "python",
   "name": "python2"
  },
  "language_info": {
   "codemirror_mode": {
    "name": "ipython",
    "version": 2
   },
   "file_extension": ".py",
   "mimetype": "text/x-python",
   "name": "python",
   "nbconvert_exporter": "python",
   "pygments_lexer": "ipython2",
   "version": "2.7.10"
  }
 },
 "nbformat": 4,
 "nbformat_minor": 0
}
