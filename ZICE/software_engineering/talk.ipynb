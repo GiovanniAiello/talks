{
 "cells": [
  {
   "cell_type": "markdown",
   "metadata": {
    "collapsed": false,
    "slideshow": {
     "slide_type": "slide"
    }
   },
   "source": [
    "# Software Engineering for Economists"
   ]
  },
  {
   "cell_type": "markdown",
   "metadata": {
    "slideshow": {
     "slide_type": "slide"
    }
   },
   "source": [
    "## Building Confidence in a Model\n",
    "\n",
    "* ***Verification*** How accurately does the computaitonal solve the underlying equations of the model for the quantities of interest?\n",
    "\n",
    "* ***Validation*** How accurately does the model represent the reality for the quantities of interest?\n",
    "\n",
    "* ***Uncertainty Quantification*** How doe the varouous sources of error and uncertainty feed into uncertainty in the model-based prediction of the quantities of interest?"
   ]
  },
  {
   "cell_type": "markdown",
   "metadata": {
    "collapsed": false,
    "slideshow": {
     "slide_type": "slide"
    }
   },
   "source": [
    "<img src='images/conceptual_model.png' width=750 height=750>"
   ]
  },
  {
   "cell_type": "markdown",
   "metadata": {
    "slideshow": {
     "slide_type": "slide"
    }
   },
   "source": [
    "<h3>Devloping, Estimating, and Validating Dynamic Microeconometric Models<h3>\n",
    "<br>\n",
    "<center><a href=\"http://www.youtube.com/watch?feature=player_embedded&v=0hazaPBAYWE\n",
    "\" target=\"_blank\"><img src=\"http://img.youtube.com/vi/0hazaPBAYWE/0.jpg\" \n",
    "alt=\"IMAGE ALT TEXT HERE\" width=\"500\" height=\"400\" border=\"10\" /></a></center>"
   ]
  },
  {
   "cell_type": "markdown",
   "metadata": {
    "slideshow": {
     "slide_type": "slide"
    }
   },
   "source": [
    "### Software Engineering as part of Verification Step\n",
    "\n",
    "* verifying correctness\n",
    "\n",
    "* increase transparency\n",
    "\n",
    "* free cognitive resources\n",
    "\n",
    "$\\Rightarrow$ work responsibly"
   ]
  },
  {
   "cell_type": "markdown",
   "metadata": {
    "slideshow": {
     "slide_type": "slide"
    }
   },
   "source": [
    "<img src='images/venn_diagram.png' width=750 height=750>"
   ]
  },
  {
   "cell_type": "markdown",
   "metadata": {
    "slideshow": {
     "slide_type": "slide"
    }
   },
   "source": [
    "### Basic Elements\n",
    "\n",
    "\n",
    "\n",
    "<style>\n",
    "table,td,tr,th {border:none!important}\n",
    "</style>\n",
    "<table style=\"width:90%\">\n",
    "  <tbody>\n",
    "    <tr height=\"40\">\n",
    "      <td style=\"vertical-align:top; padding-left:30px;\">\n",
    "          <li>Version Control</li>\n",
    "      </td>\n",
    "      <td style=\"vertical-align:top; padding-left:30px;\">\n",
    "          <li>Code Review</li>\n",
    "      </td>\n",
    "    </tr>\n",
    "    <tr height=\"40\">\n",
    "      <td style=\"vertical-align:top; padding-left:30px;\">\n",
    "          <li>Testing</li>\n",
    "      </td>\n",
    "      <td style=\"vertical-align:top; padding-left:30px;\">\n",
    "          <li>Profiling </li>\n",
    "      </td>\n",
    "    </tr>\n",
    "    <tr height=\"40\">\n",
    "      <td style=\"vertical-align:top; padding-left:30px;\">\n",
    "          <li>Continous Integration</li>\n",
    "    </tr>\n",
    "  </tbody>\n",
    "</table> \n"
   ]
  },
  {
   "cell_type": "markdown",
   "metadata": {
    "slideshow": {
     "slide_type": "slide"
    }
   },
   "source": [
    "## Research Example\n",
    "\n",
    "### Ambiguity in Dynamic Models of Educational Choice\n",
    "\n",
    "* Plausible\n",
    "\n",
    "    * better description of agent decision problem\n",
    "    \n",
    "* Meaningful\n",
    "\n",
    "    * reinterpretation of economic phenomenon\n",
    "    * reevaluation of policy interventions\n",
    "\n",
    "* Tractable"
   ]
  },
  {
   "cell_type": "markdown",
   "metadata": {
    "slideshow": {
     "slide_type": "slide"
    }
   },
   "source": [
    "### Computational Challenges and Software Engineering\n",
    "\n",
    "* ensure correctness of implementation\n",
    "\n",
    "* manage numerous numerical components\n",
    "\n",
    "* address performance constraints\n",
    "\n",
    "* guarantee recomputability and extensibility\n",
    "\n",
    "* ...\n",
    "\n",
    "$\\Rightarrow$ building, documenting, and communicating expertise"
   ]
  },
  {
   "cell_type": "markdown",
   "metadata": {
    "slideshow": {
     "slide_type": "slide"
    }
   },
   "source": [
    "## Running Example"
   ]
  },
  {
   "cell_type": "markdown",
   "metadata": {
    "slideshow": {
     "slide_type": "slide"
    }
   },
   "source": [
    "Throughout this lecture we will work with a simple example from expected utility theory. We consider a simple utility function that captures an agent's preferences over uncertain outcomes.\n",
    "\n",
    "$$ u(x) = x^\\alpha,$$\n",
    "\n",
    "where $\\alpha, x > 0$. We can calculate the expected utility (EU) as:\n",
    "\n",
    "$$E U= \\int^{-\\infty}_{\\infty} u(x) f(x)dx,$$\n",
    "\n",
    "where $f(x)$ is the probablity density function of the realizations of $x$. In our case, $x$ is drawn from a lognormal distribution with mean $\\mu$ and standard deviation $\\sigma$. To solve the integral, we implement a simple Monte Carlo Iitegration. See Skrainka & Judd (2013) for the importance of choosing the right integration strategy."
   ]
  },
  {
   "cell_type": "code",
   "execution_count": 1,
   "metadata": {
    "collapsed": true,
    "slideshow": {
     "slide_type": "skip"
    }
   },
   "outputs": [],
   "source": [
    "# SciPy Stack\n",
    "import numpy as np"
   ]
  },
  {
   "cell_type": "code",
   "execution_count": 2,
   "metadata": {
    "collapsed": true,
    "slideshow": {
     "slide_type": "slide"
    }
   },
   "outputs": [],
   "source": [
    "def get_expected_utility(alpha, mean, sd):\n",
    "    \"\"\" Get the expected returns by drawing numerous\n",
    "    random deviates from a lognormal distribution.\n",
    "    \"\"\"\n",
    "    # Guard interface\n",
    "    assert (isinstance(mean, float))\n",
    "    assert (isinstance(sd, float))\n",
    "    assert (isinstance(alpha, float))\n",
    "    assert (sd >= 0.00)\n",
    "    assert (alpha >= 0.00)\n",
    "    \n",
    "    # Set parametrization for Monte Carlo \n",
    "    # integration.\n",
    "    num_draws = 10000000\n",
    "    \n",
    "    # Draw ten-thousand deviates from the \n",
    "    deviates = get_random_deviates(mean, sd, num_draws)\n",
    "    \n",
    "    # Calculate the average utility from all deviates.\n",
    "    rslt = np.mean(deviates ** alpha)\n",
    "    \n",
    "    # Check result\n",
    "    assert (isinstance(rslt, float))\n",
    "        \n",
    "    # Finishing\n",
    "    return rslt"
   ]
  },
  {
   "cell_type": "code",
   "execution_count": 3,
   "metadata": {
    "collapsed": false,
    "slideshow": {
     "slide_type": "slide"
    }
   },
   "outputs": [],
   "source": [
    "def get_random_deviates(mean, sd, num_draws):\n",
    "    \"\"\" Get random deviates from a lognormal \n",
    "    distribution.\n",
    "    \"\"\"\n",
    "    # Draw deviates from lognormal distribution.\n",
    "    deviates = []\n",
    "    for _ in range(num_draws):\n",
    "        deviate = np.random.lognormal(mean, sd)\n",
    "        deviates += [deviate]\n",
    "    \n",
    "    # Type Conversion\n",
    "    deviates = np.array(deviates)\n",
    "    \n",
    "    # Finishing\n",
    "    return deviates"
   ]
  },
  {
   "cell_type": "markdown",
   "metadata": {
    "slideshow": {
     "slide_type": "slide"
    }
   },
   "source": [
    "## Version Control\n",
    "\n",
    "Version Control records changes to a file or set of files over time so that you can recall (and compare) specific versions later. This part of the lecture draws heavily on the free e-book [*Pro Git*](http://www.git-scm.com/book/en/v2) and Blischak & al. (2016).\n",
    "\n",
    "Tracking changes to your code over time has a variety of benefits:\n",
    "\n",
    "* Tracability\n",
    "\n",
    "* Clarity \n",
    "\n",
    "* Flexibility\n",
    "\n",
    "* Reduced duplication and error \n",
    "\n",
    "$\\Rightarrow$ transparent, reproducible, and collaborative research"
   ]
  },
  {
   "cell_type": "markdown",
   "metadata": {
    "slideshow": {
     "slide_type": "slide"
    }
   },
   "source": [
    "In our quick tour, we will do the following:\n",
    "\n",
    "* set up local repository\n",
    "\n",
    "* commit files\n",
    "\n",
    "* track changes to files\n",
    "\n",
    "* compare versions of files "
   ]
  },
  {
   "cell_type": "markdown",
   "metadata": {
    "slideshow": {
     "slide_type": "slide"
    }
   },
   "source": [
    "Let us initialize a repository ...\n",
    "\n",
    "```shell\n",
    "$ git init\n",
    "Initialized empty Git repository in .../git_material/.git/\n",
    "```\n",
    "\n",
    "... and provide some information about ourselves.\n",
    "\n",
    "```shell\n",
    "$ git config user.name \"Philipp Eisenhauer\"\n",
    "$ git config user.email \"eisenhauer@policy-lab.org\"\n",
    "```"
   ]
  },
  {
   "cell_type": "markdown",
   "metadata": {
    "slideshow": {
     "slide_type": "slide"
    }
   },
   "source": [
    "First of all, let us take stock and check the status of our local repository:\n",
    "\n",
    "```shell\n",
    "$ git status\n",
    "On branch master\n",
    "\n",
    "Initial commit\n",
    "\n",
    "Untracked files:\n",
    "  (use \"git add <file>...\" to include in what will be committed)\n",
    "\n",
    "\tauxiliary.py\n",
    "\tget_expected_utility.py\n",
    "\tintegration_rules.py\n",
    "\tutility_functions.py\n",
    "```"
   ]
  },
  {
   "cell_type": "markdown",
   "metadata": {
    "collapsed": false,
    "slideshow": {
     "slide_type": "slide"
    }
   },
   "source": [
    "<img src='images/lifecycle.png' width=1000 height=1000>"
   ]
  },
  {
   "cell_type": "markdown",
   "metadata": {
    "slideshow": {
     "slide_type": "slide"
    }
   },
   "source": [
    "We now set up tracking of all our files and revisit the status:\n",
    "\n",
    "```shell\n",
    "$ git add *.py\n",
    "$ git status\n",
    "On branch master\n",
    "\n",
    "Initial commit\n",
    "\n",
    "Changes to be committed:\n",
    "  (use \"git rm --cached <file>...\" to unstage)\n",
    "\n",
    "\tnew file:   auxiliary.py\n",
    "\tnew file:   get_expected_utility.py\n",
    "\tnew file:   integration_rules.py\n",
    "\tnew file:   utility_functions.py\n",
    "```"
   ]
  },
  {
   "cell_type": "markdown",
   "metadata": {
    "slideshow": {
     "slide_type": "slide"
    }
   },
   "source": [
    "We are now ready for our initial commit.\n",
    "\n",
    "```shell\n",
    "$ git commit -a -m'Initial commit of directory content.'\n",
    "[master (root-commit) eaafed6] Initial commit of directory content.\n",
    " 4 files changed, 92 insertions(+)\n",
    " create mode 100644 auxiliary.py\n",
    " create mode 100644 get_expected_utility.py\n",
    " create mode 100644 integration_rules.py\n",
    " create mode 100644 utility_functions.py\n",
    "```\n",
    "\n",
    "By adding a message to our commit, it is much easier to return to it later.\n",
    "    \n",
    "```shell\n",
    "$ git log\n",
    "commit eaafed680ea54c95393f35faf56f160d560e6f1e\n",
    "Author: Philipp Eisenhauer <eisenhauer@policy-lab.org>\n",
    "Date:   Mon Jan 25 14:45:28 2016 +0100\n",
    "\n",
    "    Initial commit of directory content.\n",
    "\n",
    "```  "
   ]
  },
  {
   "cell_type": "markdown",
   "metadata": {
    "slideshow": {
     "slide_type": "slide"
    }
   },
   "source": [
    "\n",
    "This brings us back to the beginning of our repository lifecycle.\n",
    "\n",
    "```shell\n",
    "$ git status\n",
    "On branch master\n",
    "nothing to commit, working directory clean\n",
    "```   \n",
    "\n",
    "Let us modify the default number of simulation draws in *integration_rules.py* using our favourite editor and check for the current status of our files.\n",
    "\n",
    "```shell\n",
    "$ git status\n",
    "On branch master\n",
    "Changes not staged for commit:\n",
    "  (use \"git add <file>...\" to update what will be committed)\n",
    "  (use \"git checkout -- <file>...\" to discard changes in working directory)\n",
    "\n",
    "\tmodified:   integration_rules.py\n",
    "\n",
    "no changes added to commit (use \"git add\" and/or \"git commit -a\")\n",
    "```   \n"
   ]
  },
  {
   "cell_type": "markdown",
   "metadata": {
    "slideshow": {
     "slide_type": "slide"
    }
   },
   "source": [
    "\n",
    "What exactly is the difference?\n",
    "\n",
    "```shell\n",
    "$ git diff\n",
    "```  \n",
    "\n",
    "In case we want to discard our changes now:\n",
    "\n",
    "```shell\n",
    "$ git checkout integration_rules.py\n",
    "```  \n",
    "\n",
    "In this case, we discard our changes immediately. However, we can always return to any version of our file ever commited.\n",
    "\n",
    "```shell\n",
    "$ git checkout IDENTIFIER integration_rules.py\n",
    "```  \n"
   ]
  },
  {
   "cell_type": "markdown",
   "metadata": {
    "slideshow": {
     "slide_type": "slide"
    }
   },
   "source": [
    "Once you are familiar with the basic workflow for versioning your own code. The natural next step is to share your code online. [*GitHub*](https://github.com) is a popular online hosting service. Among other benefits, you then have a backup copy of your files and can establish a tranparent workflow with your co-authors. \n",
    "\n",
    "Let us check out the repository for my current research on ambiguity [here](https://github.com/robustToolbox).\n",
    "\n",
    "For a more detailed look at what *Git* has to offer, check out [Blischak & al. (2016)](http://journals.plos.org/ploscompbiol/article?id=10.1371/journal.pcbi.1004668)"
   ]
  },
  {
   "cell_type": "markdown",
   "metadata": {
    "slideshow": {
     "slide_type": "slide"
    }
   },
   "source": [
    "## Testing"
   ]
  },
  {
   "cell_type": "markdown",
   "metadata": {
    "slideshow": {
     "slide_type": "slide"
    }
   },
   "source": [
    "### Types of Tests\n",
    "\n",
    "* Unit Tests\n",
    "\n",
    "* Integration Tests\n",
    "\n",
    "* Regression Tests "
   ]
  },
  {
   "cell_type": "code",
   "execution_count": 4,
   "metadata": {
    "collapsed": true,
    "slideshow": {
     "slide_type": "slide"
    }
   },
   "outputs": [],
   "source": [
    "def generate_random_request():\n",
    "    \"\"\" Generate a random admissible request.\n",
    "    \"\"\"\n",
    "    # Draw random deviates that honor the suppert\n",
    "    # constraints.\n",
    "    mean = np.random.normal()\n",
    "    alpha, sd = np.random.uniform(size=2)\n",
    "\n",
    "    # Finishing\n",
    "    return alpha, mean, sd"
   ]
  },
  {
   "cell_type": "code",
   "execution_count": 5,
   "metadata": {
    "collapsed": false,
    "slideshow": {
     "slide_type": "slide"
    }
   },
   "outputs": [
    {
     "name": "stdout",
     "output_type": "stream",
     "text": [
      "Request: 0.235, 1.078, 0.745  Result: 1.309\n"
     ]
    }
   ],
   "source": [
    "# Generate and evaluate a random request.\n",
    "alpha, mean, sd = generate_random_request()\n",
    "rslt = get_expected_utility(alpha, mean, sd)\n",
    "# Print out request and result\n",
    "print('Request: {0:.3f}, {1:.3f}, {2:.3f}  Result: {3:.3f}'.format(alpha, mean, sd, rslt))"
   ]
  },
  {
   "cell_type": "code",
   "execution_count": 6,
   "metadata": {
    "collapsed": true,
    "slideshow": {
     "slide_type": "slide"
    }
   },
   "outputs": [],
   "source": [
    "def test_random_requests():\n",
    "    \"\"\" Draw a whole host of random requests to \n",
    "    ensure that the function works for all admissible \n",
    "    values.\n",
    "    \"\"\"    \n",
    "    for _ in range(5):\n",
    "        # Get expected returns.\n",
    "        alpha, mean, sd = generate_random_request()\n",
    "        get_expected_utility(alpha, mean, sd)\n",
    "\n",
    "\n",
    "def test_results():\n",
    "    \"\"\" Test some previous knowledge about the results.\n",
    "    \"\"\"\n",
    "    for _ in range(5):\n",
    "        # Get expected returns.\n",
    "        alpha, mean, sd = generate_random_request()\n",
    "        rslt = get_expected_utility(alpha, mean, sd)\n",
    "        # Assertions\n",
    "        assert rslt > 0   \n"
   ]
  },
  {
   "cell_type": "code",
   "execution_count": 7,
   "metadata": {
    "collapsed": false,
    "slideshow": {
     "slide_type": "slide"
    }
   },
   "outputs": [],
   "source": [
    "def test_closed_form():\n",
    "    \"\"\" Test the simulated result against the closed \n",
    "    form solution in the special case of linear utility.\n",
    "    \"\"\"\n",
    "    for _ in range(1):\n",
    "        _, mean, sd = generate_random_request()\n",
    "        alpha = 1.0\n",
    "        # Get expected returns using simulation.\n",
    "        simulated = get_expected_utility(alpha, mean, sd)\n",
    "        # Get expected returns using closed form.\n",
    "        closed = np.exp(mean + (sd ** 2) * 0.5)\n",
    "        # Assertions. Note the small number of decimal points\n",
    "        # required. Given the precision of the Monte Carlo integration\n",
    "        # this test if bound to fail sometimes.\n",
    "        np.testing.assert_almost_equal(closed, simulated, decimal=3)"
   ]
  },
  {
   "cell_type": "markdown",
   "metadata": {
    "slideshow": {
     "slide_type": "slide"
    }
   },
   "source": [
    "In principle, we can now run our tests one-by-one:"
   ]
  },
  {
   "cell_type": "code",
   "execution_count": 8,
   "metadata": {
    "collapsed": false,
    "slideshow": {
     "slide_type": "-"
    }
   },
   "outputs": [
    {
     "ename": "KeyboardInterrupt",
     "evalue": "",
     "output_type": "error",
     "traceback": [
      "\u001b[1;31m---------------------------------------------------------------------------\u001b[0m",
      "\u001b[1;31mKeyboardInterrupt\u001b[0m                         Traceback (most recent call last)",
      "\u001b[1;32m<ipython-input-8-715f25209105>\u001b[0m in \u001b[0;36m<module>\u001b[1;34m()\u001b[0m\n\u001b[0;32m      1\u001b[0m \u001b[0mtest_random_requests\u001b[0m\u001b[1;33m(\u001b[0m\u001b[1;33m)\u001b[0m\u001b[1;33m\u001b[0m\u001b[0m\n\u001b[0;32m      2\u001b[0m \u001b[1;33m\u001b[0m\u001b[0m\n\u001b[1;32m----> 3\u001b[1;33m \u001b[0mtest_results\u001b[0m\u001b[1;33m(\u001b[0m\u001b[1;33m)\u001b[0m\u001b[1;33m\u001b[0m\u001b[0m\n\u001b[0m\u001b[0;32m      4\u001b[0m \u001b[1;33m\u001b[0m\u001b[0m\n\u001b[0;32m      5\u001b[0m \u001b[0mtest_closed_form\u001b[0m\u001b[1;33m(\u001b[0m\u001b[1;33m)\u001b[0m\u001b[1;33m\u001b[0m\u001b[0m\n",
      "\u001b[1;32m<ipython-input-6-8987724700f8>\u001b[0m in \u001b[0;36mtest_results\u001b[1;34m()\u001b[0m\n\u001b[0;32m     16\u001b[0m         \u001b[1;31m# Get expected returns.\u001b[0m\u001b[1;33m\u001b[0m\u001b[1;33m\u001b[0m\u001b[0m\n\u001b[0;32m     17\u001b[0m         \u001b[0malpha\u001b[0m\u001b[1;33m,\u001b[0m \u001b[0mmean\u001b[0m\u001b[1;33m,\u001b[0m \u001b[0msd\u001b[0m \u001b[1;33m=\u001b[0m \u001b[0mgenerate_random_request\u001b[0m\u001b[1;33m(\u001b[0m\u001b[1;33m)\u001b[0m\u001b[1;33m\u001b[0m\u001b[0m\n\u001b[1;32m---> 18\u001b[1;33m         \u001b[0mrslt\u001b[0m \u001b[1;33m=\u001b[0m \u001b[0mget_expected_utility\u001b[0m\u001b[1;33m(\u001b[0m\u001b[0malpha\u001b[0m\u001b[1;33m,\u001b[0m \u001b[0mmean\u001b[0m\u001b[1;33m,\u001b[0m \u001b[0msd\u001b[0m\u001b[1;33m)\u001b[0m\u001b[1;33m\u001b[0m\u001b[0m\n\u001b[0m\u001b[0;32m     19\u001b[0m         \u001b[1;31m# Assertions\u001b[0m\u001b[1;33m\u001b[0m\u001b[1;33m\u001b[0m\u001b[0m\n\u001b[0;32m     20\u001b[0m         \u001b[1;32massert\u001b[0m \u001b[0mrslt\u001b[0m \u001b[1;33m>\u001b[0m \u001b[1;36m0\u001b[0m\u001b[1;33m\u001b[0m\u001b[0m\n",
      "\u001b[1;32m<ipython-input-2-8740c7284025>\u001b[0m in \u001b[0;36mget_expected_utility\u001b[1;34m(alpha, mean, sd)\u001b[0m\n\u001b[0;32m     15\u001b[0m \u001b[1;33m\u001b[0m\u001b[0m\n\u001b[0;32m     16\u001b[0m     \u001b[1;31m# Draw ten-thousand deviates from the\u001b[0m\u001b[1;33m\u001b[0m\u001b[1;33m\u001b[0m\u001b[0m\n\u001b[1;32m---> 17\u001b[1;33m     \u001b[0mdeviates\u001b[0m \u001b[1;33m=\u001b[0m \u001b[0mget_random_deviates\u001b[0m\u001b[1;33m(\u001b[0m\u001b[0mmean\u001b[0m\u001b[1;33m,\u001b[0m \u001b[0msd\u001b[0m\u001b[1;33m,\u001b[0m \u001b[0mnum_draws\u001b[0m\u001b[1;33m)\u001b[0m\u001b[1;33m\u001b[0m\u001b[0m\n\u001b[0m\u001b[0;32m     18\u001b[0m \u001b[1;33m\u001b[0m\u001b[0m\n\u001b[0;32m     19\u001b[0m     \u001b[1;31m# Calculate the average utility from all deviates.\u001b[0m\u001b[1;33m\u001b[0m\u001b[1;33m\u001b[0m\u001b[0m\n",
      "\u001b[1;32m<ipython-input-3-293ad1cf395d>\u001b[0m in \u001b[0;36mget_random_deviates\u001b[1;34m(mean, sd, num_draws)\u001b[0m\n\u001b[0;32m      7\u001b[0m     \u001b[1;32mfor\u001b[0m \u001b[0m_\u001b[0m \u001b[1;32min\u001b[0m \u001b[0mrange\u001b[0m\u001b[1;33m(\u001b[0m\u001b[0mnum_draws\u001b[0m\u001b[1;33m)\u001b[0m\u001b[1;33m:\u001b[0m\u001b[1;33m\u001b[0m\u001b[0m\n\u001b[0;32m      8\u001b[0m         \u001b[0mdeviate\u001b[0m \u001b[1;33m=\u001b[0m \u001b[0mnp\u001b[0m\u001b[1;33m.\u001b[0m\u001b[0mrandom\u001b[0m\u001b[1;33m.\u001b[0m\u001b[0mlognormal\u001b[0m\u001b[1;33m(\u001b[0m\u001b[0mmean\u001b[0m\u001b[1;33m,\u001b[0m \u001b[0msd\u001b[0m\u001b[1;33m)\u001b[0m\u001b[1;33m\u001b[0m\u001b[0m\n\u001b[1;32m----> 9\u001b[1;33m         \u001b[0mdeviates\u001b[0m \u001b[1;33m+=\u001b[0m \u001b[1;33m[\u001b[0m\u001b[0mdeviate\u001b[0m\u001b[1;33m]\u001b[0m\u001b[1;33m\u001b[0m\u001b[0m\n\u001b[0m\u001b[0;32m     10\u001b[0m \u001b[1;33m\u001b[0m\u001b[0m\n\u001b[0;32m     11\u001b[0m     \u001b[1;31m# Type Conversion\u001b[0m\u001b[1;33m\u001b[0m\u001b[1;33m\u001b[0m\u001b[0m\n",
      "\u001b[1;31mKeyboardInterrupt\u001b[0m: "
     ]
    }
   ],
   "source": [
    "test_random_requests()\n",
    "\n",
    "test_results()\n",
    "\n",
    "test_closed_form()"
   ]
  },
  {
   "cell_type": "markdown",
   "metadata": {
    "slideshow": {
     "slide_type": "slide"
    }
   },
   "source": [
    "How about test automation? Let us now run our test battery in the terminal. See our repository [here](https://github.com/softEcon/talks/blob/master/ZICE/software_engineering/tests.py) for the script. We are using [*py.test*](http://pytest.org). As usual, several alternatives exist: (1) [*nose*](https://nose.readthedocs.org/en/latest/), (2) [unittest](https://docs.python.org/2/library/unittest.html#module-unittest)."
   ]
  },
  {
   "cell_type": "code",
   "execution_count": null,
   "metadata": {
    "collapsed": false,
    "slideshow": {
     "slide_type": "slide"
    }
   },
   "outputs": [],
   "source": [
    "%%bash\n",
    "py.test tests.py --verbose "
   ]
  },
  {
   "cell_type": "markdown",
   "metadata": {
    "slideshow": {
     "slide_type": "slide"
    }
   },
   "source": [
    "How do we know how much of our code base we in fact cover with our testing efforts so far?"
   ]
  },
  {
   "cell_type": "code",
   "execution_count": null,
   "metadata": {
    "collapsed": false,
    "slideshow": {
     "slide_type": "slide"
    }
   },
   "outputs": [],
   "source": [
    "%%bash\n",
    "py.test tests.py --cov=sandbox"
   ]
  },
  {
   "cell_type": "markdown",
   "metadata": {
    "slideshow": {
     "slide_type": "slide"
    }
   },
   "source": [
    "## Automated Code Review"
   ]
  },
  {
   "cell_type": "markdown",
   "metadata": {
    "slideshow": {
     "slide_type": "slide"
    }
   },
   "source": [
    "There are multiple dimensions to code quality:\n",
    "\n",
    "* Correctness\n",
    "\n",
    "* Maintainability\n",
    "\n",
    "* Readability\n",
    "\n",
    "* Scalabilty\n",
    "\n",
    "There are several tools out there that I found useful in the past to improve the quality of my code along these dimensions (1) [*QuantifiedCode*](https://www.quantifiedcode.com/) and (2) [*Codacy*](https://www.codacy.com). Let us visit *QuantifiedCode* online and take a look around."
   ]
  },
  {
   "cell_type": "markdown",
   "metadata": {
    "collapsed": false,
    "slideshow": {
     "slide_type": "slide"
    }
   },
   "source": [
    "<img src='images/quantifiedcode.png' width=950 height=1000>"
   ]
  },
  {
   "cell_type": "markdown",
   "metadata": {
    "slideshow": {
     "slide_type": "slide"
    }
   },
   "source": [
    "## Profiling"
   ]
  },
  {
   "cell_type": "markdown",
   "metadata": {
    "slideshow": {
     "slide_type": "slide"
    }
   },
   "source": [
    "Using these tools helps you to improve your own programming skills over time as each of the issues is well explained and best practices provided. More lightweight solutions are also available: (1) [*Pylint*](http://www.pylint.org/), (2) [*Pyflakes*](https://github.com/pyflakes/pyflakes), and (3) [*pep8*](https://github.com/PyCQA/pep8)."
   ]
  },
  {
   "cell_type": "code",
   "execution_count": null,
   "metadata": {
    "collapsed": false,
    "slideshow": {
     "slide_type": "skip"
    }
   },
   "outputs": [],
   "source": [
    "%load_ext snakeviz"
   ]
  },
  {
   "cell_type": "code",
   "execution_count": null,
   "metadata": {
    "collapsed": false,
    "slideshow": {
     "slide_type": "slide"
    }
   },
   "outputs": [],
   "source": [
    "# standard library\n",
    "import cProfile\n",
    "\n",
    "import sandbox\n",
    "from sandbox import get_expected_utility\n",
    "\n",
    "# As a start, let us start with a table of profile data.\n",
    "cProfile.run(\"get_expected_utility(1.0, 0.0, 1.0)\")"
   ]
  },
  {
   "cell_type": "markdown",
   "metadata": {
    "collapsed": false,
    "slideshow": {
     "slide_type": "slide"
    }
   },
   "source": [
    "<img src='images/snakeviz.png' width=950 height=1000>"
   ]
  },
  {
   "cell_type": "markdown",
   "metadata": {
    "slideshow": {
     "slide_type": "slide"
    }
   },
   "source": [
    "Let us inspect our code."
   ]
  },
  {
   "cell_type": "code",
   "execution_count": null,
   "metadata": {
    "collapsed": true,
    "slideshow": {
     "slide_type": "-"
    }
   },
   "outputs": [],
   "source": [
    "cProfile.run(\"get_expected_utility(1.0, 0.0, 1.0)\", \"sandbox.prof\")"
   ]
  },
  {
   "cell_type": "code",
   "execution_count": null,
   "metadata": {
    "collapsed": false,
    "slideshow": {
     "slide_type": "slide"
    }
   },
   "outputs": [],
   "source": [
    "%time rslt = get_expected_utility(1.0, 0.0, 1.0, version='slow')\n",
    "print('')\n",
    "%time rslt = get_expected_utility(1.0, 0.0, 1.0, version='fast')\n",
    "\n",
    "cProfile.run(\"get_expected_utility(1.0, 0.0, 1.0, 'fast')\", \"sandbox_fast.prof\")"
   ]
  },
  {
   "cell_type": "markdown",
   "metadata": {
    "slideshow": {
     "slide_type": "slide"
    }
   },
   "source": [
    "## Continuous Integration Workflow"
   ]
  },
  {
   "cell_type": "markdown",
   "metadata": {
    "slideshow": {
     "slide_type": "slide"
    }
   },
   "source": [
    "** Automation Steps**\n",
    "\n",
    "* Version Control\n",
    "\n",
    "* Testing and Coverage\n",
    "\n",
    "* Code Review\n",
    "\n",
    "* Build\n",
    "\n",
    "* ...\n",
    "\n",
    "using [Github](https://github.com) and its [integrations](https://github.com/integrations)."
   ]
  },
  {
   "cell_type": "markdown",
   "metadata": {
    "collapsed": false,
    "slideshow": {
     "slide_type": "slide"
    }
   },
   "source": [
    "<img src='images/continous_integration.png' width=950 height=1000>"
   ]
  },
  {
   "cell_type": "markdown",
   "metadata": {
    "slideshow": {
     "slide_type": "slide"
    }
   },
   "source": [
    "## Best Practices\n",
    "\n",
    "* Set up a scalable workflow right from the beginning.\n",
    "\n",
    "* Build your model in a hierarchical way.\n",
    "\n",
    "* Develop a testing harness as you impelement and refine your code.\n",
    "\n",
    "* Intiaially focus on the reability and then tackle performance issues.\n"
   ]
  },
  {
   "cell_type": "markdown",
   "metadata": {
    "slideshow": {
     "slide_type": "slide"
    }
   },
   "source": [
    "## Next Steps\n",
    "\n",
    "* Check out more detailed lectures at the *Software Engineering for Economists Initiative* [online](https://github.com/softEcon).\n",
    "    * Contribute a lecture on a special topic of your choice. See [here](http://nbviewer.ipython.org/github/softEcon/specials/blob/master/toolkit_for_advanced_optimization/lecture.ipynb) for an example.\n",
    "    \n",
    "* Explore the material on [*Software Carpentry*](http://software-carpentry.org).\n",
    "    \n",
    "* Sign up for personal [*GitHub*](https://github.com/) account and create a remote repository.\n",
    "\n",
    "* If you are using a Windows machine, download and install [*Ubuntu Desktop*](http://www.ubuntu.com/desktop).\n",
    "\n",
    "* Set aside a day or two to establish an continuous integration workflow for your current research project."
   ]
  },
  {
   "cell_type": "markdown",
   "metadata": {
    "slideshow": {
     "slide_type": "slide"
    }
   },
   "source": [
    "<style>\n",
    "li { margin: 1em 3em; padding: 0.2em; }\n",
    "</style>\n",
    "\n",
    "<h2>Contact</h2>\n",
    "\n",
    "<br><br>\n",
    "<b>Philipp Eisenhauer</b>\n",
    "<ul>\n",
    "  <li> Mail  <a href=\"mailto:eisenhauer@policy-lab.org\">eisenhauer@policy-lab.org</a></li><br>\n",
    "   <li>Web  <a href=\"http://www.policy-lab.org/peisenha\">http://www.policy-lab.org/peisenha</a></li><br>\n",
    "  <li>Repository  <a href=\"https://github.com/peisenha\">https://github.com/peisenha</a></li>\n",
    "</ul>\n",
    "\n",
    "<br><br>\n",
    "<b>Software Engineering for Economists Initiative</b>\n",
    "<ul>\n",
    "  <li>Repository  <a href=\"http://softecon.github.io\">http://softecon.github.io</a></li><br>\n",
    "</ul>\n"
   ]
  },
  {
   "cell_type": "code",
   "execution_count": 11,
   "metadata": {
    "collapsed": false,
    "slideshow": {
     "slide_type": "skip"
    }
   },
   "outputs": [
    {
     "data": {
      "text/html": [
       "<link href='http://fonts.googleapis.com/css?family=Alegreya+Sans:100,300,400,500,700,800,900,100italic,300italic,400italic,500italic,700italic,800italic,900italic' rel='stylesheet' type='text/css'>\n",
       "<link href='http://fonts.googleapis.com/css?family=Arvo:400,700,400italic' rel='stylesheet' type='text/css'>\n",
       "<link href='http://fonts.googleapis.com/css?family=PT+Mono' rel='stylesheet' type='text/css'>\n",
       "<link href='http://fonts.googleapis.com/css?family=Shadows+Into+Light' rel='stylesheet' type='text/css'>\n",
       "<link href='http://fonts.googleapis.com/css?family=Philosopher:400,700,400italic,700italic' rel='stylesheet' type='text/css'>\n",
       "\n",
       "<style>\n",
       "\n",
       "@font-face {\n",
       "    font-family: \"Computer Modern\";\n",
       "    src: url('http://mirrors.ctan.org/fonts/cm-unicode/fonts/otf/cmunss.otf');\n",
       "}\n",
       "\n",
       "#notebook_panel { /* main background */\n",
       "    background: #888;\n",
       "    color: #f6f6f6;\n",
       "}\n",
       "\n",
       "\n",
       "div.cell { /* set cell width to about 80 chars */\n",
       "    width: 1000px;\n",
       "}\n",
       "\n",
       "div #notebook { /* centre the content */\n",
       "    background: #fff; /* white background for content */\n",
       "    width: 1200px;\n",
       "    margin: auto;\n",
       "    padding-left: 1em;\n",
       "}\n",
       "\n",
       "#notebook li { /* More space between bullet points */\n",
       "margin-top:0.8em;\n",
       "}\n",
       "\n",
       "/* draw border around running cells */\n",
       "div.cell.border-box-sizing.code_cell.running {\n",
       "    border: 3px solid #111;\n",
       "}\n",
       "\n",
       "/* Put a solid color box around each cell and its output, visually linking them together */\n",
       "div.cell.code_cell {\n",
       "    background-color: rgba(171,165,131,0.3); \n",
       "    border-radius: 10px; /* rounded borders */\n",
       "    padding: 1em;\n",
       "    margin-top: 1em;\n",
       "}\n",
       "\n",
       "div.text_cell_render{\n",
       "    font-family: 'Arvo' sans-serif;\n",
       "    line-height: 130%;\n",
       "    font-size: 150%;\n",
       "    width:900px;\n",
       "    margin-left:auto;\n",
       "    margin-right:auto;\n",
       "}\n",
       "\n",
       "/* Formatting for header cells */\n",
       ".text_cell_render h1 {\n",
       "    font-family: 'Philosopher', sans-serif;\n",
       "    font-weight: 400;\n",
       "    font-size: 32pt;\n",
       "    line-height: 100%;\n",
       "    color: rgb(12,85,97);\n",
       "    margin-bottom: 0.1em;\n",
       "    margin-top: 0.1em;\n",
       "    display: block;\n",
       "}\n",
       "\n",
       ".text_cell_render h2 {\n",
       "    font-family: 'Philosopher', serif;\n",
       "    font-weight: 700;\n",
       "    font-size: 24pt;\n",
       "    line-height: 100%;\n",
       "    color: rgb(171,165,131);\n",
       "    margin-bottom: 0.1em;\n",
       "    margin-top: 0.1em;\n",
       "    display: block;\n",
       "}    \n",
       "\n",
       ".text_cell_render h3 {\n",
       "    font-family: 'Philosopher', serif;\n",
       "    margin-top:12px;\n",
       "    margin-bottom: 3px;\n",
       "    font-style: italic;\n",
       "    color: rgb(95,92,72);\n",
       "}\n",
       "\n",
       ".text_cell_render h4 {\n",
       "    font-family: 'Philosopher', serif;\n",
       "}\n",
       "\n",
       ".text_cell_render h5 {\n",
       "    font-family: 'Alegreya Sans', sans-serif;\n",
       "    font-weight: 300;\n",
       "    font-size: 16pt;\n",
       "    color: grey;\n",
       "    font-style: italic;\n",
       "    margin-bottom: .1em;\n",
       "    margin-top: 0.1em;\n",
       "    display: block;\n",
       "}\n",
       "\n",
       ".text_cell_render h6 {\n",
       "    font-family: 'PT Mono', sans-serif;\n",
       "    font-weight: 300;\n",
       "    font-size: 10pt;\n",
       "    color: grey;\n",
       "    margin-bottom: 1px;\n",
       "    margin-top: 1px;\n",
       "}\n",
       "\n",
       ".CodeMirror{\n",
       "        font-family: \"PT Mono\";\n",
       "        font-size: 120%;\n",
       "}\n",
       "\n",
       "</style>\n"
      ],
      "text/plain": [
       "<IPython.core.display.HTML object>"
      ]
     },
     "execution_count": 11,
     "metadata": {},
     "output_type": "execute_result"
    }
   ],
   "source": [
    "import urllib; from IPython.core.display import HTML\n",
    "HTML(urllib.urlopen('http://bit.ly/1K5apRH').read())"
   ]
  }
 ],
 "metadata": {
  "celltoolbar": "Slideshow",
  "kernelspec": {
   "display_name": "Python 2",
   "language": "python",
   "name": "python2"
  },
  "language_info": {
   "codemirror_mode": {
    "name": "ipython",
    "version": 2
   },
   "file_extension": ".py",
   "mimetype": "text/x-python",
   "name": "python",
   "nbconvert_exporter": "python",
   "pygments_lexer": "ipython2",
   "version": "2.7.10"
  }
 },
 "nbformat": 4,
 "nbformat_minor": 0
}
