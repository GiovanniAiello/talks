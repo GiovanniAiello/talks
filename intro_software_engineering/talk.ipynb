{
 "cells": [
  {
   "cell_type": "markdown",
   "metadata": {
    "collapsed": false,
    "slideshow": {
     "slide_type": "slide"
    }
   },
   "source": [
    "# Software Engineering for Economists"
   ]
  },
  {
   "cell_type": "markdown",
   "metadata": {
    "slideshow": {
     "slide_type": "slide"
    }
   },
   "source": [
    "## Assessing the Reliability of Structural Econometric Models\n",
    "\n",
    "* ***Verification*** How accurately does the computational model solve the underlying equations of the model for the quantities of interest?\n",
    "\n",
    "* ***Validation*** How accurately does the model represent the reality for the quantities of interest?\n",
    "\n",
    "* ***Uncertainty Quantification*** How do the various sources of error and uncertainty feed into uncertainty in the model-based prediction of the quantities of interest?"
   ]
  },
  {
   "cell_type": "markdown",
   "metadata": {
    "slideshow": {
     "slide_type": "slide"
    }
   },
   "source": [
    "### Software Engineering facilitates Verification Step\n",
    "\n",
    "* verifying correctness\n",
    "\n",
    "* increase transparency\n",
    "\n",
    "* free cognitive resources"
   ]
  },
  {
   "cell_type": "markdown",
   "metadata": {
    "slideshow": {
     "slide_type": "slide"
    }
   },
   "source": [
    "<img src='images/venn_diagram.png' width=\"750\" height=\"750\">"
   ]
  },
  {
   "cell_type": "markdown",
   "metadata": {
    "slideshow": {
     "slide_type": "slide"
    }
   },
   "source": [
    "## Research Example\n",
    "\n",
    "### Ambiguity in Dynamic Models of Educational Choice\n",
    "\n",
    "* Plausible\n",
    "\n",
    "    * better description of agent decision problem\n",
    "    \n",
    "* Meaningful\n",
    "\n",
    "    * reinterpretation of economic phenomenon\n",
    "    * reevaluation of policy interventions\n",
    "\n",
    "* Tractable"
   ]
  },
  {
   "cell_type": "markdown",
   "metadata": {
    "slideshow": {
     "slide_type": "slide"
    }
   },
   "source": [
    "### Computational Challenges and Software Engineering\n",
    "\n",
    "* ensure correctness of implementation\n",
    "\n",
    "* manage numerous numerical components\n",
    "\n",
    "* address performance constraints\n",
    "\n",
    "* guarantee recomputability and extensibility\n",
    "\n",
    "* ...\n",
    "\n",
    "$\\Rightarrow$ building, documenting, and communicating expertise.\n",
    "\n",
    "\n",
    "The online repository of *respy* is available on [*GitHub*](https://github.com/restudToolbox/package).\n"
   ]
  },
  {
   "cell_type": "markdown",
   "metadata": {
    "slideshow": {
     "slide_type": "slide"
    }
   },
   "source": [
    "## Example"
   ]
  },
  {
   "cell_type": "markdown",
   "metadata": {
    "slideshow": {
     "slide_type": "-"
    }
   },
   "source": [
    "Throughout this lecture we will work with a simple example. We are intersted in building a code to calculate an agent's expected utility $EU$ from a lottery. The generic problem is\n",
    "\n",
    "$$E U= \\int^{-\\infty}_{\\infty} u(x) f(x)dx,$$\n",
    "\n",
    "where $x$ is a possible outome, $f(x)$ denotes the probability density function, and $u(x)$ the utility functions.\n",
    "\n",
    "We start with a simple utiliy function\n",
    "\n",
    "$$ u(x) = \\sqrt{x},$$\n",
    "\n",
    "where $x > 0$ and $x$ is drawn from a standard lognormal distribution with scale parameter $s$. To solve the integral, we opt for a naive Monte Carlo integration. See [Skrainka & Judd (2013)](http://papers.ssrn.com/sol3/papers.cfm?abstract_id=1870703) for the importance of choosing more advanced integration strategies in serious research."
   ]
  },
  {
   "cell_type": "markdown",
   "metadata": {
    "slideshow": {
     "slide_type": "slide"
    }
   },
   "source": [
    "# Prototyping"
   ]
  },
  {
   "cell_type": "code",
   "execution_count": null,
   "metadata": {
    "collapsed": false,
    "slideshow": {
     "slide_type": "-"
    }
   },
   "outputs": [],
   "source": [
    "from scipy.stats import lognorm\n",
    "\n",
    "deviates = lognorm.rvs(1, size=1000)\n",
    "\n",
    "Rslt = 0.0\n",
    "for deviate in deviates:\n",
    "    Rslt += deviate ** 0.5\n",
    "\n",
    "print('Expected Utility {}'.format(Rslt/10000))"
   ]
  },
  {
   "cell_type": "markdown",
   "metadata": {
    "slideshow": {
     "slide_type": "fragment"
    }
   },
   "source": [
    "### Problems\n",
    "\n",
    "* Hard-coded problem parameters are spread out across the problem.\n",
    "\n",
    "* The naming of variables appears not consistent.\n",
    "\n",
    "* There is no obvious way the code scales to solve a more generic problem.\n",
    "\n",
    "* The implementation is not tested."
   ]
  },
  {
   "cell_type": "markdown",
   "metadata": {
    "slideshow": {
     "slide_type": "slide"
    }
   },
   "source": [
    "### What would a more mature implementation look like?\n",
    "\n",
    "$\\quad$\n",
    "```shell\n",
    "\n",
    "run.py\n",
    "\n",
    "eupy/\n",
    "\n",
    "... eu_calculation.py\n",
    "... integration_rules.py\n",
    "... utility_functions.py\n",
    "... __init__.py\n",
    "\n",
    "... testing/\n",
    "       ... __init__.py\n",
    "       ... test_eupy.py\n",
    "       ... checks.py\n",
    "\n",
    "```"
   ]
  },
  {
   "cell_type": "markdown",
   "metadata": {
    "slideshow": {
     "slide_type": "fragment"
    }
   },
   "source": [
    "### Main Improvements\n",
    "\n",
    "* clear and extensible structure\n",
    "\n",
    "* testing infrastucture available\n",
    "\n",
    "* ..."
   ]
  },
  {
   "cell_type": "markdown",
   "metadata": {
    "slideshow": {
     "slide_type": "slide"
    }
   },
   "source": [
    "## Goal of the Lectures\n",
    "\n",
    "Provide some guidance on how to get from a protoype to a more mature implementation of your research project in a systematic way.\n",
    "\n",
    "### Dimensions of Code Quality\n",
    "\n",
    "* correctness\n",
    "\n",
    "* maintainability\n",
    "\n",
    "* readability\n",
    "\n",
    "* scalabilty"
   ]
  },
  {
   "cell_type": "markdown",
   "metadata": {
    "slideshow": {
     "slide_type": "slide"
    }
   },
   "source": [
    "###  Basic Tools\n",
    "\n",
    "<style>\n",
    "table,td,tr,th {border:none!important}\n",
    "</style>\n",
    "<table style=\"width:90%\">\n",
    "  <tbody>\n",
    "    <tr height=\"40\">\n",
    "      <td style=\"vertical-align:top; padding-left:30px;\">\n",
    "          <li>Version Control</li>\n",
    "      </td>\n",
    "      <td style=\"vertical-align:top; padding-left:30px;\">\n",
    "          <li>Code Review</li>\n",
    "      </td>\n",
    "    </tr>\n",
    "    <tr height=\"40\">\n",
    "      <td style=\"vertical-align:top; padding-left:30px;\">\n",
    "          <li>Testing</li>\n",
    "      </td>\n",
    "      <td style=\"vertical-align:top; padding-left:30px;\">\n",
    "          <li>Profiling </li>\n",
    "      </td>\n",
    "    </tr>\n",
    "    <tr height=\"40\">\n",
    "      <td style=\"vertical-align:top; padding-left:30px;\">\n",
    "          <li>Continous Integration</li>\n",
    "    </tr>\n",
    "  </tbody>\n",
    "</table> "
   ]
  },
  {
   "cell_type": "markdown",
   "metadata": {
    "slideshow": {
     "slide_type": "slide"
    }
   },
   "source": [
    "## Version Control\n",
    "\n",
    "Version Control records changes to a file or set of files over time so that you can recall (and compare) specific versions later. I draw heavily on the free e-book [*Pro Git*](http://www.git-scm.com/book/en/v2) and [Blischak & al. (2016)](http://journals.plos.org/ploscompbiol/article?id=10.1371/journal.pcbi.1004668).\n",
    "\n",
    "Tracking changes to your code over time has a variety of benefits:\n",
    "\n",
    "* tractability\n",
    "\n",
    "* clarity \n",
    "\n",
    "* flexibility\n",
    "\n",
    "* reduced duplication and error \n",
    "\n",
    "$\\Rightarrow$ transparent, reproducible, and collaborative research."
   ]
  },
  {
   "cell_type": "markdown",
   "metadata": {
    "slideshow": {
     "slide_type": "slide"
    }
   },
   "source": [
    "In our quick tour, we will do the following:\n",
    "\n",
    "* set up local repository\n",
    "\n",
    "* commit files\n",
    "\n",
    "* track changes to files\n",
    "\n",
    "* compare versions of files "
   ]
  },
  {
   "cell_type": "markdown",
   "metadata": {
    "slideshow": {
     "slide_type": "slide"
    }
   },
   "source": [
    "We will use the *eupy* package as our baseline.\n",
    "\n",
    "<img src='images/eupy_package.png' width=\"700\" height=\"700\">\n",
    "\n",
    "```shell\n",
    "$ git clone https://github.com/softEcon/eupy.git; rm -rf eupy/.git\n",
    "```"
   ]
  },
  {
   "cell_type": "markdown",
   "metadata": {
    "slideshow": {
     "slide_type": "slide"
    }
   },
   "source": [
    "Let us initialize a repository ...\n",
    "\n",
    "```shell\n",
    "$ git init\n",
    "Initialized empty Git repository in eupy/.git/\n",
    "```\n",
    "\n",
    "... and provide some information about ourselves.\n",
    "\n",
    "```shell\n",
    "$ git config user.name \"Philipp Eisenhauer\"\n",
    "$ git config user.email \"eisenhauer@policy-lab.org\"\n",
    "```"
   ]
  },
  {
   "cell_type": "markdown",
   "metadata": {
    "slideshow": {
     "slide_type": "slide"
    }
   },
   "source": [
    "First of all, let us take stock and check the status of our local repository:\n",
    "\n",
    "```shell\n",
    "$ git status\n",
    "On branch master\n",
    "\n",
    "Initial commit\n",
    "\n",
    "Untracked files:\n",
    "  (use \"git add <file>...\" to include in what will be committed)\n",
    "\n",
    "        .coveralls.yml\n",
    "        .gitignore\n",
    "        .travis.yml\n",
    "        LICENSE\n",
    "        MANIFEST\n",
    "        README.md\n",
    "        _travis/\n",
    "        dist/\n",
    "        eupy/\n",
    "        requirements.txt\n",
    "        run.py\n",
    "        setup.cfg\n",
    "        setup.py\n",
    "\n",
    "nothing added to commit but untracked files present (use \"git add\" to track\n",
    "    \n",
    "```"
   ]
  },
  {
   "cell_type": "markdown",
   "metadata": {
    "slideshow": {
     "slide_type": "slide"
    }
   },
   "source": [
    "We now set up tracking of all our files and revisit the status:\n",
    "\n",
    "```shell\n",
    "$ git add *\n",
    "$ git status\n",
    "On branch master\n",
    "\n",
    "Initial commit\n",
    "\n",
    "Changes to be committed:\n",
    "  (use \"git rm --cached <file>...\" to unstage)\n",
    "\n",
    "\n",
    "        new file:   eupy/__init__.py\n",
    "        new file:   eupy/eu_calculations.py\n",
    "        new file:   eupy/integration_rules.py\n",
    "        new file:   eupy/testing/\n",
    "        new file:   eupy/utility_functions.py\n",
    "        new file:   requirements.txt\n",
    "        new file:   run.py\n",
    "\n",
    "Untracked files:\n",
    "  (use \"git add <file>...\" to include in what will be committed)\n",
    "\n",
    "        .coveralls.yml\n",
    "        .gitignore\n",
    "        .travis.yml\n",
    "```"
   ]
  },
  {
   "cell_type": "markdown",
   "metadata": {
    "slideshow": {
     "slide_type": "slide"
    }
   },
   "source": [
    "<img src='images/lifecycle.png' width=\"1000\" height=\"1000\">"
   ]
  },
  {
   "cell_type": "markdown",
   "metadata": {
    "slideshow": {
     "slide_type": "slide"
    }
   },
   "source": [
    "We are now ready for our initial commit.\n",
    "\n",
    "```shell\n",
    "$ git commit -a -m'Initial commit of directory content.'\n",
    " 19 files changed, 662 insertions(+)\n",
    " create mode 100644 LICENSE\n",
    " create mode 100644 MANIFEST\n",
    " create mode 100644 README.md\n",
    " create mode 100644 _travis/requirements.py\n",
    " create mode 100644 eupy/__init__.py\n",
    " create mode 100644 eupy/eu_calculations.py\n",
    " create mode 100644 eupy/integration_rules.py\n",
    " create mode 100644 eupy/testing/\n",
    " create mode 100644 eupy/utility_functions.py\n",
    " create mode 100644 requirements.txt\n",
    " create mode 100755 run.py\n",
    " create mode 100644 setup.cfg\n",
    " create mode 100644 setup.py\n",
    " \n",
    "```\n",
    "\n",
    "By adding a message to our commit, it is much easier to return to it later.\n",
    "    \n",
    "```shell\n",
    "$ git log\n",
    "commit 49593b8c447a9f023a35ff724a3467db2fe10037\n",
    "Author: Philipp Eisenhauer <eisenhauer@policy-lab.org>\n",
    "Date:   Mon Feb 1 21:11:58 2016 +0100\n",
    "\n",
    "    Initial commit of directory content.\n",
    "\n",
    "```  "
   ]
  },
  {
   "cell_type": "markdown",
   "metadata": {
    "slideshow": {
     "slide_type": "slide"
    }
   },
   "source": [
    "\n",
    "This brings us back to the beginning of our repository lifecycle.\n",
    "\n",
    "```shell\n",
    "$ git status\n",
    "On branch master\n",
    "Untracked files:\n",
    "  (use \"git add <file>...\" to include in what will be committed)\n",
    "\n",
    "        .coveralls.yml\n",
    "        .gitignore\n",
    "        .travis.yml\n",
    "\n",
    "nothing added to commit but untracked files present (use \"git add\" to track)\n",
    "```   \n",
    "\n",
    "Let us modify the setup of the random seed in *integration_rules.py* using our favourite editor and check for the current status of our files.\n",
    "\n",
    "```shell\n",
    "$ git status\n",
    "On branch master\n",
    "Changes not staged for commit:\n",
    "  (use \"git add <file>...\" to update what will be committed)\n",
    "  (use \"git checkout -- <file>...\" to discard changes in working directory)\n",
    "\n",
    "        modified:   eupy/integration_rules.py\n",
    "```   \n"
   ]
  },
  {
   "cell_type": "markdown",
   "metadata": {
    "slideshow": {
     "slide_type": "slide"
    }
   },
   "source": [
    "\n",
    "What exactly is the difference?\n",
    "\n",
    "```shell\n",
    "$ git diff\n",
    "diff --git a/eupy/integration_rules.py b/eupy/integration_rules.py\n",
    "index 66aab9c..d6d7dbd 100644\n",
    "--- a/eupy/integration_rules.py\n",
    "+++ b/eupy/integration_rules.py\n",
    "@@ -36,7 +36,7 @@ def naive_monte_carlo(func, bounds, num_draws, implementation, seed):\n",
    "     lower, upper = bounds\n",
    " \n",
    "     # Draw requested number of deviates.\n",
    "-    np.random.seed(seed)\n",
    "+    np.random.seed(123)\n",
    "     deviates = np.random.uniform(lower, upper, size=num_draws)\n",
    " \n",
    "     # Implement native Monte Carlo approach.\n",
    "```  \n",
    "\n"
   ]
  },
  {
   "cell_type": "markdown",
   "metadata": {
    "slideshow": {
     "slide_type": "slide"
    }
   },
   "source": [
    "In case we want to discard our changes now:\n",
    "\n",
    "```shell\n",
    "$ git checkout eupy/integration_rules.py\n",
    "```  \n",
    "\n",
    "In this case, we discard our changes immediately. However, we can always return to any version of our file ever commited.\n",
    "\n",
    "```shell\n",
    "$ git checkout IDENTIFIER eupy/integration_rules.py\n",
    "```  "
   ]
  },
  {
   "cell_type": "markdown",
   "metadata": {
    "slideshow": {
     "slide_type": "slide"
    }
   },
   "source": [
    "Once you are familiar with the basic workflow for versioning your own code, the natural next step is to share your code online. [*GitHub*](https://github.com) is a popular online hosting service. Among other benefits, you then have a backup copy of your files and can establish a tranparent workflow with your co-authors. \n",
    "\n",
    "Let us check out the repository for my current research on ambiguity [here](https://github.com/restudToolbox).\n"
   ]
  },
  {
   "cell_type": "markdown",
   "metadata": {
    "slideshow": {
     "slide_type": "slide"
    }
   },
   "source": [
    "## Testing"
   ]
  },
  {
   "cell_type": "markdown",
   "metadata": {
    "slideshow": {
     "slide_type": "slide"
    }
   },
   "source": [
    "### Key Challenges\n",
    "\n",
    "* How do I come up with good tests?\n",
    "\n",
    "* How can I make the process of testing the most convenient? \n",
    "\n"
   ]
  },
  {
   "cell_type": "markdown",
   "metadata": {
    "collapsed": true,
    "slideshow": {
     "slide_type": "fragment"
    }
   },
   "source": [
    "### Types of Tests\n",
    "\n",
    "* Unit Tests\n",
    "\n",
    "* Integration Tests\n",
    "\n",
    "* Regression Tests \n",
    "\n",
    "* ..."
   ]
  },
  {
   "cell_type": "markdown",
   "metadata": {
    "slideshow": {
     "slide_type": "slide"
    }
   },
   "source": [
    "We will need to generate a host of random requests for our testing battery."
   ]
  },
  {
   "cell_type": "code",
   "execution_count": null,
   "metadata": {
    "collapsed": true,
    "slideshow": {
     "slide_type": "-"
    }
   },
   "outputs": [],
   "source": [
    "def generate_random_request():\n",
    "    \"\"\" Generate a random admissible request.\n",
    "    \"\"\"\n",
    "    # Draw random deviates that honor the constraints for the utility\n",
    "    # function and distribution of returns.\n",
    "    alpha, shape = np.random.uniform(low=0.0001, size=2)\n",
    "    # Draw a random integration technique.\n",
    "    technique = np.random.choice(['naive_mc', 'quad'])\n",
    "    # Add options.\n",
    "    int_options = dict()\n",
    "    int_options['naive_mc'] = dict()\n",
    "    int_options['naive_mc']['implementation'] = \\\n",
    "                    np.random.choice(['slow', 'fast'])\n",
    "    int_options['naive_mc']['num_draws'] = np.random.random_integers(10, 1000)\n",
    "    int_options['naive_mc']['seed'] = np.random.random_integers(10, 1000)\n",
    "\n",
    "    # Finishing\n",
    "    return alpha, shape, technique, int_options\n"
   ]
  },
  {
   "cell_type": "markdown",
   "metadata": {
    "slideshow": {
     "slide_type": "slide"
    }
   },
   "source": [
    "### Example Tests"
   ]
  },
  {
   "cell_type": "code",
   "execution_count": null,
   "metadata": {
    "collapsed": true,
    "slideshow": {
     "slide_type": "-"
    }
   },
   "outputs": [],
   "source": [
    "def test_random_requests():\n",
    "    \"\"\" Draw a whole host of random requests to ensure that the function\n",
    "    works for all admissible values.\n",
    "    \"\"\"\n",
    "    for _ in range(100):\n",
    "        # Generate random request.\n",
    "        alpha, shape, technique, int_options = generate_random_request()\n",
    "        # Perform calculation.\n",
    "        eupy.get_baseline_lognormal(alpha, shape, technique, int_options)"
   ]
  },
  {
   "cell_type": "code",
   "execution_count": null,
   "metadata": {
    "collapsed": false,
    "slideshow": {
     "slide_type": "slide"
    }
   },
   "outputs": [],
   "source": [
    "def test_naive_implementations():\n",
    "    \"\"\" Test whether the results from the fast and slow implementation of the\n",
    "    naive monte carlo integration are identical.\n",
    "    \"\"\"\n",
    "    technique = 'naive_mc'\n",
    "    for _ in range(10):\n",
    "        # Generate random request.\n",
    "        alpha, shape, _, int_options = generate_random_request()\n",
    "        # Loop over alternative implementations.\n",
    "        baseline = None\n",
    "        for implementation in ['fast', 'slow']:eupy.\n",
    "            int_options['naive_mc']['implementation'] = implementation\n",
    "            rslt = eupy.get_baseline_lognormal(alpha, shape, technique, \n",
    "                                               int_options)\n",
    "            if baseline is None:\n",
    "                baseline = rslt\n",
    "        # Test equality.\n",
    "        np.testing.assert_almost_equal(baseline, rslt)"
   ]
  },
  {
   "cell_type": "code",
   "execution_count": null,
   "metadata": {
    "collapsed": true,
    "slideshow": {
     "slide_type": "slide"
    }
   },
   "outputs": [],
   "source": [
    "def test_regression():\n",
    "    \"\"\" This regression test ensures that the code does not change during\n",
    "    refactoring without noticing.\n",
    "    \"\"\"\n",
    "    # Set seed to avoid dependence of seed.\n",
    "    np.random.seed(123)\n",
    "    # Generate random request.\n",
    "    alpha, shape, technique, int_options = generate_random_request()\n",
    "    # Perform calculation.\n",
    "    rslt = eupy.get_baseline_lognormal(alpha, shape, technique, \n",
    "                                       int_options)\n",
    "    # Ensure equivalence with expected results up to numerical precision.\n",
    "    np.testing.assert_almost_equal(rslt, 0.21990743996551923)"
   ]
  },
  {
   "cell_type": "code",
   "execution_count": null,
   "metadata": {
    "collapsed": true,
    "slideshow": {
     "slide_type": "slide"
    }
   },
   "outputs": [],
   "source": [
    "def test_invalid_request():\n",
    "    \"\"\" Test that assertions are raised in case of a flawed request.\n",
    "    \"\"\"\n",
    "    with pytest.raises(AssertionError):\n",
    "        # Generate random request.\n",
    "        alpha, shape, technique, int_options = generate_random_request()\n",
    "        # Invalidate request.\n",
    "        technique = 'gaussian_quadrature'\n",
    "        # Parameters outside defined ranges.\n",
    "        eupy.get_baseline_lognormal(alpha, shape, technique, int_options)"
   ]
  },
  {
   "cell_type": "code",
   "execution_count": null,
   "metadata": {
    "collapsed": true,
    "slideshow": {
     "slide_type": "slide"
    }
   },
   "outputs": [],
   "source": [
    "def test_closed_form_naive():\n",
    "    \"\"\" Test whether the results line up with a closed form solution for the\n",
    "    special case, where alpha is set to zero. This function test the naive\n",
    "    monte carlo implementation.\n",
    "    \"\"\"\n",
    "    for _ in range(10):\n",
    "        # Generate random request.\n",
    "        alpha, shape, _, int_options = generate_random_request()\n",
    "        # Set options favourable.\n",
    "        int_options['naive_mc']['num_draws'] = 1000\n",
    "        int_options['naive_mc']['implementation'] = 'fast'\n",
    "        # Restrict to special case.\n",
    "        alpha, shape = 0.0, 0.001\n",
    "        # Calculate closed form solution and simulate special case.\n",
    "        closed_form = lognorm.mean(shape)\n",
    "        simulated = eupy.get_baseline_lognormal(alpha, shape, 'naive_mc',\n",
    "                                                int_options)\n",
    "        # Test equality.\n",
    "        np.testing.assert_almost_equal(closed_form, simulated, decimal=3)\n"
   ]
  },
  {
   "cell_type": "code",
   "execution_count": null,
   "metadata": {
    "collapsed": false,
    "slideshow": {
     "slide_type": "slide"
    }
   },
   "outputs": [],
   "source": [
    "''' Execute module as a script.\n",
    "'''\n",
    "\n",
    "if __name__ == \"__main__\":\n",
    "\n",
    "    test_random_requests()\n",
    "\n",
    "    test_invalid_request()\n",
    "\n",
    "    test_closed_form_quad()\n",
    "\n",
    "    test_naive_implementations()\n",
    "\n",
    "    test_closed_form_naive()\n",
    "\n",
    "    test_regression()"
   ]
  },
  {
   "cell_type": "markdown",
   "metadata": {
    "collapsed": true
   },
   "source": [
    "In principle, we can collect all our tests in a module and execute it as a script:\n",
    "\n",
    "```shell\n",
    "$ python eupy/testing/test_eupy.py\n",
    "```  \n"
   ]
  },
  {
   "cell_type": "markdown",
   "metadata": {
    "slideshow": {
     "slide_type": "slide"
    }
   },
   "source": [
    "### Problems\n",
    "\n",
    "* execution immediately stops, when test fails\n",
    "\n",
    "* uninformative error messages\n",
    "\n",
    "* ..."
   ]
  },
  {
   "cell_type": "markdown",
   "metadata": {
    "slideshow": {
     "slide_type": "slide"
    }
   },
   "source": [
    "Let us use an automated testing tool such as [*py.test*](http://pytest.org) instead.\n",
    "\n",
    "```shell\n",
    "$ py.test \n",
    "```  \n",
    "\n",
    "As usual, several alternatives exist: (1) [*nose*](https://nose.readthedocs.org/en/latest/), (2) [unittest](https://docs.python.org/2/library/unittest.html#module-unittest)."
   ]
  },
  {
   "cell_type": "markdown",
   "metadata": {
    "slideshow": {
     "slide_type": "slide"
    }
   },
   "source": [
    "How much of our code base is covered by tests at this point?"
   ]
  },
  {
   "cell_type": "markdown",
   "metadata": {
    "collapsed": false,
    "slideshow": {
     "slide_type": "-"
    }
   },
   "source": [
    "```shell\n",
    "$ py.test --cov=example\n",
    "\n",
    "Name                        Stmts   Miss  Cover\n",
    "-----------------------------------------------\n",
    "eupy/__init__.py                2      0   100%\n",
    "eupy/eu_calculations.py        29      2    93%\n",
    "eupy/integration_rules.py      31      6    81%\n",
    "eupy/testing/__init__.py        0      0   100%\n",
    "eupy/testing/checks.py         87     15    83%\n",
    "eupy/testing/test_eupy.py      67      6    91%\n",
    "eupy/utility_functions.py       6      0   100%\n",
    "-----------------------------------------------\n",
    "TOTAL                         222     29    87%\n",
    "\n",
    "```\n",
    "\n",
    "Coverage of integration rules is comparatively low. Why?"
   ]
  },
  {
   "cell_type": "markdown",
   "metadata": {
    "slideshow": {
     "slide_type": "slide"
    }
   },
   "source": [
    "## Automated Code Review"
   ]
  },
  {
   "cell_type": "markdown",
   "metadata": {
    "slideshow": {
     "slide_type": "slide"
    }
   },
   "source": [
    "\n",
    "There are several tools out there that I found useful in the past to improve the quality of my code along all the dimensions of quality we discussed: (1) [*QuantifiedCode*](https://www.quantifiedcode.com/) and (2) [*Codacy*](https://www.codacy.com). Let us visit *QuantifiedCode* online and take a look around."
   ]
  },
  {
   "cell_type": "markdown",
   "metadata": {
    "collapsed": false,
    "slideshow": {
     "slide_type": "slide"
    }
   },
   "source": [
    "<img src='images/quantifiedcode.png' width=\"950\" height=\"1000\">"
   ]
  },
  {
   "cell_type": "markdown",
   "metadata": {},
   "source": [
    "Using these tools helps us to improve your own programming skills over time as each of the issues is well explained and best practices provided. More lightweight solutions are also available: (1) [*Pylint*](http://www.pylint.org/), (2) [*Pyflakes*](https://github.com/pyflakes/pyflakes), and (3) [*pep8*](https://github.com/PyCQA/pep8)."
   ]
  },
  {
   "cell_type": "markdown",
   "metadata": {
    "slideshow": {
     "slide_type": "slide"
    }
   },
   "source": [
    "## Profiling"
   ]
  },
  {
   "cell_type": "markdown",
   "metadata": {},
   "source": [
    "> ... premature optimization is the root of all evil. (Knuth.1974)"
   ]
  },
  {
   "cell_type": "markdown",
   "metadata": {
    "slideshow": {
     "slide_type": "slide"
    }
   },
   "source": [
    "### Motivation\n",
    "\n",
    "* increase the complexity of models we can analyse\n",
    "\n",
    "* save computational resources\n",
    "\n",
    "* allow for more experimentation\n",
    "\n",
    "* speed up feedback loop\n",
    "\n",
    "* ..."
   ]
  },
  {
   "cell_type": "code",
   "execution_count": null,
   "metadata": {
    "collapsed": false,
    "slideshow": {
     "slide_type": "skip"
    }
   },
   "outputs": [],
   "source": [
    "# Add the eupy package to the PYTHONPATH\n",
    "import sys\n",
    "sys.path.insert(0, '../../../eupy')"
   ]
  },
  {
   "cell_type": "code",
   "execution_count": null,
   "metadata": {
    "collapsed": false,
    "slideshow": {
     "slide_type": "slide"
    }
   },
   "outputs": [],
   "source": [
    "# standard library\n",
    "import cProfile\n",
    "import time\n",
    "\n",
    "# project library\n",
    "from eupy import get_baseline_lognormal\n",
    "\n",
    "# Specify request\n",
    "alpha, shape, technique = 0.3, 0.1, 'naive_mc'\n",
    "\n",
    "int_options = dict()\n",
    "int_options['naive_mc'] = dict()\n",
    "int_options['naive_mc']['implementation'] = 'slow'\n",
    "int_options['naive_mc']['num_draws'] = 10000\n",
    "int_options['naive_mc']['seed'] = 123"
   ]
  },
  {
   "cell_type": "markdown",
   "metadata": {
    "slideshow": {
     "slide_type": "slide"
    }
   },
   "source": [
    "Let us first just measure the total execution time of our request."
   ]
  },
  {
   "cell_type": "code",
   "execution_count": null,
   "metadata": {
    "collapsed": false
   },
   "outputs": [],
   "source": [
    "# Iterate over both types of implementations\n",
    "for implementation in ['fast', 'slow']:\n",
    "    # Switch between the fast and slow implementation.\n",
    "    int_options['naive_mc']['implementation'] = implementation\n",
    "    # Get the computer time at the start\n",
    "    start_time = time.time()\n",
    "    # Execute the request.\n",
    "    get_baseline_lognormal(alpha, shape, technique, int_options)\n",
    "    # Print the time difference.\n",
    "    print(implementation, time.time() - start_time, \"seconds\")"
   ]
  },
  {
   "cell_type": "markdown",
   "metadata": {},
   "source": [
    "Let us now investigate where most of time is spent in a slow evaluation."
   ]
  },
  {
   "cell_type": "code",
   "execution_count": null,
   "metadata": {
    "collapsed": false,
    "slideshow": {
     "slide_type": "slide"
    }
   },
   "outputs": [],
   "source": [
    "# Profiler is part of the Python standard library.\n",
    "int_options['naive_mc']['implementation'] = 'slow'\n",
    "cProfile.run(\"get_baseline_lognormal(alpha, shape, technique, int_options)\")"
   ]
  },
  {
   "cell_type": "markdown",
   "metadata": {},
   "source": [
    "```shell\n",
    "         1260190 function calls in 1.068 seconds\n",
    "\n",
    "   Ordered by: standard name\n",
    "\n",
    "   ncalls  tottime  percall  cumtime  percall filename:lineno(function)\n",
    "    40004    0.079    0.000    0.209    0.000 basic_checks\n",
    "        1    0.000    0.000    0.000    0.000 check_integration_options\n",
    "        1    0.000    0.000    1.068    1.068 get_baseline_lognormal\n",
    "    10000    0.026    0.000    1.056    0.000 _wrapper_baseline\n",
    "        1    0.000    0.000    1.067    1.067 naive_monte_carlo\n",
    "        1    0.011    0.011    1.067    1.067 slow_implementation\n",
    "    10000    0.012    0.000    0.130    0.000 baseline_utility\n",
    "\n",
    "...\n",
    "\n",
    "```"
   ]
  },
  {
   "cell_type": "markdown",
   "metadata": {
    "slideshow": {
     "slide_type": "slide"
    }
   },
   "source": [
    "Luckily a graphical viewer for this output is available. We will use [snakeviz](https://jiffyclub.github.io/snakeviz/)."
   ]
  },
  {
   "cell_type": "markdown",
   "metadata": {
    "collapsed": false,
    "slideshow": {
     "slide_type": "-"
    }
   },
   "source": [
    "<img src='images/snakeviz.png' width=\"550\" height=\"600\">"
   ]
  },
  {
   "cell_type": "markdown",
   "metadata": {
    "slideshow": {
     "slide_type": "slide"
    }
   },
   "source": [
    "Let us inspect our package using this visualization tool."
   ]
  },
  {
   "cell_type": "code",
   "execution_count": null,
   "metadata": {
    "collapsed": true,
    "slideshow": {
     "slide_type": "-"
    }
   },
   "outputs": [],
   "source": [
    "# Profiler is part of the Python standard library.\n",
    "int_options['naive_mc']['implementation'] = 'slow'\n",
    "cProfile.run(\"get_baseline_lognormal(alpha, shape, technique, int_options)\", 'eupy.prof')"
   ]
  },
  {
   "cell_type": "markdown",
   "metadata": {},
   "source": [
    "Then we look at the report."
   ]
  },
  {
   "cell_type": "markdown",
   "metadata": {},
   "source": [
    "```shell\n",
    "$ snakeviz eupy.prof\n",
    "```  "
   ]
  },
  {
   "cell_type": "markdown",
   "metadata": {
    "slideshow": {
     "slide_type": "slide"
    }
   },
   "source": [
    "## Continuous Integration Workflow"
   ]
  },
  {
   "cell_type": "markdown",
   "metadata": {
    "slideshow": {
     "slide_type": "slide"
    }
   },
   "source": [
    "### Automation Steps\n",
    "\n",
    "* Version Control \n",
    "\n",
    "* Testing and Coverage\n",
    "\n",
    "* Code Review\n",
    "\n",
    "* Build\n",
    "\n",
    "* ...\n",
    "\n",
    "using [Github](https://github.com) and its [integrations](https://github.com/integrations) as the center."
   ]
  },
  {
   "cell_type": "markdown",
   "metadata": {
    "collapsed": false,
    "slideshow": {
     "slide_type": "slide"
    }
   },
   "source": [
    "<img src='images/continous_integration.png' width=\"950\" height=\"1000\">"
   ]
  },
  {
   "cell_type": "markdown",
   "metadata": {
    "slideshow": {
     "slide_type": "slide"
    }
   },
   "source": [
    "## Best Practices\n",
    "\n",
    "* Set up a scalable workflow right from the beginning.\n",
    "\n",
    "* Develop a testing harness as you impelement and refine your code.\n",
    "\n",
    "* Build your model in a hierarchical way.\n",
    "\n",
    "* Initially focus on the reability, testabilty, and scalability and then tackle performance constraints.\n"
   ]
  },
  {
   "cell_type": "markdown",
   "metadata": {
    "slideshow": {
     "slide_type": "slide"
    }
   },
   "source": [
    "## Next Steps\n",
    "\n",
    "* Check out more detailed lectures at the *Software Engineering for Economists Initiative* [online](https://github.com/softEcon).\n",
    "    * Contribute a lecture on a special topic of your choice. See [here](http://nbviewer.ipython.org/github/softEcon/specials/blob/master/toolkit_for_advanced_optimization/lecture.ipynb) for an example.\n",
    "    \n",
    "* Explore the material on [*Software Carpentry*](http://software-carpentry.org).\n",
    "    \n",
    "* Sign up for a personal [*GitHub*](https://github.com/) account and create a remote repository.\n",
    "\n",
    "* If you are using a Windows machine, download and install [*Ubuntu Desktop*](http://www.ubuntu.com/desktop).\n",
    "\n",
    "* Set aside a day or two to establish an continuous integration workflow for your current research project."
   ]
  },
  {
   "cell_type": "markdown",
   "metadata": {
    "slideshow": {
     "slide_type": "slide"
    }
   },
   "source": [
    "<style>\n",
    "li { margin: 1em 3em; padding: 0.2em; }\n",
    "</style>\n",
    "\n",
    "<h2>Contact</h2>\n",
    "\n",
    "<br><br>\n",
    "<b>Philipp Eisenhauer</b>\n",
    "<ul>\n",
    "  <li> Mail  <a href=\"mailto:eisenhauer@policy-lab.org\">eisenhauer@policy-lab.org</a></li><br>\n",
    "   <li>Web  <a href=\"http://eisenhauer.io\">http://eisenhauer.io</a></li><br>\n",
    "  <li>Repository  <a href=\"https://github.com/peisenha\">https://github.com/peisenha</a></li>\n",
    "</ul>\n",
    "\n",
    "<br><br>\n",
    "<b>Software Engineering for Economists Initiative</b>\n",
    "<ul>\n",
    "  <li>Overview  <a href=\"http://softecon.github.io\">http://softecon.github.io</a></li><br>\n",
    "  <li>Repository  <a href=\"https://github.com/softEcon\">https://github.com/softEcon</a></li><br>\n",
    "\n",
    "<br>\n",
    "</ul>\n"
   ]
  },
  {
   "cell_type": "code",
   "execution_count": null,
   "metadata": {
    "collapsed": false,
    "slideshow": {
     "slide_type": "skip"
    }
   },
   "outputs": [],
   "source": [
    "import urllib; from IPython.core.display import HTML\n",
    "HTML(urllib.urlopen('http://bit.ly/1K5apRH').read())"
   ]
  }
 ],
 "metadata": {
  "celltoolbar": "Slideshow",
  "kernelspec": {
   "display_name": "Python 3",
   "language": "python",
   "name": "python3"
  },
  "language_info": {
   "codemirror_mode": {
    "name": "ipython",
    "version": 3
   },
   "file_extension": ".py",
   "mimetype": "text/x-python",
   "name": "python",
   "nbconvert_exporter": "python",
   "pygments_lexer": "ipython3",
   "version": "3.5.2"
  }
 },
 "nbformat": 4,
 "nbformat_minor": 0
}
