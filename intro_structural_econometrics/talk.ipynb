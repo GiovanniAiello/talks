{
 "cells": [
  {
   "cell_type": "markdown",
   "metadata": {
    "collapsed": false,
    "slideshow": {
     "slide_type": "slide"
    }
   },
   "source": [
    "# Introduction to Structural Econometrics"
   ]
  },
  {
   "cell_type": "markdown",
   "metadata": {
    "slideshow": {
     "slide_type": "slide"
    }
   },
   "source": [
    "> Scientifically well-posed models make explicit the assumptions\n",
    "used by analysts regarding preferences, technology, the information available to agents, the\n",
    "constraints under which they operate, and the rules of interaction among agents in market\n",
    "and social settings and the sources of variability among agents."
   ]
  },
  {
   "cell_type": "markdown",
   "metadata": {
    "slideshow": {
     "slide_type": "slide"
    }
   },
   "source": [
    "## Why?\n",
    "\n",
    "* allows to study the economic mechanisms\n",
    "\n",
    "* allows for the ex ante evaluate the consequences of alternative policies"
   ]
  },
  {
   "cell_type": "markdown",
   "metadata": {
    "slideshow": {
     "slide_type": "slide"
    }
   },
   "source": [
    "## Why not?\n",
    "\n",
    "* requires skills in economics, numerical methods, and software engineering\n",
    "\n",
    "* ... "
   ]
  },
  {
   "cell_type": "markdown",
   "metadata": {
    "collapsed": true,
    "slideshow": {
     "slide_type": "slide"
    }
   },
   "source": [
    "<img src='images/venn_diagram.png' width=\"750\" height=\"750\">"
   ]
  },
  {
   "cell_type": "markdown",
   "metadata": {
    "slideshow": {
     "slide_type": "slide"
    }
   },
   "source": [
    "## Research Example\n",
    "\n",
    "### Human Capital Investments under Risk and Ambiguity\n",
    "\n",
    "* Plausible\n",
    "\n",
    "    * better description of agent decision problem\n",
    "    \n",
    "* Meaningful\n",
    "\n",
    "    * reinterpretation of economic phenomenon\n",
    "    * reevaluation of policy interventions\n",
    "\n",
    "* Tractable"
   ]
  }
 ],
 "metadata": {
  "celltoolbar": "Slideshow",
  "kernelspec": {
   "display_name": "Python 3",
   "language": "python",
   "name": "python3"
  },
  "language_info": {
   "codemirror_mode": {
    "name": "ipython",
    "version": 3
   },
   "file_extension": ".py",
   "mimetype": "text/x-python",
   "name": "python",
   "nbconvert_exporter": "python",
   "pygments_lexer": "ipython3",
   "version": "3.5.2"
  }
 },
 "nbformat": 4,
 "nbformat_minor": 0
}
