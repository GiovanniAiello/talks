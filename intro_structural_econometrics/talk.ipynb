{
 "cells": [
  {
   "cell_type": "markdown",
   "metadata": {
    "collapsed": false,
    "slideshow": {
     "slide_type": "slide"
    }
   },
   "source": [
    "# Introduction to Structural Econometrics"
   ]
  },
  {
   "cell_type": "markdown",
   "metadata": {
    "slideshow": {
     "slide_type": "slide"
    }
   },
   "source": [
    "> Scientifically well-posed models make explicit the assumptions\n",
    "used by analysts regarding preferences, technology, the information available to agents, the\n",
    "constraints under which they operate, and the rules of interaction among agents in market\n",
    "and social settings and the sources of variability among agents. (Heckman, 2008)"
   ]
  },
  {
   "cell_type": "markdown",
   "metadata": {
    "slideshow": {
     "slide_type": "slide"
    }
   },
   "source": [
    "## Why?\n",
    "\n",
    "* allows to study the economic mechanisms\n",
    "\n",
    "* allows for the ex ante evaluate the consequences of alternative policies"
   ]
  },
  {
   "cell_type": "markdown",
   "metadata": {
    "slideshow": {
     "slide_type": "slide"
    }
   },
   "source": [
    "## Why not?\n",
    "\n",
    "* requires skills in economics, numerical methods, and software engineering\n",
    "\n",
    "* ... "
   ]
  },
  {
   "cell_type": "markdown",
   "metadata": {
    "collapsed": true,
    "slideshow": {
     "slide_type": "slide"
    }
   },
   "source": [
    "<img src='images/venn_diagram.png' width=\"750\" height=\"750\">"
   ]
  },
  {
   "cell_type": "markdown",
   "metadata": {
    "slideshow": {
     "slide_type": "slide"
    }
   },
   "source": [
    "## Research Example\n",
    "\n",
    "### Human Capital Investments under Risk and Ambiguity\n",
    "\n",
    "* Plausible\n",
    "\n",
    "    * better description of agent decision problem\n",
    "    \n",
    "* Meaningful\n",
    "\n",
    "    * reinterpretation of economic phenomenon\n",
    "    * reevaluation of policy interventions\n",
    "\n",
    "* Tractable"
   ]
  },
  {
   "cell_type": "markdown",
   "metadata": {
    "slideshow": {
     "slide_type": "slide"
    }
   },
   "source": [
    "**Notation**\n",
    "\n",
    "$$\\begin{align*}\\begin{array}{ll}\n",
    "k = 1, ..., K \t\t\t\t&  \\text{Alternative}\\\\\n",
    "t = 1, ..., T\t&  \\text{Time}\\\\\n",
    "S(t)\t&  \\text{State Space at Time $t$}\\\\\n",
    "R_k(S(t),t)  &  \\text{Rewards for Alternative $k$ at Time $t$}\\\\\n",
    "d_k(t)  &  \\text{Indicator for Alternative $k$ at Time $t$}\\\\\n",
    "\\delta  & \\text{Discount Factor}\n",
    "\\end{array}\\end{align*}$$"
   ]
  },
  {
   "cell_type": "markdown",
   "metadata": {
    "slideshow": {
     "slide_type": "slide"
    }
   },
   "source": [
    "<img src='images/timing_events.png'>"
   ]
  },
  {
   "cell_type": "markdown",
   "metadata": {
    "slideshow": {
     "slide_type": "slide"
    }
   },
   "source": [
    "<img src='images/decision_tree.png'>"
   ]
  },
  {
   "cell_type": "markdown",
   "metadata": {
    "slideshow": {
     "slide_type": "slide"
    }
   },
   "source": [
    "**Bellman Equations**\n",
    "\n",
    "$$\\begin{align*}\n",
    "V(S(t),t) = \\max_{k \\in K}\\{V_k(S(t),t)\\},\n",
    "\\end{align*}$$\n",
    "\n",
    "where for all but the final period:\n",
    "$$\\begin{align*}\n",
    "V_k(S(t),t) = R_k(S(t),t) + \\delta E\\left[V(S(t + 1), t + 1)\\mid S(t), d_k(t) = 1\\right]\n",
    "\\end{align*}$$"
   ]
  },
  {
   "cell_type": "markdown",
   "metadata": {
    "slideshow": {
     "slide_type": "slide"
    }
   },
   "source": [
    "**Agents's Objective under Risk**\n",
    "        \n",
    "$$\\begin{align*}\n",
    "V(S(t),t) = \\max_{\\{d_k(t)\\}_{k \\in K}} E\\left[ \\sum_{\\tau = t}^T \\delta^{\\tau - t} \\sum_{k\\in K}R_k(\\tau)d_k(\\tau)\\Bigg| S(t)\\right]\\\\\n",
    "\\end{align*}$$"
   ]
  },
  {
   "cell_type": "markdown",
   "metadata": {
    "slideshow": {
     "slide_type": "slide"
    }
   },
   "source": [
    "**Agent Characteristics**\n",
    "\n",
    "$$\n",
    "\\begin{align*}\\begin{array}{ll}\n",
    "x_{1,t} &  \\text{Experience in Occupation A at Time $t$}\\\\\n",
    "x_{2,t} &  \\text{Experience in Occupation B at Time $t$}\\\\\n",
    "s_{t}  &  \\text{Years of Schooling at Time $t$}\n",
    "\\end{array}\\end{align*}\n",
    "$$\n"
   ]
  },
  {
   "cell_type": "markdown",
   "metadata": {
    "slideshow": {
     "slide_type": "slide"
    }
   },
   "source": [
    "**Reward Functions**\n",
    "\n",
    "$$\n",
    "\\begin{align*}\\begin{array}{ll}\n",
    "R_1(t) & = \\exp\\{\\alpha_{10} + \\alpha_{11}s_t + \\alpha_{12}x_{1,t} - \\alpha_{13}x_{1,t}^2 + \\alpha_{14}x_{2,t} - \\alpha_{15}x_{2,t}^2 + \\epsilon_{1,t}  \\}\\\\\n",
    "R_2(t) & = \\exp\\{\\alpha_{20} + \\alpha_{21}s_t + \\alpha_{22}x_{1,t} - \\alpha_{23}x_{1,t}^2 + \\alpha_{24}x_{2,t} - \\alpha_{25}x_{2,t}^2 + \\epsilon_{2,t}  \\}\\\\\n",
    "R_3(t) & = \\left(\\beta_0 - \\beta_1(1 - d_3(t - 1))\\right) - \\beta_2 I \\left[s_t \\geq 13 \\right] + \\epsilon_{3,t}\\\\\n",
    "R_4(t) & = \\gamma_0 + \\epsilon_{4,t}\\\\\n",
    "& \\\\\n",
    "\\epsilon &\\sim N(0, \\Sigma_\\epsilon)\n",
    "\\end{array}\\end{align*}\n",
    "$$"
   ]
  },
  {
   "cell_type": "markdown",
   "metadata": {
    "slideshow": {
     "slide_type": "slide"
    }
   },
   "source": [
    "## Wages and Schooling\n",
    "<img src='images/returns_schooling.png'>"
   ]
  },
  {
   "cell_type": "markdown",
   "metadata": {
    "slideshow": {
     "slide_type": "slide"
    }
   },
   "source": [
    "## Wages and Experience\n",
    "<img src='images/returns_experience.png'>"
   ]
  },
  {
   "cell_type": "markdown",
   "metadata": {
    "slideshow": {
     "slide_type": "slide"
    }
   },
   "source": [
    "**State Space**\n",
    "\n",
    "* at time $t$\n",
    "$$\\begin{align*}\n",
    "S(t) & = \\{s_t, x_{1,t}, x_{2,t}, d_3(t-1), \\epsilon_{1,t}, \\epsilon_{2,t}, \\epsilon_{3,t}, \\epsilon_{4,t}\\}\\\\\n",
    "\\end{align*}$$\n",
    "\n",
    "* laws of motion\n",
    "$$\\begin{align*}\n",
    "x_{j, t + 1} & = x_{j, t} + d_j(t) & \\forall\\quad j \\in \\{1, 2\\}  \\\\[1em]\n",
    "s_{t + 1}    & = s_t + d_3(t) &  \\\\[1em]\n",
    "f(\\epsilon_{t + 1}\\mid S(t), d_k(t)) & = f(\\epsilon_{t + 1}\\mid \\bar{S}(t), d_k(t))\n",
    "\\end{align*}\n",
    "$$\n"
   ]
  },
  {
   "cell_type": "markdown",
   "metadata": {
    "slideshow": {
     "slide_type": "slide"
    }
   },
   "source": [
    "## Choices over Time\n",
    "\n",
    "<img src='images/choices.png'>"
   ]
  },
  {
   "cell_type": "markdown",
   "metadata": {
    "slideshow": {
     "slide_type": "slide"
    }
   },
   "source": [
    "<img src='images/entropy.png'>"
   ]
  },
  {
   "cell_type": "code",
   "execution_count": null,
   "metadata": {
    "collapsed": true
   },
   "outputs": [],
   "source": []
  }
 ],
 "metadata": {
  "celltoolbar": "Slideshow",
  "kernelspec": {
   "display_name": "Python 3",
   "language": "python",
   "name": "python3"
  },
  "language_info": {
   "codemirror_mode": {
    "name": "ipython",
    "version": 3
   },
   "file_extension": ".py",
   "mimetype": "text/x-python",
   "name": "python",
   "nbconvert_exporter": "python",
   "pygments_lexer": "ipython3",
   "version": "3.5.2"
  }
 },
 "nbformat": 4,
 "nbformat_minor": 0
}
