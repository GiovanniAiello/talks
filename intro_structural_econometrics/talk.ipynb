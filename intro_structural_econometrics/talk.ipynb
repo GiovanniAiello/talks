{
 "cells": [
  {
   "cell_type": "markdown",
   "metadata": {
    "collapsed": false,
    "slideshow": {
     "slide_type": "slide"
    }
   },
   "source": [
    "# Introduction to Structural Econometrics\n",
    "\n",
    "<font size=\"3\"> ... background material available at <a href=\"https://github.com/softecon/talks\">https://github.com/softecon/talks</a>  </font>"
   ]
  },
  {
   "cell_type": "markdown",
   "metadata": {
    "slideshow": {
     "slide_type": "slide"
    }
   },
   "source": [
    "<blockquote>Scientifically well-posed models make explicit the assumptions used by analysts regarding preferences, technology, the information available to agents, the constraints under which they operate, and the rules of interaction among agents in market and social settings and the sources of variability among agents. (Heckman, 2008)</blockquote>\n",
    "\n"
   ]
  },
  {
   "cell_type": "markdown",
   "metadata": {
    "slideshow": {
     "slide_type": "slide"
    }
   },
   "source": [
    "## Why?\n",
    "\n",
    "* identify deep parameters and mechanisms governing economic behavior\n",
    "\n",
    "* provide counterfactual policy predictions\n",
    "\n",
    "* determine optimal policies\n",
    "\n",
    "* integrate separate results in unified framework"
   ]
  },
  {
   "cell_type": "markdown",
   "metadata": {
    "slideshow": {
     "slide_type": "slide"
    }
   },
   "source": [
    "## Why not?\n",
    "\n",
    "* requires skills in economics, numerical methods, and software engineering\n",
    "\n",
    "* scepticism within (parts) of the profession\n",
    "\n",
    "* long project durations\n",
    "\n",
    "* need for large computational resources\n",
    "\n",
    "* ... pretence of knowledge?"
   ]
  },
  {
   "cell_type": "markdown",
   "metadata": {
    "slideshow": {
     "slide_type": "slide"
    }
   },
   "source": [
    "## Areas of Application\n",
    "\n",
    "* Labor Economics\n",
    "\n",
    "* Industrial Organizations\n",
    "\n",
    "* Health Economics\n",
    "\n",
    "* Political Economy\n",
    "\n",
    "* Marketing\n",
    "\n",
    "* ..."
   ]
  },
  {
   "cell_type": "markdown",
   "metadata": {
    "collapsed": true,
    "slideshow": {
     "slide_type": "slide"
    }
   },
   "source": [
    "<img src='images/venn_diagram.png' width='750' height='750'>"
   ]
  },
  {
   "cell_type": "markdown",
   "metadata": {
    "slideshow": {
     "slide_type": "slide"
    }
   },
   "source": [
    "## Usefulness of Structural Econometric Models\n",
    "\n",
    "* ***Verification*** How accurately does the computational model solve the underlying equations of the model for the quantities of interest?\n",
    "\n",
    "* ***Validation*** How accurately does the model represent the reality for the quantities of interest?\n",
    "\n",
    "* ***Uncertainty Quantification*** How do the various sources of error and uncertainty feed into uncertainty in the model-based prediction of the quantities of interest?"
   ]
  },
  {
   "cell_type": "markdown",
   "metadata": {
    "slideshow": {
     "slide_type": "slide"
    }
   },
   "source": [
    "<img src='images/conceptual_model.png' width=\"750\" height=\"750\">"
   ]
  },
  {
   "cell_type": "markdown",
   "metadata": {
    "slideshow": {
     "slide_type": "slide"
    }
   },
   "source": [
    "### Developing, Estimating, and Validating Dynamic Microeconometric Models\n",
    "\n",
    "<br>\n",
    "<center><a href=\"http://www.youtube.com/watch?feature=player_embedded&v=0hazaPBAYWE\n",
    "\" target=\"_blank\"><img src=\"http://img.youtube.com/vi/0hazaPBAYWE/0.jpg\" \n",
    "alt=\"IMAGE ALT TEXT HERE\" width=\"500\" height=\"400\" border=\"10\" /></a></center>\n"
   ]
  },
  {
   "cell_type": "markdown",
   "metadata": {
    "slideshow": {
     "slide_type": "slide"
    }
   },
   "source": [
    "## Research Example\n",
    "\n",
    "### Robust Human Capital Investments under Risk and Ambiguity\n",
    "\n",
    "* Plausible\n",
    "\n",
    "    * better description of agent decision problem\n",
    "    \n",
    "* Meaningful\n",
    "\n",
    "    * reinterpretation of economic phenomenon\n",
    "    * reevaluation of policy interventions\n",
    "\n",
    "* Tractable"
   ]
  },
  {
   "cell_type": "markdown",
   "metadata": {
    "slideshow": {
     "slide_type": "slide"
    }
   },
   "source": [
    "#### Starting point ...\n",
    "\n",
    "Keane, M. and Wolpin, K. (1994).  The Solution and Estimation of Discrete Choice Dynamic Programming Models by Simulation and Interpolation: Monte Carlo Evidence. *The Review of Economics and Statistics*, 76(4):648–672."
   ]
  },
  {
   "cell_type": "markdown",
   "metadata": {
    "slideshow": {
     "slide_type": "slide"
    }
   },
   "source": [
    "## Basic Model with Risk"
   ]
  },
  {
   "cell_type": "markdown",
   "metadata": {
    "slideshow": {
     "slide_type": "slide"
    }
   },
   "source": [
    "#### Notation\n",
    "\n",
    "$$\\begin{align*}\\begin{array}{ll}\n",
    "&\\\\\n",
    "k = 1, ..., K \t\t\t\t&  \\text{Alternative}\\\\\n",
    "t = 1, ..., T\t&  \\text{Time}\\\\\n",
    "S(t)\t&  \\text{State Space at Time $t$}\\\\\n",
    "R_k(S(t),t)  &  \\text{Rewards for Alternative $k$ at Time $t$}\\\\\n",
    "d_k(t)  &  \\text{Indicator for Alternative $k$ at Time $t$}\\\\\n",
    "\\delta  & \\text{Discount Factor}\n",
    "\\end{array}\\end{align*}$$"
   ]
  },
  {
   "cell_type": "markdown",
   "metadata": {
    "slideshow": {
     "slide_type": "slide"
    }
   },
   "source": [
    "<center> <b><font size='6'> Timing of Information</font></b> \n",
    "<img src='images/timing_events.png' width='750' height='750'></center>"
   ]
  },
  {
   "cell_type": "markdown",
   "metadata": {
    "slideshow": {
     "slide_type": "slide"
    }
   },
   "source": [
    "<center> <b><font size='6'> Decision Tree</font></b> \n",
    "<img src='images/decision_tree.png' width='750' height='750'></center>"
   ]
  },
  {
   "cell_type": "markdown",
   "metadata": {
    "slideshow": {
     "slide_type": "slide"
    }
   },
   "source": [
    "#### Individual's Objective under Risk \n",
    "        \n",
    "$$\\begin{align*}\n",
    "\\\\\n",
    "V(S(t),t) = \\max_{\\{d_k(t)\\}_{k \\in K}} E\\left[ \\sum_{\\tau = t}^T \\delta^{\\tau - t} \\sum_{k\\in K}R_k(\\tau)d_k(\\tau)\\Bigg| S(t)\\right]\\\\\n",
    "\\\\\n",
    "\\end{align*}$$\n",
    "\n",
    "* What economic concepts are incorporated, which are missing?"
   ]
  },
  {
   "cell_type": "markdown",
   "metadata": {
    "slideshow": {
     "slide_type": "slide"
    }
   },
   "source": [
    "#### Dynamic Programming\n",
    "\n",
    "$$\\begin{align*}\n",
    "\\\\\n",
    "V(S(t),t) = \\max_{k \\in K}\\{V_k(S(t),t)\\},\n",
    "\\end{align*}$$\n",
    "\n",
    "where for all but the final period:\n",
    "\n",
    "$$\\begin{align*}\n",
    "\\\\\n",
    "V_k(S(t),t) = R_k(S(t),t) + \\delta E\\left[V(S(t + 1), t + 1)\\mid S(t), d_k(t) = 1\\right]\n",
    "\\end{align*}$$\n",
    "\n",
    "* What is the link beteen this solution method and dynamic decision making under uncertainty?"
   ]
  },
  {
   "cell_type": "markdown",
   "metadata": {
    "slideshow": {
     "slide_type": "slide"
    }
   },
   "source": [
    "#### Individual Characteristics\n",
    "\n",
    "$$\n",
    "\\begin{align*}\\begin{array}{ll}\n",
    "&\\\\\n",
    "x_{1,t} &  \\text{Experience in Occupation A at Time $t$}\\\\\n",
    "x_{2,t} &  \\text{Experience in Occupation B at Time $t$}\\\\\n",
    "s_{t}  &  \\text{Years of Schooling at Time $t$}\n",
    "\\end{array}\\end{align*}\n",
    "$$\n"
   ]
  },
  {
   "cell_type": "markdown",
   "metadata": {
    "slideshow": {
     "slide_type": "slide"
    }
   },
   "source": [
    "#### Reward Functions\n",
    "\n",
    "$$\n",
    "\\begin{align*}\\begin{array}{ll}\n",
    "&\\\\\n",
    "R_1(t) & = \\exp\\{\\alpha_{10} + \\alpha_{11}s_t + \\alpha_{12}x_{1,t} - \\alpha_{13}x_{1,t}^2 + \\alpha_{14}x_{2,t} - \\alpha_{15}x_{2,t}^2 + \\epsilon_{1,t}  \\}\\\\\n",
    "R_2(t) & = \\exp\\{\\alpha_{20} + \\alpha_{21}s_t + \\alpha_{22}x_{1,t} - \\alpha_{23}x_{1,t}^2 + \\alpha_{24}x_{2,t} - \\alpha_{25}x_{2,t}^2 + \\epsilon_{2,t}  \\}\\\\\n",
    "R_3(t) & = \\left(\\beta_0 - \\beta_1(1 - d_3(t - 1))\\right) - \\beta_2 I \\left[s_t \\geq 12 \\right] + \\epsilon_{3,t}\\\\\n",
    "R_4(t) & = \\gamma_0 + \\epsilon_{4,t}\\\\\n",
    "& \\\\\n",
    "\\epsilon &\\sim N(0, \\Sigma_\\epsilon)\\\\\n",
    "\\\\\n",
    "\\end{array}\\end{align*}\n",
    "$$\n",
    "\n",
    "* What economic concepts are incorporated, which are missing?"
   ]
  },
  {
   "cell_type": "markdown",
   "metadata": {
    "slideshow": {
     "slide_type": "slide"
    }
   },
   "source": [
    "### Underlying Model for Reward Function\n",
    "\n",
    "$$\n",
    "\\begin{align*}\n",
    "\\\\\n",
    "\\\\\n",
    "R_j(t)  = w_j(t)  = r_j e_j(t) \\qquad j = 1, 2\\\\\n",
    "\\\\\n",
    "\\\\\n",
    "\\end{align*}\n",
    "$$\n",
    "\n",
    "**Technology of Skill Production**\n",
    "\n",
    "$$\n",
    "\\begin{align*}\\begin{array}{ll}\n",
    "&\\\\\n",
    "e_j(t) = \\exp\\{ \\alpha_{j1}s_t + \\alpha_{j2}x_{1,t} - \\alpha_{j3}x_{1,t}^2 + \\alpha_{j4}x_{2,t} - \\alpha_{j5}x_{2,t}^2 + \\epsilon_{j,t}  \\}\\\\\n",
    "\\\\\n",
    "\\end{array}\\end{align*}\n",
    "$$\n",
    "\n",
    "**Wage Equation**\n",
    "$$\n",
    "\\begin{align*}\\begin{array}{ll}\n",
    "&\\\\\n",
    "\\ln w_j(t) = \\underbrace{\\ln r_j }_{\\alpha_{j0}} + \\alpha_{j1}s_t + \\alpha_{j2}x_{1,t} - \\alpha_{j3}x_{1,t}^2 + \\alpha_{j4}x_{2,t} - \\alpha_{j5}x_{2,t}^2 + \\epsilon_{j,t}  \\\\\n",
    "\\end{array}\\end{align*}\n",
    "$$\n",
    "\n"
   ]
  },
  {
   "cell_type": "markdown",
   "metadata": {
    "slideshow": {
     "slide_type": "slide"
    }
   },
   "source": [
    "<center> <b><font size='6'> Wages and Schooling</font></b> \n",
    "<img src='images/returns_schooling.png' width='750' height='750'></center>"
   ]
  },
  {
   "cell_type": "markdown",
   "metadata": {
    "slideshow": {
     "slide_type": "slide"
    }
   },
   "source": [
    "<center> <b><font size='6'> Wages and Experience</font></b> \n",
    "<img src='images/returns_experience.png' width='750' height='750'></center>"
   ]
  },
  {
   "cell_type": "markdown",
   "metadata": {
    "slideshow": {
     "slide_type": "slide"
    }
   },
   "source": [
    "**State Space**\n",
    "\n",
    "* at time $t$\n",
    "\n",
    "$$\\begin{align*}\n",
    "\\\\\n",
    "S(t) & = \\{s_t, x_{1,t}, x_{2,t}, d_3(t-1), \\epsilon_{1,t}, \\epsilon_{2,t}, \\epsilon_{3,t}, \\epsilon_{4,t}\\}\\\\\n",
    "\\end{align*}$$\n",
    "\n",
    "* laws of motion\n",
    "\n",
    "$$\\begin{align*}\n",
    "&\\\\\n",
    "x_{j, t + 1} & = x_{j, t} + d_j(t) & \\forall\\quad j \\in \\{1, 2\\}  \\\\[1em]\n",
    "s_{t + 1}    & = s_t + d_3(t) &  \\\\[1em]\n",
    "f(\\epsilon_{t + 1}\\mid S(t), d_k(t)) & = f(\\epsilon_{t + 1}\\mid \\bar{S}(t), d_k(t))\n",
    "\\end{align*}\n",
    "$$\n"
   ]
  },
  {
   "cell_type": "markdown",
   "metadata": {
    "slideshow": {
     "slide_type": "slide"
    }
   },
   "source": [
    "<center> <b><font size='6'> Choices over Time</font></b> \n",
    "<img src='images/choices.png' width='750' height='750'></center>"
   ]
  },
  {
   "cell_type": "markdown",
   "metadata": {
    "slideshow": {
     "slide_type": "slide"
    }
   },
   "source": [
    "## Basic Model with Risk and Ambiguity"
   ]
  },
  {
   "cell_type": "markdown",
   "metadata": {
    "slideshow": {
     "slide_type": "slide"
    }
   },
   "source": [
    "<center> <b><font size='6'> Robust Decision Making</font></b> \n",
    "<img src='images/robustness.png' width='750' height='750'></center>"
   ]
  },
  {
   "cell_type": "markdown",
   "metadata": {
    "slideshow": {
     "slide_type": "slide"
    }
   },
   "source": [
    "#### Set of Admissible Beliefs\n",
    "\n",
    "$$\\begin{align*}\n",
    "\\\\\n",
    "\\\\\n",
    "N = \\{\\mathcal{N} \\in \\mathrm{Q}: D_{KL}(\\mathcal{N}_0\\mid \\mathcal{N}) \\leq \\theta\\}\\\\\n",
    "\\end{align*}\n",
    "$$\n",
    "\n",
    "*Distribution of Labor Market Shocks*\n",
    "\n",
    "$$\n",
    "\\begin{eqnarray*}\n",
    "\\\\\n",
    "\\begin{pmatrix}\n",
    "\\epsilon_{1,t}\\\\\n",
    "\\epsilon_{2,t}\n",
    "\\end{pmatrix} & \\sim & \\mathcal{N}\\left[\\left(\\begin{array}{c}\n",
    "\\mu_{\\epsilon_{1, t}}\\\\\n",
    "\\mu_{\\epsilon_{2, t}}\n",
    "\\end{array}\\right),\\left(\\begin{array}{cccc}\n",
    "16\\times10^{-4}  &   0.00   \\\\\n",
    "0.00            &   25\\times10^{-2}\n",
    "\\end{array}\\right)\\right]\n",
    "\\end{eqnarray*}$$"
   ]
  },
  {
   "cell_type": "markdown",
   "metadata": {
    "slideshow": {
     "slide_type": "slide"
    }
   },
   "source": [
    "<center> <b><font size='6'> Exploring Set of Admissible Beliefs</font></b>\n",
    "<img src='images/entropy.png' width='750' height='750'></center>"
   ]
  },
  {
   "cell_type": "markdown",
   "metadata": {
    "collapsed": true,
    "slideshow": {
     "slide_type": "slide"
    }
   },
   "source": [
    "<center> <b><font size='6'> Admissible Values</font></b> \n",
    "<img src='images/admissible_values.png' width='750' height='750'></center>"
   ]
  },
  {
   "cell_type": "markdown",
   "metadata": {
    "slideshow": {
     "slide_type": "slide"
    }
   },
   "source": [
    "#### Individual's Objective under Ambiguity\n",
    "\n",
    "$$\\begin{align*} \n",
    "&\\\\\n",
    "V^*(S(t),t) = \\max_{\\{d_k(t)\\}_{k \\in K}} \\left\\{ \\min_{{\\mathcal{N}} \\in {\\mathbb{N}}}E_{{\\mathcal{N}}}\\left[ \\sum_{\\tau = t}^T \\delta^{\\tau - t} \\sum_{k\\in K}R_k(\\tau)d_k(\\tau)\\Bigg| S(t)\\right]\\right\\}\\\\\n",
    "\\\\\n",
    "\\end{align*}$$\n",
    "\n",
    "* What economic concepts are incorporated, which are missing?"
   ]
  },
  {
   "cell_type": "markdown",
   "metadata": {
    "slideshow": {
     "slide_type": "slide"
    }
   },
   "source": [
    "#### Robust Dynamic Programming\n",
    "\n",
    "$$\\begin{align*}\n",
    "\\\\\n",
    "V^*(S(t),t) = \\max_{k \\in K}\\{V^*_k(S(t),t)\\}, \\\\\n",
    "\\end{align*}$$\n",
    "where for all but the final period:\n",
    "\n",
    "$$\\begin{align*}\n",
    "\\\\\n",
    "V^*_k(S(t),t) = R_k(S(t),t) + \\delta \\min_{\\mathcal{N} \\in \\mathbb{N}}E_\\mathcal{N}\\left[V^*(S(t + 1), t + 1)\\mid\\cdot\\right] \\end{align*}\n",
    "$$"
   ]
  },
  {
   "cell_type": "markdown",
   "metadata": {
    "slideshow": {
     "slide_type": "slide"
    }
   },
   "source": [
    "<center> <b><font size='6'>Quantifying Level of Ambiguity</font></b> \n",
    "<img src='images/table_quantification_ambiguity.png' width='750' height='750'></center>"
   ]
  },
  {
   "cell_type": "markdown",
   "metadata": {
    "collapsed": true,
    "slideshow": {
     "slide_type": "slide"
    }
   },
   "source": [
    "<center> <b><font size='6'> Changing Schooling Investment</font></b> \n",
    "<img src='images/schooling_ambiguity.png' width='750' height='750'></center>"
   ]
  },
  {
   "cell_type": "markdown",
   "metadata": {
    "slideshow": {
     "slide_type": "slide"
    }
   },
   "source": [
    "<center> <b><font size='6'>Changing Occupational Sorting</font></b> \n",
    "<img src='images/table_occupational_sorting.png' width='750' height='750'></center>"
   ]
  },
  {
   "cell_type": "markdown",
   "metadata": {
    "slideshow": {
     "slide_type": "slide"
    }
   },
   "source": [
    "<center> <b><font size='6'> Assessing Model Misspecification </font></b>\n",
    "<img src='images/model_misspecification.png' width='750' height='750'></center>"
   ]
  },
  {
   "cell_type": "markdown",
   "metadata": {
    "slideshow": {
     "slide_type": "slide"
    }
   },
   "source": [
    "### Psychic Costs\n",
    "\n",
    "The estimated costs of post-secondary education in dynamic life-cycle models of educational choice are usually way too large to be due to tuition costs alone. The importance of psychic costs as a determinant of educational choices is a common finding in the literature."
   ]
  },
  {
   "cell_type": "markdown",
   "metadata": {
    "slideshow": {
     "slide_type": "slide"
    }
   },
   "source": [
    "<center> <b><font size='6'>Modeling Trade-off</font></b>\n",
    "<img src='images/psychic_costs_curve.png' width='700' height='700'></center>"
   ]
  },
  {
   "cell_type": "markdown",
   "metadata": {
    "slideshow": {
     "slide_type": "slide"
    }
   },
   "source": [
    "<center> <b><font size='6'>Model Misspecification and Psychic Costs Estimates</font></b>\n",
    "<img src='images/table_psychic_costs.png' width='700' height='700'></center>"
   ]
  },
  {
   "cell_type": "markdown",
   "metadata": {
    "slideshow": {
     "slide_type": "slide"
    }
   },
   "source": [
    "<center> <b><font size='6'>Ex-Ante Evaluation of Tuition Policy</font></b>\n",
    "<img src='images/table_policy_evaluation.png' width='700' height='700'></center>"
   ]
  },
  {
   "cell_type": "markdown",
   "metadata": {
    "slideshow": {
     "slide_type": "slide"
    }
   },
   "source": [
    "<style>\n",
    "li { margin: 1em 3em; padding: 0.2em; }\n",
    "</style>\n",
    "\n",
    "<h2>Contact</h2>\n",
    "\n",
    "<br><br>\n",
    "<b>Philipp Eisenhauer</b>\n",
    "<ul>\n",
    "  <li> Mail  <a href=\"mailto:eisenhauer@policy-lab.org\">eisenhauer@policy-lab.org</a></li><br>\n",
    "   <li>Web  <a href=\"http://eisenhauer.io\">http://eisenhauer.io</a></li><br>\n",
    "  <li>Repository  <a href=\"https://github.com/peisenha\">https://github.com/peisenha</a></li>\n",
    "</ul>\n",
    "\n",
    "<br><br>\n",
    "<b>Software Engineering for Economists Initiative</b>\n",
    "<ul>\n",
    "  <li>Overview  <a href=\"http://softecon.github.io\">http://softecon.github.io</a></li><br>\n",
    "  <li>Repository  <a href=\"https://github.com/softEcon\">https://github.com/softEcon</a></li><br>\n",
    "\n",
    "<br>\n",
    "</ul>\n"
   ]
  }
 ],
 "metadata": {
  "celltoolbar": "Slideshow",
  "kernelspec": {
   "display_name": "Python 3",
   "language": "python",
   "name": "python3"
  },
  "language_info": {
   "codemirror_mode": {
    "name": "ipython",
    "version": 3
   },
   "file_extension": ".py",
   "mimetype": "text/x-python",
   "name": "python",
   "nbconvert_exporter": "python",
   "pygments_lexer": "ipython3",
   "version": "3.5.2"
  }
 },
 "nbformat": 4,
 "nbformat_minor": 0
}
